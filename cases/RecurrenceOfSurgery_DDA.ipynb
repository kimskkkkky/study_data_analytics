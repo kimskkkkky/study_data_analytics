{
 "cells": [
  {
   "cell_type": "code",
   "execution_count": 1,
   "id": "a362cb02-dd04-4262-a52c-caa6b030fa5e",
   "metadata": {
    "tags": []
   },
   "outputs": [],
   "source": [
    "import pymongo as mg\n",
    "import pandas as pd"
   ]
  },
  {
   "cell_type": "code",
   "execution_count": 4,
   "id": "7c31a6a8-2847-481b-ae7e-2ac26e208c9b",
   "metadata": {
    "tags": []
   },
   "outputs": [],
   "source": [
    "client = mg.MongoClient(host='mongodb://localhost:27017')"
   ]
  },
  {
   "cell_type": "code",
   "execution_count": 5,
   "id": "d5762aef-7cca-465c-af0a-be5debd5ba54",
   "metadata": {
    "tags": []
   },
   "outputs": [
    {
     "data": {
      "text/plain": [
       "Database(MongoClient(host=['localhost:27017'], document_class=dict, tz_aware=False, connect=True), 'db_medicals')"
      ]
     },
     "execution_count": 5,
     "metadata": {},
     "output_type": "execute_result"
    }
   ],
   "source": [
    "database = client['db_medicals']\n",
    "database"
   ]
  },
  {
   "cell_type": "code",
   "execution_count": 6,
   "id": "5b3eea90-ccd1-4d36-b091-bb8db4428360",
   "metadata": {
    "tags": []
   },
   "outputs": [
    {
     "data": {
      "text/plain": [
       "Collection(Database(MongoClient(host=['localhost:27017'], document_class=dict, tz_aware=False, connect=True), 'db_medicals'), 'RecurrenceOfSurgery')"
      ]
     },
     "execution_count": 6,
     "metadata": {},
     "output_type": "execute_result"
    }
   ],
   "source": [
    "collection = database['RecurrenceOfSurgery']\n",
    "collection"
   ]
  },
  {
   "cell_type": "code",
   "execution_count": 7,
   "id": "b0821fd4-66b9-4700-b931-3f1a3e9bef7c",
   "metadata": {
    "tags": []
   },
   "outputs": [],
   "source": [
    "cursor = collection.find({})"
   ]
  },
  {
   "cell_type": "code",
   "execution_count": 8,
   "id": "c916b042-9b93-461a-b7be-fd9624487871",
   "metadata": {
    "tags": []
   },
   "outputs": [],
   "source": [
    "data_list = list(cursor)"
   ]
  },
  {
   "cell_type": "code",
   "execution_count": 9,
   "id": "e1f221d4-a44a-4af0-917c-479f3fbeeb27",
   "metadata": {
    "tags": []
   },
   "outputs": [
    {
     "data": {
      "text/html": [
       "<div>\n",
       "<style scoped>\n",
       "    .dataframe tbody tr th:only-of-type {\n",
       "        vertical-align: middle;\n",
       "    }\n",
       "\n",
       "    .dataframe tbody tr th {\n",
       "        vertical-align: top;\n",
       "    }\n",
       "\n",
       "    .dataframe thead th {\n",
       "        text-align: right;\n",
       "    }\n",
       "</style>\n",
       "<table border=\"1\" class=\"dataframe\">\n",
       "  <thead>\n",
       "    <tr style=\"text-align: right;\">\n",
       "      <th></th>\n",
       "      <th>_id</th>\n",
       "      <th>Unnamed: 0</th>\n",
       "      <th>환자ID</th>\n",
       "      <th>Large Lymphocyte</th>\n",
       "      <th>Location of herniation</th>\n",
       "      <th>ODI</th>\n",
       "      <th>가족력</th>\n",
       "      <th>간질성폐질환</th>\n",
       "      <th>고혈압여부</th>\n",
       "      <th>과거수술횟수</th>\n",
       "      <th>...</th>\n",
       "      <th>Modic change</th>\n",
       "      <th>PI</th>\n",
       "      <th>PT</th>\n",
       "      <th>Seg Angle(raw)</th>\n",
       "      <th>Vaccum disc</th>\n",
       "      <th>골밀도</th>\n",
       "      <th>디스크단면적</th>\n",
       "      <th>디스크위치</th>\n",
       "      <th>척추이동척도</th>\n",
       "      <th>척추전방위증</th>\n",
       "    </tr>\n",
       "  </thead>\n",
       "  <tbody>\n",
       "    <tr>\n",
       "      <th>0</th>\n",
       "      <td>64d33876d50e73290b2fe355</td>\n",
       "      <td>0</td>\n",
       "      <td>1PT</td>\n",
       "      <td>22.8</td>\n",
       "      <td>3</td>\n",
       "      <td>51.0</td>\n",
       "      <td>0.0</td>\n",
       "      <td>0</td>\n",
       "      <td>0</td>\n",
       "      <td>0</td>\n",
       "      <td>...</td>\n",
       "      <td>3</td>\n",
       "      <td>51.6</td>\n",
       "      <td>36.6</td>\n",
       "      <td>14.4</td>\n",
       "      <td>0</td>\n",
       "      <td>-1.01</td>\n",
       "      <td>2048.5</td>\n",
       "      <td>4</td>\n",
       "      <td>Down</td>\n",
       "      <td>0</td>\n",
       "    </tr>\n",
       "    <tr>\n",
       "      <th>1</th>\n",
       "      <td>64d33876d50e73290b2fe356</td>\n",
       "      <td>1</td>\n",
       "      <td>2PT</td>\n",
       "      <td>44.9</td>\n",
       "      <td>4</td>\n",
       "      <td>26.0</td>\n",
       "      <td>0.0</td>\n",
       "      <td>0</td>\n",
       "      <td>0</td>\n",
       "      <td>0</td>\n",
       "      <td>...</td>\n",
       "      <td>0</td>\n",
       "      <td>40.8</td>\n",
       "      <td>7.2</td>\n",
       "      <td>17.8</td>\n",
       "      <td>0</td>\n",
       "      <td>-1.14</td>\n",
       "      <td>1753.1</td>\n",
       "      <td>4</td>\n",
       "      <td>Up</td>\n",
       "      <td>0</td>\n",
       "    </tr>\n",
       "  </tbody>\n",
       "</table>\n",
       "<p>2 rows × 53 columns</p>\n",
       "</div>"
      ],
      "text/plain": [
       "                        _id  Unnamed: 0 환자ID  Large Lymphocyte  \\\n",
       "0  64d33876d50e73290b2fe355           0  1PT              22.8   \n",
       "1  64d33876d50e73290b2fe356           1  2PT              44.9   \n",
       "\n",
       "   Location of herniation   ODI  가족력  간질성폐질환  고혈압여부  과거수술횟수  ...  \\\n",
       "0                       3  51.0  0.0       0      0       0  ...   \n",
       "1                       4  26.0  0.0       0      0       0  ...   \n",
       "\n",
       "   Modic change    PI    PT  Seg Angle(raw)  Vaccum disc   골밀도  디스크단면적  디스크위치  \\\n",
       "0             3  51.6  36.6            14.4            0 -1.01  2048.5      4   \n",
       "1             0  40.8   7.2            17.8            0 -1.14  1753.1      4   \n",
       "\n",
       "   척추이동척도  척추전방위증  \n",
       "0    Down       0  \n",
       "1      Up       0  \n",
       "\n",
       "[2 rows x 53 columns]"
      ]
     },
     "execution_count": 9,
     "metadata": {},
     "output_type": "execute_result"
    }
   ],
   "source": [
    "df_ROS = pd.DataFrame(data_list)\n",
    "df_ROS.head(2)"
   ]
  },
  {
   "cell_type": "markdown",
   "id": "f2cd3be7-ee0b-4da6-9dfd-0dc89dd45e00",
   "metadata": {
    "tags": []
   },
   "source": [
    "### * 분석에 필요 없는 컬럼을 drop 시키기 위해 컬럼 갯수, 정보 확인"
   ]
  },
  {
   "cell_type": "code",
   "execution_count": 11,
   "id": "255a7b6d-f253-45d1-87b5-3082b0de085b",
   "metadata": {
    "tags": []
   },
   "outputs": [
    {
     "name": "stdout",
     "output_type": "stream",
     "text": [
      "<class 'pandas.core.frame.DataFrame'>\n",
      "RangeIndex: 1894 entries, 0 to 1893\n",
      "Data columns (total 53 columns):\n",
      " #   Column                  Non-Null Count  Dtype  \n",
      "---  ------                  --------------  -----  \n",
      " 0   _id                     1894 non-null   object \n",
      " 1   Unnamed: 0              1894 non-null   int64  \n",
      " 2   환자ID                    1894 non-null   object \n",
      " 3   Large Lymphocyte        1894 non-null   float64\n",
      " 4   Location of herniation  1894 non-null   int64  \n",
      " 5   ODI                     462 non-null    float64\n",
      " 6   가족력                     1843 non-null   float64\n",
      " 7   간질성폐질환                  1894 non-null   int64  \n",
      " 8   고혈압여부                   1894 non-null   int64  \n",
      " 9   과거수술횟수                  1894 non-null   int64  \n",
      " 10  당뇨여부                    1894 non-null   int64  \n",
      " 11  말초동맥질환여부                1894 non-null   int64  \n",
      " 12  빈혈여부                    1894 non-null   int64  \n",
      " 13  성별                      1894 non-null   int64  \n",
      " 14  스테로이드치료                 1894 non-null   int64  \n",
      " 15  신부전여부                   1894 non-null   int64  \n",
      " 16  신장                      1894 non-null   int64  \n",
      " 17  심혈관질환                   1894 non-null   int64  \n",
      " 18  암발병여부                   1894 non-null   int64  \n",
      " 19  연령                      1894 non-null   int64  \n",
      " 20  우울증여부                   1894 non-null   int64  \n",
      " 21  입원기간                    1894 non-null   int64  \n",
      " 22  입원일자                    1894 non-null   int64  \n",
      " 23  종양진행여부                  1894 non-null   int64  \n",
      " 24  직업                      1479 non-null   object \n",
      " 25  체중                      1894 non-null   float64\n",
      " 26  퇴원일자                    1894 non-null   int64  \n",
      " 27  헤모글로빈수치                 1893 non-null   float64\n",
      " 28  혈전합병증여부                 1894 non-null   int64  \n",
      " 29  환자통증정도                  1894 non-null   int64  \n",
      " 30  흡연여부                    1894 non-null   int64  \n",
      " 31  통증기간(월)                 1890 non-null   float64\n",
      " 32  수술기법                    1813 non-null   object \n",
      " 33  수술시간                    1840 non-null   float64\n",
      " 34  수술실패여부                  1894 non-null   int64  \n",
      " 35  수술일자                    1894 non-null   int64  \n",
      " 36  재발여부                    1894 non-null   int64  \n",
      " 37  혈액형                     1894 non-null   object \n",
      " 38  전방디스크높이(mm)             1894 non-null   float64\n",
      " 39  후방디스크높이(mm)             1894 non-null   float64\n",
      " 40  지방축적도                   1891 non-null   float64\n",
      " 41  Instability             1894 non-null   int64  \n",
      " 42  MF + ES                 1894 non-null   float64\n",
      " 43  Modic change            1894 non-null   int64  \n",
      " 44  PI                      1890 non-null   float64\n",
      " 45  PT                      1890 non-null   float64\n",
      " 46  Seg Angle(raw)          1893 non-null   float64\n",
      " 47  Vaccum disc             1894 non-null   int64  \n",
      " 48  골밀도                     998 non-null    float64\n",
      " 49  디스크단면적                  1893 non-null   float64\n",
      " 50  디스크위치                   1894 non-null   int64  \n",
      " 51  척추이동척도                  1894 non-null   object \n",
      " 52  척추전방위증                  1894 non-null   int64  \n",
      "dtypes: float64(16), int64(31), object(6)\n",
      "memory usage: 784.4+ KB\n"
     ]
    }
   ],
   "source": [
    "df_ROS.info()"
   ]
  },
  {
   "cell_type": "code",
   "execution_count": 17,
   "id": "75433a36-9abe-4116-9558-e726afcad49d",
   "metadata": {
    "tags": []
   },
   "outputs": [
    {
     "data": {
      "text/plain": [
       "TELD    1673\n",
       "IELD     140\n",
       "Name: 수술기법, dtype: int64"
      ]
     },
     "execution_count": 17,
     "metadata": {},
     "output_type": "execute_result"
    }
   ],
   "source": [
    "df_ROS['수술기법'].value_counts()"
   ]
  },
  {
   "cell_type": "markdown",
   "id": "98f6d0d4-e33e-4920-aac3-f63b50cb879c",
   "metadata": {},
   "source": [
    "### * 컬럼을 drop시키기 위해 컬럼명 확인 (디스크 관련 데이터 인것 같다)"
   ]
  },
  {
   "cell_type": "code",
   "execution_count": 20,
   "id": "48ad6f4d-cf62-4543-9a36-cee835944931",
   "metadata": {
    "tags": []
   },
   "outputs": [
    {
     "data": {
      "text/plain": [
       "Index(['_id', 'Unnamed: 0', '환자ID', 'Large Lymphocyte',\n",
       "       'Location of herniation', 'ODI', '가족력', '간질성폐질환', '고혈압여부', '과거수술횟수',\n",
       "       '당뇨여부', '말초동맥질환여부', '빈혈여부', '성별', '스테로이드치료', '신부전여부', '신장', '심혈관질환',\n",
       "       '암발병여부', '연령', '우울증여부', '입원기간', '입원일자', '종양진행여부', '직업', '체중', '퇴원일자',\n",
       "       '헤모글로빈수치', '혈전합병증여부', '환자통증정도', '흡연여부', '통증기간(월)', '수술기법', '수술시간',\n",
       "       '수술실패여부', '수술일자', '재발여부', '혈액형', '전방디스크높이(mm)', '후방디스크높이(mm)', '지방축적도',\n",
       "       'Instability', 'MF + ES', 'Modic change', 'PI', 'PT', 'Seg Angle(raw)',\n",
       "       'Vaccum disc', '골밀도', '디스크단면적', '디스크위치', '척추이동척도', '척추전방위증'],\n",
       "      dtype='object')"
      ]
     },
     "execution_count": 20,
     "metadata": {},
     "output_type": "execute_result"
    }
   ],
   "source": [
    "df_ROS.columns"
   ]
  },
  {
   "cell_type": "markdown",
   "id": "7671a77e-c077-4c36-84da-9cf670a29210",
   "metadata": {},
   "source": [
    "### 나는 체중에 따른 디스크를 분석할것이다."
   ]
  },
  {
   "cell_type": "code",
   "execution_count": 21,
   "id": "7a4a6444-2160-46c2-9cb7-8401e1637cda",
   "metadata": {
    "tags": []
   },
   "outputs": [],
   "source": [
    "df_ROS_dropcol = df_ROS.drop(columns=['_id', 'Unnamed: 0', '환자ID', 'Large Lymphocyte',\n",
    "       'Location of herniation', 'ODI', '가족력', '간질성폐질환', '고혈압여부', '과거수술횟수',\n",
    "       '당뇨여부', '말초동맥질환여부', '빈혈여부', '성별', '스테로이드치료', '신부전여부', '신장', '심혈관질환',\n",
    "       '암발병여부', '연령', '우울증여부', '입원기간', '입원일자', '종양진행여부', '직업','퇴원일자',\n",
    "       '헤모글로빈수치', '혈전합병증여부', '환자통증정도', '흡연여부', '통증기간(월)','수술기법', '수술시간',\n",
    "       '수술실패여부', '수술일자', '재발여부', '혈액형', 'Instability', 'MF + ES', 'Modic change', 'PI', 'PT', 'Seg Angle(raw)','Vaccum disc', ])"
   ]
  },
  {
   "cell_type": "code",
   "execution_count": 23,
   "id": "f3a82162-824d-49ec-b6a3-b3a757571a79",
   "metadata": {
    "tags": []
   },
   "outputs": [
    {
     "name": "stdout",
     "output_type": "stream",
     "text": [
      "<class 'pandas.core.frame.DataFrame'>\n",
      "RangeIndex: 1894 entries, 0 to 1893\n",
      "Data columns (total 9 columns):\n",
      " #   Column       Non-Null Count  Dtype  \n",
      "---  ------       --------------  -----  \n",
      " 0   체중           1894 non-null   float64\n",
      " 1   전방디스크높이(mm)  1894 non-null   float64\n",
      " 2   후방디스크높이(mm)  1894 non-null   float64\n",
      " 3   지방축적도        1891 non-null   float64\n",
      " 4   골밀도          998 non-null    float64\n",
      " 5   디스크단면적       1893 non-null   float64\n",
      " 6   디스크위치        1894 non-null   int64  \n",
      " 7   척추이동척도       1894 non-null   object \n",
      " 8   척추전방위증       1894 non-null   int64  \n",
      "dtypes: float64(6), int64(2), object(1)\n",
      "memory usage: 133.3+ KB\n"
     ]
    }
   ],
   "source": [
    "df_ROS_dropcol.info()"
   ]
  },
  {
   "cell_type": "code",
   "execution_count": 24,
   "id": "dc2d9681-05a7-46da-9af6-3bffa90c2b13",
   "metadata": {
    "tags": []
   },
   "outputs": [
    {
     "data": {
      "text/html": [
       "<div>\n",
       "<style scoped>\n",
       "    .dataframe tbody tr th:only-of-type {\n",
       "        vertical-align: middle;\n",
       "    }\n",
       "\n",
       "    .dataframe tbody tr th {\n",
       "        vertical-align: top;\n",
       "    }\n",
       "\n",
       "    .dataframe thead th {\n",
       "        text-align: right;\n",
       "    }\n",
       "</style>\n",
       "<table border=\"1\" class=\"dataframe\">\n",
       "  <thead>\n",
       "    <tr style=\"text-align: right;\">\n",
       "      <th></th>\n",
       "      <th>척추이동척도</th>\n",
       "    </tr>\n",
       "  </thead>\n",
       "  <tbody>\n",
       "    <tr>\n",
       "      <th>count</th>\n",
       "      <td>1894</td>\n",
       "    </tr>\n",
       "    <tr>\n",
       "      <th>unique</th>\n",
       "      <td>5</td>\n",
       "    </tr>\n",
       "    <tr>\n",
       "      <th>top</th>\n",
       "      <td>Middle</td>\n",
       "    </tr>\n",
       "    <tr>\n",
       "      <th>freq</th>\n",
       "      <td>1260</td>\n",
       "    </tr>\n",
       "  </tbody>\n",
       "</table>\n",
       "</div>"
      ],
      "text/plain": [
       "        척추이동척도\n",
       "count     1894\n",
       "unique       5\n",
       "top     Middle\n",
       "freq      1260"
      ]
     },
     "execution_count": 24,
     "metadata": {},
     "output_type": "execute_result"
    }
   ],
   "source": [
    "df_ROS_dropcol.describe(include=object)"
   ]
  },
  {
   "cell_type": "code",
   "execution_count": null,
   "id": "64b6b9a5-99b5-4116-9852-45ec12e0a1fb",
   "metadata": {},
   "outputs": [],
   "source": []
  }
 ],
 "metadata": {
  "kernelspec": {
   "display_name": "Python 3 (ipykernel)",
   "language": "python",
   "name": "python3"
  },
  "language_info": {
   "codemirror_mode": {
    "name": "ipython",
    "version": 3
   },
   "file_extension": ".py",
   "mimetype": "text/x-python",
   "name": "python",
   "nbconvert_exporter": "python",
   "pygments_lexer": "ipython3",
   "version": "3.11.3"
  }
 },
 "nbformat": 4,
 "nbformat_minor": 5
}
