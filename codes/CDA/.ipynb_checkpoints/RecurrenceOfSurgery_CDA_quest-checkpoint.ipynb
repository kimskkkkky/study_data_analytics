{
 "cells": [
  {
   "cell_type": "code",
   "execution_count": 1,
   "id": "e0e6b3e8-d0e6-4f2d-b650-6d7a950e1026",
   "metadata": {
    "tags": []
   },
   "outputs": [],
   "source": [
    "import matplotlib.pyplot as plt\n",
    "import matplotlib as mpl\n",
    "mpl.rc('font',family='Malgun Gothic')\n",
    "import seaborn as sns\n",
    "import pandas as pd\n",
    "import scipy.stats as stats"
   ]
  },
  {
   "cell_type": "code",
   "execution_count": 2,
   "id": "cdc2f71b-9239-4af4-bbf2-0d825a187e6b",
   "metadata": {
    "tags": []
   },
   "outputs": [
    {
     "data": {
      "text/html": [
       "<div>\n",
       "<style scoped>\n",
       "    .dataframe tbody tr th:only-of-type {\n",
       "        vertical-align: middle;\n",
       "    }\n",
       "\n",
       "    .dataframe tbody tr th {\n",
       "        vertical-align: top;\n",
       "    }\n",
       "\n",
       "    .dataframe thead th {\n",
       "        text-align: right;\n",
       "    }\n",
       "</style>\n",
       "<table border=\"1\" class=\"dataframe\">\n",
       "  <thead>\n",
       "    <tr style=\"text-align: right;\">\n",
       "      <th></th>\n",
       "      <th>Unnamed: 0</th>\n",
       "      <th>환자ID</th>\n",
       "      <th>Large Lymphocyte</th>\n",
       "      <th>Location of herniation</th>\n",
       "      <th>ODI</th>\n",
       "      <th>가족력</th>\n",
       "      <th>간질성폐질환</th>\n",
       "      <th>고혈압여부</th>\n",
       "      <th>과거수술횟수</th>\n",
       "      <th>당뇨여부</th>\n",
       "      <th>...</th>\n",
       "      <th>Modic change</th>\n",
       "      <th>PI</th>\n",
       "      <th>PT</th>\n",
       "      <th>Seg Angle(raw)</th>\n",
       "      <th>Vaccum disc</th>\n",
       "      <th>골밀도</th>\n",
       "      <th>디스크단면적</th>\n",
       "      <th>디스크위치</th>\n",
       "      <th>척추이동척도</th>\n",
       "      <th>척추전방위증</th>\n",
       "    </tr>\n",
       "  </thead>\n",
       "  <tbody>\n",
       "    <tr>\n",
       "      <th>0</th>\n",
       "      <td>0</td>\n",
       "      <td>1PT</td>\n",
       "      <td>22.8</td>\n",
       "      <td>3</td>\n",
       "      <td>51.0</td>\n",
       "      <td>0.0</td>\n",
       "      <td>0</td>\n",
       "      <td>0</td>\n",
       "      <td>0</td>\n",
       "      <td>0</td>\n",
       "      <td>...</td>\n",
       "      <td>3</td>\n",
       "      <td>51.6</td>\n",
       "      <td>36.6</td>\n",
       "      <td>14.4</td>\n",
       "      <td>0</td>\n",
       "      <td>-1.01</td>\n",
       "      <td>2048.5</td>\n",
       "      <td>4</td>\n",
       "      <td>Down</td>\n",
       "      <td>0</td>\n",
       "    </tr>\n",
       "    <tr>\n",
       "      <th>1</th>\n",
       "      <td>1</td>\n",
       "      <td>2PT</td>\n",
       "      <td>44.9</td>\n",
       "      <td>4</td>\n",
       "      <td>26.0</td>\n",
       "      <td>0.0</td>\n",
       "      <td>0</td>\n",
       "      <td>0</td>\n",
       "      <td>0</td>\n",
       "      <td>0</td>\n",
       "      <td>...</td>\n",
       "      <td>0</td>\n",
       "      <td>40.8</td>\n",
       "      <td>7.2</td>\n",
       "      <td>17.8</td>\n",
       "      <td>0</td>\n",
       "      <td>-1.14</td>\n",
       "      <td>1753.1</td>\n",
       "      <td>4</td>\n",
       "      <td>Up</td>\n",
       "      <td>0</td>\n",
       "    </tr>\n",
       "    <tr>\n",
       "      <th>2</th>\n",
       "      <td>2</td>\n",
       "      <td>3PT</td>\n",
       "      <td>53.0</td>\n",
       "      <td>3</td>\n",
       "      <td>NaN</td>\n",
       "      <td>0.0</td>\n",
       "      <td>0</td>\n",
       "      <td>0</td>\n",
       "      <td>1</td>\n",
       "      <td>0</td>\n",
       "      <td>...</td>\n",
       "      <td>0</td>\n",
       "      <td>67.5</td>\n",
       "      <td>27.3</td>\n",
       "      <td>10.2</td>\n",
       "      <td>0</td>\n",
       "      <td>-1.77</td>\n",
       "      <td>1749.0</td>\n",
       "      <td>4</td>\n",
       "      <td>Down</td>\n",
       "      <td>0</td>\n",
       "    </tr>\n",
       "    <tr>\n",
       "      <th>3</th>\n",
       "      <td>3</td>\n",
       "      <td>4PT</td>\n",
       "      <td>54.7</td>\n",
       "      <td>4</td>\n",
       "      <td>18.0</td>\n",
       "      <td>0.0</td>\n",
       "      <td>0</td>\n",
       "      <td>1</td>\n",
       "      <td>0</td>\n",
       "      <td>0</td>\n",
       "      <td>...</td>\n",
       "      <td>0</td>\n",
       "      <td>49.2</td>\n",
       "      <td>18.7</td>\n",
       "      <td>19.9</td>\n",
       "      <td>0</td>\n",
       "      <td>-1.58</td>\n",
       "      <td>1796.2</td>\n",
       "      <td>4</td>\n",
       "      <td>Down</td>\n",
       "      <td>0</td>\n",
       "    </tr>\n",
       "  </tbody>\n",
       "</table>\n",
       "<p>4 rows × 52 columns</p>\n",
       "</div>"
      ],
      "text/plain": [
       "   Unnamed: 0 환자ID  Large Lymphocyte  Location of herniation   ODI  가족력  \\\n",
       "0           0  1PT              22.8                       3  51.0  0.0   \n",
       "1           1  2PT              44.9                       4  26.0  0.0   \n",
       "2           2  3PT              53.0                       3   NaN  0.0   \n",
       "3           3  4PT              54.7                       4  18.0  0.0   \n",
       "\n",
       "   간질성폐질환  고혈압여부  과거수술횟수  당뇨여부  ...  Modic change    PI    PT  Seg Angle(raw)  \\\n",
       "0       0      0       0     0  ...             3  51.6  36.6            14.4   \n",
       "1       0      0       0     0  ...             0  40.8   7.2            17.8   \n",
       "2       0      0       1     0  ...             0  67.5  27.3            10.2   \n",
       "3       0      1       0     0  ...             0  49.2  18.7            19.9   \n",
       "\n",
       "   Vaccum disc   골밀도  디스크단면적  디스크위치  척추이동척도  척추전방위증  \n",
       "0            0 -1.01  2048.5      4    Down       0  \n",
       "1            0 -1.14  1753.1      4      Up       0  \n",
       "2            0 -1.77  1749.0      4    Down       0  \n",
       "3            0 -1.58  1796.2      4    Down       0  \n",
       "\n",
       "[4 rows x 52 columns]"
      ]
     },
     "execution_count": 2,
     "metadata": {},
     "output_type": "execute_result"
    }
   ],
   "source": [
    "df_ROS = pd.read_csv('../../datasets/RecurrenceOfSurgery.csv')\n",
    "df_ROS.head(4)"
   ]
  },
  {
   "cell_type": "code",
   "execution_count": 3,
   "id": "b08283e7-883d-4cb3-bfff-d91a95a63e6a",
   "metadata": {
    "tags": []
   },
   "outputs": [
    {
     "name": "stdout",
     "output_type": "stream",
     "text": [
      "<class 'pandas.core.frame.DataFrame'>\n",
      "RangeIndex: 1894 entries, 0 to 1893\n",
      "Data columns (total 52 columns):\n",
      " #   Column                  Non-Null Count  Dtype  \n",
      "---  ------                  --------------  -----  \n",
      " 0   Unnamed: 0              1894 non-null   int64  \n",
      " 1   환자ID                    1894 non-null   object \n",
      " 2   Large Lymphocyte        1894 non-null   float64\n",
      " 3   Location of herniation  1894 non-null   int64  \n",
      " 4   ODI                     462 non-null    float64\n",
      " 5   가족력                     1843 non-null   float64\n",
      " 6   간질성폐질환                  1894 non-null   int64  \n",
      " 7   고혈압여부                   1894 non-null   int64  \n",
      " 8   과거수술횟수                  1894 non-null   int64  \n",
      " 9   당뇨여부                    1894 non-null   int64  \n",
      " 10  말초동맥질환여부                1894 non-null   int64  \n",
      " 11  빈혈여부                    1894 non-null   int64  \n",
      " 12  성별                      1894 non-null   int64  \n",
      " 13  스테로이드치료                 1894 non-null   int64  \n",
      " 14  신부전여부                   1894 non-null   int64  \n",
      " 15  신장                      1894 non-null   int64  \n",
      " 16  심혈관질환                   1894 non-null   int64  \n",
      " 17  암발병여부                   1894 non-null   int64  \n",
      " 18  연령                      1894 non-null   int64  \n",
      " 19  우울증여부                   1894 non-null   int64  \n",
      " 20  입원기간                    1894 non-null   int64  \n",
      " 21  입원일자                    1894 non-null   int64  \n",
      " 22  종양진행여부                  1894 non-null   int64  \n",
      " 23  직업                      1479 non-null   object \n",
      " 24  체중                      1894 non-null   float64\n",
      " 25  퇴원일자                    1894 non-null   int64  \n",
      " 26  헤모글로빈수치                 1893 non-null   float64\n",
      " 27  혈전합병증여부                 1894 non-null   int64  \n",
      " 28  환자통증정도                  1894 non-null   int64  \n",
      " 29  흡연여부                    1894 non-null   int64  \n",
      " 30  통증기간(월)                 1890 non-null   float64\n",
      " 31  수술기법                    1813 non-null   object \n",
      " 32  수술시간                    1840 non-null   float64\n",
      " 33  수술실패여부                  1894 non-null   int64  \n",
      " 34  수술일자                    1894 non-null   int64  \n",
      " 35  재발여부                    1894 non-null   int64  \n",
      " 36  혈액형                     1894 non-null   object \n",
      " 37  전방디스크높이(mm)             1894 non-null   float64\n",
      " 38  후방디스크높이(mm)             1894 non-null   float64\n",
      " 39  지방축적도                   1891 non-null   float64\n",
      " 40  Instability             1894 non-null   int64  \n",
      " 41  MF + ES                 1894 non-null   float64\n",
      " 42  Modic change            1894 non-null   int64  \n",
      " 43  PI                      1890 non-null   float64\n",
      " 44  PT                      1890 non-null   float64\n",
      " 45  Seg Angle(raw)          1893 non-null   float64\n",
      " 46  Vaccum disc             1894 non-null   int64  \n",
      " 47  골밀도                     998 non-null    float64\n",
      " 48  디스크단면적                  1893 non-null   float64\n",
      " 49  디스크위치                   1894 non-null   int64  \n",
      " 50  척추이동척도                  1894 non-null   object \n",
      " 51  척추전방위증                  1894 non-null   int64  \n",
      "dtypes: float64(16), int64(31), object(5)\n",
      "memory usage: 769.6+ KB\n"
     ]
    }
   ],
   "source": [
    "df_ROS.info()"
   ]
  },
  {
   "cell_type": "markdown",
   "id": "c494a7e6-23f0-4c17-9164-0dd76db141d4",
   "metadata": {
    "tags": []
   },
   "source": [
    "### X : 범주형 / Y : 연속형 : 범주형 따른 상관관계 확인"
   ]
  },
  {
   "cell_type": "markdown",
   "id": "d841d7f8-a593-49b7-acdd-ca2513727694",
   "metadata": {},
   "source": [
    "#### 선정 변수 : 재발여부(범주형/정규 분포),  체중(연속형)\n",
    "\n",
    "- 분석 내용 : 재발여부는 체중과 관련이 없는가? \n",
    "\n",
    "    - 귀무 가설 :  관련이 없다.\n",
    "    - 대립 가설 :  관련이 있다.\n",
    "    \n",
    "- 분석 결론 (기준 : p-value 0.05)\n",
    "\n",
    "    - 통계 결론 : RanksumsResult(statistic=-24.475791712368153, pvalue=2.674878752235154e-132)\n",
    "    - 사실 결론 : 관련이 있다."
   ]
  },
  {
   "cell_type": "markdown",
   "id": "fe17903f-41f3-4882-a575-a9ada0371ea4",
   "metadata": {},
   "source": [
    "##### 분석 스토리\n",
    "\n",
    "- 아래 결과값에 따르면 재발여부는 체중과 관련이 있는 걸로 생각이 된다.\n",
    "  '체중' DATA 값이 5000개 이하여서 shapiro 사용하였으며 pvalue값이 0.05이하이므로 비정규 분포이며, \n",
    "  분석 결론은 RanksumsResult에 Pvalue값이 0.05보다 작은2.674878752235154e-132 이므로 대립가설인 재발여부는 체중과 관련이 있다.    "
   ]
  },
  {
   "cell_type": "code",
   "execution_count": 4,
   "id": "36c885e1-2a94-442f-b09e-526de2b6c2c7",
   "metadata": {
    "tags": []
   },
   "outputs": [
    {
     "data": {
      "text/plain": [
       "0    1667\n",
       "1     227\n",
       "Name: 재발여부, dtype: int64"
      ]
     },
     "execution_count": 4,
     "metadata": {},
     "output_type": "execute_result"
    }
   ],
   "source": [
    "df_ROS['재발여부'].value_counts()"
   ]
  },
  {
   "cell_type": "code",
   "execution_count": 5,
   "id": "d552a816-11ae-4c5f-b128-7122e0476aca",
   "metadata": {
    "tags": []
   },
   "outputs": [
    {
     "data": {
      "text/html": [
       "<div>\n",
       "<style scoped>\n",
       "    .dataframe tbody tr th:only-of-type {\n",
       "        vertical-align: middle;\n",
       "    }\n",
       "\n",
       "    .dataframe tbody tr th {\n",
       "        vertical-align: top;\n",
       "    }\n",
       "\n",
       "    .dataframe thead th {\n",
       "        text-align: right;\n",
       "    }\n",
       "</style>\n",
       "<table border=\"1\" class=\"dataframe\">\n",
       "  <thead>\n",
       "    <tr style=\"text-align: right;\">\n",
       "      <th></th>\n",
       "      <th>체중</th>\n",
       "      <th>재발여부</th>\n",
       "    </tr>\n",
       "  </thead>\n",
       "  <tbody>\n",
       "    <tr>\n",
       "      <th>0</th>\n",
       "      <td>60.3</td>\n",
       "      <td>0</td>\n",
       "    </tr>\n",
       "    <tr>\n",
       "      <th>1</th>\n",
       "      <td>71.7</td>\n",
       "      <td>0</td>\n",
       "    </tr>\n",
       "    <tr>\n",
       "      <th>2</th>\n",
       "      <td>77.1</td>\n",
       "      <td>0</td>\n",
       "    </tr>\n",
       "    <tr>\n",
       "      <th>3</th>\n",
       "      <td>74.2</td>\n",
       "      <td>0</td>\n",
       "    </tr>\n",
       "    <tr>\n",
       "      <th>4</th>\n",
       "      <td>80.7</td>\n",
       "      <td>0</td>\n",
       "    </tr>\n",
       "    <tr>\n",
       "      <th>...</th>\n",
       "      <td>...</td>\n",
       "      <td>...</td>\n",
       "    </tr>\n",
       "    <tr>\n",
       "      <th>1889</th>\n",
       "      <td>64.0</td>\n",
       "      <td>0</td>\n",
       "    </tr>\n",
       "    <tr>\n",
       "      <th>1890</th>\n",
       "      <td>59.0</td>\n",
       "      <td>0</td>\n",
       "    </tr>\n",
       "    <tr>\n",
       "      <th>1891</th>\n",
       "      <td>70.0</td>\n",
       "      <td>0</td>\n",
       "    </tr>\n",
       "    <tr>\n",
       "      <th>1892</th>\n",
       "      <td>77.0</td>\n",
       "      <td>0</td>\n",
       "    </tr>\n",
       "    <tr>\n",
       "      <th>1893</th>\n",
       "      <td>49.0</td>\n",
       "      <td>0</td>\n",
       "    </tr>\n",
       "  </tbody>\n",
       "</table>\n",
       "<p>1894 rows × 2 columns</p>\n",
       "</div>"
      ],
      "text/plain": [
       "        체중  재발여부\n",
       "0     60.3     0\n",
       "1     71.7     0\n",
       "2     77.1     0\n",
       "3     74.2     0\n",
       "4     80.7     0\n",
       "...    ...   ...\n",
       "1889  64.0     0\n",
       "1890  59.0     0\n",
       "1891  70.0     0\n",
       "1892  77.0     0\n",
       "1893  49.0     0\n",
       "\n",
       "[1894 rows x 2 columns]"
      ]
     },
     "execution_count": 5,
     "metadata": {},
     "output_type": "execute_result"
    }
   ],
   "source": [
    "df_ROS_quest = df_ROS[['체중', '재발여부']]\n",
    "df_ROS_quest"
   ]
  },
  {
   "cell_type": "code",
   "execution_count": 6,
   "id": "674a653d-2316-4533-b2a5-118a578d9cc8",
   "metadata": {
    "tags": []
   },
   "outputs": [
    {
     "name": "stdout",
     "output_type": "stream",
     "text": [
      "<class 'pandas.core.frame.DataFrame'>\n",
      "RangeIndex: 1894 entries, 0 to 1893\n",
      "Data columns (total 2 columns):\n",
      " #   Column  Non-Null Count  Dtype  \n",
      "---  ------  --------------  -----  \n",
      " 0   체중      1894 non-null   float64\n",
      " 1   재발여부    1894 non-null   object \n",
      "dtypes: float64(1), object(1)\n",
      "memory usage: 29.7+ KB\n"
     ]
    },
    {
     "name": "stderr",
     "output_type": "stream",
     "text": [
      "C:\\Users\\01-10\\AppData\\Local\\Temp\\ipykernel_6828\\21123109.py:1: SettingWithCopyWarning: \n",
      "A value is trying to be set on a copy of a slice from a DataFrame.\n",
      "Try using .loc[row_indexer,col_indexer] = value instead\n",
      "\n",
      "See the caveats in the documentation: https://pandas.pydata.org/pandas-docs/stable/user_guide/indexing.html#returning-a-view-versus-a-copy\n",
      "  df_ROS_quest['재발여부'] = df_ROS_quest['재발여부'].astype(str)\n"
     ]
    }
   ],
   "source": [
    "df_ROS_quest['재발여부'] = df_ROS_quest['재발여부'].astype(str)\n",
    "df_ROS_quest.info()"
   ]
  },
  {
   "cell_type": "code",
   "execution_count": 7,
   "id": "bf57218f-29c3-480e-b706-532b787b8083",
   "metadata": {
    "tags": []
   },
   "outputs": [
    {
     "data": {
      "text/plain": [
       "체중      0\n",
       "재발여부    0\n",
       "dtype: int64"
      ]
     },
     "execution_count": 7,
     "metadata": {},
     "output_type": "execute_result"
    }
   ],
   "source": [
    "df_ROS_quest.isnull().sum()"
   ]
  },
  {
   "cell_type": "code",
   "execution_count": 8,
   "id": "2713966d-1239-47bd-9930-afcd43efd4de",
   "metadata": {
    "tags": []
   },
   "outputs": [
    {
     "data": {
      "text/plain": [
       "ShapiroResult(statistic=0.9795888662338257, pvalue=8.319101268931405e-16)"
      ]
     },
     "execution_count": 8,
     "metadata": {},
     "output_type": "execute_result"
    }
   ],
   "source": [
    "stats.shapiro(df_ROS_quest['체중'])"
   ]
  },
  {
   "cell_type": "code",
   "execution_count": 10,
   "id": "1a7e2cd1-54f0-4b06-8e5c-8f4387c49212",
   "metadata": {
    "tags": []
   },
   "outputs": [
    {
     "data": {
      "text/plain": [
       "<Axes: xlabel='체중', ylabel='Count'>"
      ]
     },
     "execution_count": 10,
     "metadata": {},
     "output_type": "execute_result"
    },
    {
     "data": {
      "image/png": "[encoded data removed]",
      "text/plain": [
       "<Figure size 640x480 with 1 Axes>"
      ]
     },
     "metadata": {},
     "output_type": "display_data"
    }
   ],
   "source": [
    "sns.histplot(df_ROS_quest, x='체중', kde=True)"
   ]
  },
  {
   "cell_type": "markdown",
   "id": "2f8e7c65-c845-49df-808e-62e91fc123a7",
   "metadata": {
    "tags": []
   },
   "source": [
    "#### 범주형 항목 따라 검증 : 2개 항목"
   ]
  },
  {
   "cell_type": "code",
   "execution_count": 11,
   "id": "c12b76ac-f1ae-48d3-810e-f5d018b2e593",
   "metadata": {
    "tags": []
   },
   "outputs": [
    {
     "data": {
      "text/plain": [
       "0    1667\n",
       "1     227\n",
       "Name: 재발여부, dtype: int64"
      ]
     },
     "execution_count": 11,
     "metadata": {},
     "output_type": "execute_result"
    }
   ],
   "source": [
    "df_ROS_quest['재발여부'].value_counts()\n"
   ]
  },
  {
   "cell_type": "code",
   "execution_count": 12,
   "id": "b38cdc7a-cffd-4a51-a520-22a711b716f0",
   "metadata": {
    "tags": []
   },
   "outputs": [
    {
     "data": {
      "text/html": [
       "<div>\n",
       "<style scoped>\n",
       "    .dataframe tbody tr th:only-of-type {\n",
       "        vertical-align: middle;\n",
       "    }\n",
       "\n",
       "    .dataframe tbody tr th {\n",
       "        vertical-align: top;\n",
       "    }\n",
       "\n",
       "    .dataframe thead th {\n",
       "        text-align: right;\n",
       "    }\n",
       "</style>\n",
       "<table border=\"1\" class=\"dataframe\">\n",
       "  <thead>\n",
       "    <tr style=\"text-align: right;\">\n",
       "      <th></th>\n",
       "      <th>체중</th>\n",
       "      <th>재발여부</th>\n",
       "    </tr>\n",
       "  </thead>\n",
       "  <tbody>\n",
       "    <tr>\n",
       "      <th>0</th>\n",
       "      <td>60.3</td>\n",
       "      <td>0</td>\n",
       "    </tr>\n",
       "    <tr>\n",
       "      <th>1</th>\n",
       "      <td>71.7</td>\n",
       "      <td>0</td>\n",
       "    </tr>\n",
       "    <tr>\n",
       "      <th>2</th>\n",
       "      <td>77.1</td>\n",
       "      <td>0</td>\n",
       "    </tr>\n",
       "    <tr>\n",
       "      <th>3</th>\n",
       "      <td>74.2</td>\n",
       "      <td>0</td>\n",
       "    </tr>\n",
       "    <tr>\n",
       "      <th>4</th>\n",
       "      <td>80.7</td>\n",
       "      <td>0</td>\n",
       "    </tr>\n",
       "  </tbody>\n",
       "</table>\n",
       "</div>"
      ],
      "text/plain": [
       "     체중 재발여부\n",
       "0  60.3    0\n",
       "1  71.7    0\n",
       "2  77.1    0\n",
       "3  74.2    0\n",
       "4  80.7    0"
      ]
     },
     "execution_count": 12,
     "metadata": {},
     "output_type": "execute_result"
    }
   ],
   "source": [
    "df_ROS_quest_no=df_ROS_quest[df_ROS_quest['재발여부'] == '0']\n",
    "df_ROS_quest_no.head()"
   ]
  },
  {
   "cell_type": "code",
   "execution_count": 13,
   "id": "16b2973e-4603-4a32-8e16-ffe7887b4ad4",
   "metadata": {
    "tags": []
   },
   "outputs": [
    {
     "data": {
      "text/html": [
       "<div>\n",
       "<style scoped>\n",
       "    .dataframe tbody tr th:only-of-type {\n",
       "        vertical-align: middle;\n",
       "    }\n",
       "\n",
       "    .dataframe tbody tr th {\n",
       "        vertical-align: top;\n",
       "    }\n",
       "\n",
       "    .dataframe thead th {\n",
       "        text-align: right;\n",
       "    }\n",
       "</style>\n",
       "<table border=\"1\" class=\"dataframe\">\n",
       "  <thead>\n",
       "    <tr style=\"text-align: right;\">\n",
       "      <th></th>\n",
       "      <th>체중</th>\n",
       "      <th>재발여부</th>\n",
       "    </tr>\n",
       "  </thead>\n",
       "  <tbody>\n",
       "    <tr>\n",
       "      <th>28</th>\n",
       "      <td>77.8</td>\n",
       "      <td>1</td>\n",
       "    </tr>\n",
       "    <tr>\n",
       "      <th>40</th>\n",
       "      <td>80.2</td>\n",
       "      <td>1</td>\n",
       "    </tr>\n",
       "    <tr>\n",
       "      <th>41</th>\n",
       "      <td>56.0</td>\n",
       "      <td>1</td>\n",
       "    </tr>\n",
       "    <tr>\n",
       "      <th>58</th>\n",
       "      <td>74.6</td>\n",
       "      <td>1</td>\n",
       "    </tr>\n",
       "    <tr>\n",
       "      <th>65</th>\n",
       "      <td>59.0</td>\n",
       "      <td>1</td>\n",
       "    </tr>\n",
       "  </tbody>\n",
       "</table>\n",
       "</div>"
      ],
      "text/plain": [
       "      체중 재발여부\n",
       "28  77.8    1\n",
       "40  80.2    1\n",
       "41  56.0    1\n",
       "58  74.6    1\n",
       "65  59.0    1"
      ]
     },
     "execution_count": 13,
     "metadata": {},
     "output_type": "execute_result"
    }
   ],
   "source": [
    "df_ROS_quest_yes=df_ROS_quest[df_ROS_quest['재발여부'] == '1']\n",
    "df_ROS_quest_yes.head()"
   ]
  },
  {
   "cell_type": "code",
   "execution_count": 14,
   "id": "09353cfd-5244-4d83-85ed-c822af25b31f",
   "metadata": {
    "tags": []
   },
   "outputs": [
    {
     "data": {
      "text/plain": [
       "RanksumsResult(statistic=-24.475791712368153, pvalue=2.674878752235154e-132)"
      ]
     },
     "execution_count": 14,
     "metadata": {},
     "output_type": "execute_result"
    }
   ],
   "source": [
    "## 검증\n",
    "stats.ranksums(df_ROS_quest_no['재발여부'], df_ROS_quest_yes['재발여부'])"
   ]
  },
  {
   "cell_type": "markdown",
   "id": "5626986d-4c9e-430a-877e-5789b42e915b",
   "metadata": {
    "tags": []
   },
   "source": [
    "### X : 범주형 / Y : 연속형 : 범주형 따른 상관관계 확인"
   ]
  },
  {
   "cell_type": "markdown",
   "id": "2bf74998-635d-4ca6-9235-35dad5210501",
   "metadata": {},
   "source": [
    "#### 선정 변수 : 직업(항목 2), 체중(정규 분포)\n",
    "\n",
    "- 분석 내용 : 직업이 체중에 영향이 있나?\n",
    "\n",
    "    - 귀무가설 :  체중에 차이 없다.\n",
    "    - 대립가설 :  체중에 차이 있다.\n",
    "    \n",
    "- 분석 결론 (기준 : p-value 0.05)\n",
    "\n",
    "    - 통계 결론 : Ttest_indResult(statistic=-0.08025301134894845, pvalue=0.9360455086241137) \n",
    "                : Ttest_indResult(statistic=-0.4097066125638413, pvalue=0.6825591029162441)\n",
    "    \n",
    "    - 사실 결론 : 평균에 차이가 없다."
   ]
  },
  {
   "cell_type": "markdown",
   "id": "bd7e05ff-7b9f-46c1-b3f9-05cf5284c804",
   "metadata": {},
   "source": [
    "##### 분석 스토리\n",
    "\n",
    "- 아래 결과값에 따르면 직업에 따라 체중 관련도에 상관관계를 분석한 결론은 통계 결론에서 Ttest에  pvalue값이 0.05이상이므로 평균에 차이가 없다는 결론이 도출이 된다. 따라서 \"체중에 차이가 없다.\"로 귀결이 된다."
   ]
  },
  {
   "cell_type": "code",
   "execution_count": 15,
   "id": "c1a2e82f-e416-46d4-8a0a-53288e97790d",
   "metadata": {
    "tags": []
   },
   "outputs": [
    {
     "data": {
      "text/plain": [
       "<Axes: xlabel='체중', ylabel='Count'>"
      ]
     },
     "execution_count": 15,
     "metadata": {},
     "output_type": "execute_result"
    },
    {
     "data": {
      "image/png": "[encoded data removed]",
      "text/plain": [
       "<Figure size 640x480 with 1 Axes>"
      ]
     },
     "metadata": {},
     "output_type": "display_data"
    }
   ],
   "source": [
    "sns.histplot(data=df_ROS, x='체중', kde=True, hue='직업')"
   ]
  },
  {
   "cell_type": "code",
   "execution_count": 16,
   "id": "2f07ee9d-3e52-40a1-be1d-f7d4cf7567e4",
   "metadata": {
    "tags": []
   },
   "outputs": [
    {
     "data": {
      "text/plain": [
       "사무직      449\n",
       "자영업      171\n",
       "무직       164\n",
       "학생       135\n",
       "주부       114\n",
       "군인        90\n",
       "공무원       51\n",
       "운수업       50\n",
       "노동직       42\n",
       "농업        40\n",
       "의료직       40\n",
       "사업가       39\n",
       "교사        30\n",
       "특수전문직     23\n",
       "건설업       17\n",
       "운동선수      14\n",
       "예술가       10\n",
       "Name: 직업, dtype: int64"
      ]
     },
     "execution_count": 16,
     "metadata": {},
     "output_type": "execute_result"
    }
   ],
   "source": [
    "df_ROS['직업'].value_counts()"
   ]
  },
  {
   "cell_type": "code",
   "execution_count": 17,
   "id": "07453bb9-6b80-4610-b823-f6ee2d55e510",
   "metadata": {
    "tags": []
   },
   "outputs": [
    {
     "data": {
      "text/plain": [
       "(      직업    체중\n",
       " 60    학생  71.5\n",
       " 91    학생  61.1\n",
       " 103   학생  58.7\n",
       " 158   학생  79.9\n",
       " 174   학생  58.9\n",
       " ...   ..   ...\n",
       " 1882  학생  62.0\n",
       " 1886  무직  56.0\n",
       " 1887  무직  56.0\n",
       " 1889  무직  64.0\n",
       " 1891  무직  70.0\n",
       " \n",
       " [299 rows x 2 columns],\n",
       "       직업    체중\n",
       " 60    학생  71.5\n",
       " 90    교사  57.3\n",
       " 91    학생  61.1\n",
       " 103   학생  58.7\n",
       " 158   학생  79.9\n",
       " ...   ..   ...\n",
       " 1856  학생  61.0\n",
       " 1867  학생  53.0\n",
       " 1872  학생  64.0\n",
       " 1881  학생  62.0\n",
       " 1882  학생  62.0\n",
       " \n",
       " [165 rows x 2 columns])"
      ]
     },
     "execution_count": 17,
     "metadata": {},
     "output_type": "execute_result"
    }
   ],
   "source": [
    "condition = (df_ROS['직업'] == '학생')|(df_ROS['직업'] == '무직')\n",
    "condition_1 =(df_ROS['직업'] == '학생')|(df_ROS['직업'] == '교사')\n",
    "df_job_height = df_ROS[condition][['직업', '체중']]\n",
    "df_job_height_1 = df_ROS[condition_1][['직업', '체중']]\n",
    "df_job_height , df_job_height_1"
   ]
  },
  {
   "cell_type": "code",
   "execution_count": 18,
   "id": "85681387-ad21-4068-9e1c-891b014a44a7",
   "metadata": {
    "tags": []
   },
   "outputs": [
    {
     "name": "stdout",
     "output_type": "stream",
     "text": [
      "<class 'pandas.core.frame.DataFrame'>\n",
      "Int64Index: 299 entries, 60 to 1891\n",
      "Data columns (total 2 columns):\n",
      " #   Column  Non-Null Count  Dtype  \n",
      "---  ------  --------------  -----  \n",
      " 0   직업      299 non-null    object \n",
      " 1   체중      299 non-null    float64\n",
      "dtypes: float64(1), object(1)\n",
      "memory usage: 7.0+ KB\n",
      "<class 'pandas.core.frame.DataFrame'>\n",
      "Int64Index: 165 entries, 60 to 1882\n",
      "Data columns (total 2 columns):\n",
      " #   Column  Non-Null Count  Dtype  \n",
      "---  ------  --------------  -----  \n",
      " 0   직업      165 non-null    object \n",
      " 1   체중      165 non-null    float64\n",
      "dtypes: float64(1), object(1)\n",
      "memory usage: 3.9+ KB\n"
     ]
    },
    {
     "data": {
      "text/plain": [
       "(None, None)"
      ]
     },
     "execution_count": 18,
     "metadata": {},
     "output_type": "execute_result"
    }
   ],
   "source": [
    "df_job_height.info() , df_job_height_1.info()"
   ]
  },
  {
   "cell_type": "markdown",
   "id": "65b8876f-0e13-4d5e-a04a-b0aa4c4ad723",
   "metadata": {
    "tags": []
   },
   "source": [
    "#### 선정 변수 : (항목 2), 체중(정규 분포)\n",
    "\n",
    "- 분석 내용 : 직업에 따라서 체중이 차이가 있는가?\n",
    "\n",
    "    - 귀무가설 :  체중이 차이 없다.\n",
    "    - 가설 :  체중이 차이 있다.\n",
    "    \n",
    "- 분석 결론 (기준 : p-value 0.05)\n",
    "\n",
    "    - 통계 결론 : Ttest_indResult(statistic=2.5033526441515206, pvalue=0.012838990212497868)\n",
    "                : Ttest_indResult(statistic=-0.47591884504639426, pvalue=0.6368570317823032)\n",
    "\n",
    "    - 사실 결론 : 학생과 무직을 차이가 있었지만 교사와 예술가는 차이가 없었다.\n",
    "    "
   ]
  },
  {
   "cell_type": "code",
   "execution_count": 20,
   "id": "1c311f45-b2fd-4ebf-b4f2-1beede0c94b1",
   "metadata": {
    "tags": []
   },
   "outputs": [
    {
     "data": {
      "text/plain": [
       "ShapiroResult(statistic=0.9678830504417419, pvalue=3.2934970022324705e-06)"
      ]
     },
     "execution_count": 20,
     "metadata": {},
     "output_type": "execute_result"
    }
   ],
   "source": [
    "\\"
   ]
  },
  {
   "cell_type": "code",
   "execution_count": 21,
   "id": "97c806be-43f8-484c-8cec-d32e8508b372",
   "metadata": {
    "tags": []
   },
   "outputs": [
    {
     "data": {
      "text/plain": [
       "ShapiroResult(statistic=0.9511906504631042, pvalue=1.7091737390728667e-05)"
      ]
     },
     "execution_count": 21,
     "metadata": {},
     "output_type": "execute_result"
    }
   ],
   "source": [
    "stats.shapiro(df_job_height_1['체중'])"
   ]
  },
  {
   "cell_type": "code",
   "execution_count": 22,
   "id": "ac959b78-8356-4d22-bfce-0dbba32f9d1e",
   "metadata": {
    "tags": []
   },
   "outputs": [
    {
     "data": {
      "text/plain": [
       "<Axes: xlabel='체중', ylabel='Count'>"
      ]
     },
     "execution_count": 22,
     "metadata": {},
     "output_type": "execute_result"
    },
    {
     "data": {
      "image/png": "[encoded data removed]",
      "text/plain": [
       "<Figure size 640x480 with 1 Axes>"
      ]
     },
     "metadata": {},
     "output_type": "display_data"
    }
   ],
   "source": [
    "sns.histplot(df_job_height, x='체중', kde=True)\n",
    "sns.histplot(df_job_height_1, x='체중', kde=True)\n"
   ]
  },
  {
   "cell_type": "markdown",
   "id": "146ed8f0-b8f7-4414-8f4e-84e0ebd9f16a",
   "metadata": {},
   "source": [
    "##### 등분산 검증\n",
    "- 신은 위대하다. 즉 분산이 같다.\n",
    "- 결과 : LeveneResult(statistic=0.21111337397737975, pvalue=0.6462322770118756)\n",
    "        LeveneResult(statistic=0.4590414368394791, pvalue=0.49903283111599317)\n",
    "        등분산이다."
   ]
  },
  {
   "cell_type": "code",
   "execution_count": 24,
   "id": "4952b8a6-d526-49eb-ad00-f955facfdaea",
   "metadata": {
    "tags": []
   },
   "outputs": [
    {
     "data": {
      "text/plain": [
       "<Axes: xlabel='직업', ylabel='count'>"
      ]
     },
     "execution_count": 24,
     "metadata": {},
     "output_type": "execute_result"
    },
    {
     "data": {
      "image/png": "[encoded data removed]",
      "text/plain": [
       "<Figure size 640x480 with 1 Axes>"
      ]
     },
     "metadata": {},
     "output_type": "display_data"
    }
   ],
   "source": [
    "sns.countplot(data=df_job_height, x='직업')\n"
   ]
  },
  {
   "cell_type": "code",
   "execution_count": 25,
   "id": "3dbce563-7319-4ed2-a2a4-23e128dd4b14",
   "metadata": {
    "tags": []
   },
   "outputs": [
    {
     "data": {
      "text/plain": [
       "(<Axes: xlabel='직업', ylabel='count'>,)"
      ]
     },
     "execution_count": 25,
     "metadata": {},
     "output_type": "execute_result"
    },
    {
     "data": {
      "image/png": "[encoded data removed]",
      "text/plain": [
       "<Figure size 640x480 with 1 Axes>"
      ]
     },
     "metadata": {},
     "output_type": "display_data"
    }
   ],
   "source": [
    "sns.countplot(data=df_job_height_1, x='직업'),"
   ]
  },
  {
   "cell_type": "code",
   "execution_count": 28,
   "id": "3ca716aa-04d4-4a02-88a7-41dc50705b57",
   "metadata": {
    "tags": []
   },
   "outputs": [
    {
     "data": {
      "text/html": [
       "<div>\n",
       "<style scoped>\n",
       "    .dataframe tbody tr th:only-of-type {\n",
       "        vertical-align: middle;\n",
       "    }\n",
       "\n",
       "    .dataframe tbody tr th {\n",
       "        vertical-align: top;\n",
       "    }\n",
       "\n",
       "    .dataframe thead th {\n",
       "        text-align: right;\n",
       "    }\n",
       "</style>\n",
       "<table border=\"1\" class=\"dataframe\">\n",
       "  <thead>\n",
       "    <tr style=\"text-align: right;\">\n",
       "      <th></th>\n",
       "      <th>직업</th>\n",
       "      <th>체중</th>\n",
       "    </tr>\n",
       "  </thead>\n",
       "  <tbody>\n",
       "    <tr>\n",
       "      <th>60</th>\n",
       "      <td>학생</td>\n",
       "      <td>71.5</td>\n",
       "    </tr>\n",
       "    <tr>\n",
       "      <th>91</th>\n",
       "      <td>학생</td>\n",
       "      <td>61.1</td>\n",
       "    </tr>\n",
       "  </tbody>\n",
       "</table>\n",
       "</div>"
      ],
      "text/plain": [
       "    직업    체중\n",
       "60  학생  71.5\n",
       "91  학생  61.1"
      ]
     },
     "execution_count": 28,
     "metadata": {},
     "output_type": "execute_result"
    }
   ],
   "source": [
    "df_stu=df_job_height[df_job_height['직업'] == '학생']\n",
    "df_stu[:2]"
   ]
  },
  {
   "cell_type": "code",
   "execution_count": 29,
   "id": "49a6ec8d-eacf-46fb-97bd-8b3d00e87234",
   "metadata": {
    "tags": []
   },
   "outputs": [
    {
     "data": {
      "text/html": [
       "<div>\n",
       "<style scoped>\n",
       "    .dataframe tbody tr th:only-of-type {\n",
       "        vertical-align: middle;\n",
       "    }\n",
       "\n",
       "    .dataframe tbody tr th {\n",
       "        vertical-align: top;\n",
       "    }\n",
       "\n",
       "    .dataframe thead th {\n",
       "        text-align: right;\n",
       "    }\n",
       "</style>\n",
       "<table border=\"1\" class=\"dataframe\">\n",
       "  <thead>\n",
       "    <tr style=\"text-align: right;\">\n",
       "      <th></th>\n",
       "      <th>직업</th>\n",
       "      <th>체중</th>\n",
       "    </tr>\n",
       "  </thead>\n",
       "  <tbody>\n",
       "    <tr>\n",
       "      <th>962</th>\n",
       "      <td>무직</td>\n",
       "      <td>46.0</td>\n",
       "    </tr>\n",
       "    <tr>\n",
       "      <th>963</th>\n",
       "      <td>무직</td>\n",
       "      <td>49.0</td>\n",
       "    </tr>\n",
       "  </tbody>\n",
       "</table>\n",
       "</div>"
      ],
      "text/plain": [
       "     직업    체중\n",
       "962  무직  46.0\n",
       "963  무직  49.0"
      ]
     },
     "execution_count": 29,
     "metadata": {},
     "output_type": "execute_result"
    }
   ],
   "source": [
    "df_backsu=df_job_height[df_job_height['직업'] == '무직']\n",
    "df_backsu[:2]"
   ]
  },
  {
   "cell_type": "code",
   "execution_count": 30,
   "id": "86dd38c5-cb7b-45ef-a87e-31406181677b",
   "metadata": {
    "tags": []
   },
   "outputs": [
    {
     "data": {
      "text/html": [
       "<div>\n",
       "<style scoped>\n",
       "    .dataframe tbody tr th:only-of-type {\n",
       "        vertical-align: middle;\n",
       "    }\n",
       "\n",
       "    .dataframe tbody tr th {\n",
       "        vertical-align: top;\n",
       "    }\n",
       "\n",
       "    .dataframe thead th {\n",
       "        text-align: right;\n",
       "    }\n",
       "</style>\n",
       "<table border=\"1\" class=\"dataframe\">\n",
       "  <thead>\n",
       "    <tr style=\"text-align: right;\">\n",
       "      <th></th>\n",
       "      <th>직업</th>\n",
       "      <th>체중</th>\n",
       "    </tr>\n",
       "  </thead>\n",
       "  <tbody>\n",
       "    <tr>\n",
       "      <th>90</th>\n",
       "      <td>교사</td>\n",
       "      <td>57.3</td>\n",
       "    </tr>\n",
       "    <tr>\n",
       "      <th>195</th>\n",
       "      <td>교사</td>\n",
       "      <td>57.8</td>\n",
       "    </tr>\n",
       "  </tbody>\n",
       "</table>\n",
       "</div>"
      ],
      "text/plain": [
       "     직업    체중\n",
       "90   교사  57.3\n",
       "195  교사  57.8"
      ]
     },
     "execution_count": 30,
     "metadata": {},
     "output_type": "execute_result"
    }
   ],
   "source": [
    "df_tea=df_job_height_1[df_job_height_1['직업'] == '교사']\n",
    "df_tea[:2]"
   ]
  },
  {
   "cell_type": "code",
   "execution_count": 31,
   "id": "07a261f4-9fed-4de6-8386-9609ccd24641",
   "metadata": {
    "tags": []
   },
   "outputs": [
    {
     "data": {
      "text/plain": [
       "LeveneResult(statistic=0.21111337397737975, pvalue=0.6462322770118756)"
      ]
     },
     "execution_count": 31,
     "metadata": {},
     "output_type": "execute_result"
    }
   ],
   "source": [
    "stats.levene(df_stu['체중'], df_backsu['체중'])"
   ]
  },
  {
   "cell_type": "code",
   "execution_count": 33,
   "id": "14ba766a-55e2-461f-8c4d-471b420aab1d",
   "metadata": {
    "tags": []
   },
   "outputs": [
    {
     "data": {
      "text/plain": [
       "LeveneResult(statistic=0.4590414368394791, pvalue=0.49903283111599317)"
      ]
     },
     "execution_count": 33,
     "metadata": {},
     "output_type": "execute_result"
    }
   ],
   "source": [
    "stats.levene(df_tea['체중'], df_stu['체중'])"
   ]
  },
  {
   "cell_type": "code",
   "execution_count": null,
   "id": "6fce1e63-48e1-42fc-96fc-23171fab8cd8",
   "metadata": {
    "jupyter": {
     "source_hidden": true
    },
    "tags": []
   },
   "outputs": [],
   "source": [
    "sns.histplot(df_job_height, x='체중', kde=True, hue='직업')"
   ]
  },
  {
   "cell_type": "code",
   "execution_count": 34,
   "id": "0c6d6fcd-ddb0-4810-93e0-2e160ad325b1",
   "metadata": {
    "tags": []
   },
   "outputs": [
    {
     "data": {
      "text/plain": [
       "Ttest_indResult(statistic=2.5033526441515206, pvalue=0.012838990212497868)"
      ]
     },
     "execution_count": 34,
     "metadata": {},
     "output_type": "execute_result"
    }
   ],
   "source": [
    "stats.ttest_ind(df_stu['체중'],df_backsu['체중'], equal_var=True) #등분산일때"
   ]
  },
  {
   "cell_type": "code",
   "execution_count": 35,
   "id": "a7c4ad64-c5f1-4a02-bbc0-6804d8300ea9",
   "metadata": {
    "tags": []
   },
   "outputs": [
    {
     "data": {
      "text/plain": [
       "Ttest_indResult(statistic=-0.4097066125638413, pvalue=0.6825591029162441)"
      ]
     },
     "execution_count": 35,
     "metadata": {},
     "output_type": "execute_result"
    }
   ],
   "source": [
    "stats.ttest_ind(df_tea['체중'],df_stu['체중'], equal_var=True)"
   ]
  },
  {
   "cell_type": "code",
   "execution_count": null,
   "id": "d81f9e01-0e3b-4476-b697-121eb30f929e",
   "metadata": {},
   "outputs": [],
   "source": []
  }
 ],
 "metadata": {
  "kernelspec": {
   "display_name": "Python 3 (ipykernel)",
   "language": "python",
   "name": "python3"
  },
  "language_info": {
   "codemirror_mode": {
    "name": "ipython",
    "version": 3
   },
   "file_extension": ".py",
   "mimetype": "text/x-python",
   "name": "python",
   "nbconvert_exporter": "python",
   "pygments_lexer": "ipython3",
   "version": "3.11.3"
  }
 },
 "nbformat": 4,
 "nbformat_minor": 5
}
