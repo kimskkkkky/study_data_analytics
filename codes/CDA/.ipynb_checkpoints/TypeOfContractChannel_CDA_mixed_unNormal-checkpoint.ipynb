{
 "cells": [
  {
   "cell_type": "code",
   "execution_count": 15,
   "id": "1472d30f-3860-45ac-9d95-c07b379ddd91",
   "metadata": {
    "tags": []
   },
   "outputs": [],
   "source": [
    "import matplotlib.pyplot as plt\n",
    "import matplotlib as mpl\n",
    "mpl.rc('font',family='Malgun Gothic')\n",
    "import seaborn as sns\n",
    "import pandas as pd\n",
    "import scipy.stats as stats"
   ]
  },
  {
   "cell_type": "code",
   "execution_count": 2,
   "id": "34029edb-e7fa-4aee-9cc5-40cc4be1bdf1",
   "metadata": {
    "tags": []
   },
   "outputs": [
    {
     "data": {
      "text/html": [
       "<div>\n",
       "<style scoped>\n",
       "    .dataframe tbody tr th:only-of-type {\n",
       "        vertical-align: middle;\n",
       "    }\n",
       "\n",
       "    .dataframe tbody tr th {\n",
       "        vertical-align: top;\n",
       "    }\n",
       "\n",
       "    .dataframe thead th {\n",
       "        text-align: right;\n",
       "    }\n",
       "</style>\n",
       "<table border=\"1\" class=\"dataframe\">\n",
       "  <thead>\n",
       "    <tr style=\"text-align: right;\">\n",
       "      <th></th>\n",
       "      <th>id</th>\n",
       "      <th>type_of_contract</th>\n",
       "      <th>type_of_contract2</th>\n",
       "      <th>channel</th>\n",
       "      <th>datetime</th>\n",
       "      <th>Term</th>\n",
       "      <th>payment_type</th>\n",
       "      <th>product</th>\n",
       "      <th>amount</th>\n",
       "      <th>state</th>\n",
       "      <th>overdue_count</th>\n",
       "      <th>overdue</th>\n",
       "      <th>credit rating</th>\n",
       "      <th>bank</th>\n",
       "      <th>cancellation</th>\n",
       "      <th>age</th>\n",
       "      <th>Mileage</th>\n",
       "    </tr>\n",
       "  </thead>\n",
       "  <tbody>\n",
       "    <tr>\n",
       "      <th>0</th>\n",
       "      <td>66758234</td>\n",
       "      <td>렌탈</td>\n",
       "      <td>Normal</td>\n",
       "      <td>서비스 방문</td>\n",
       "      <td>2019-10-20</td>\n",
       "      <td>60</td>\n",
       "      <td>CMS</td>\n",
       "      <td>K1</td>\n",
       "      <td>96900</td>\n",
       "      <td>계약확정</td>\n",
       "      <td>0</td>\n",
       "      <td>없음</td>\n",
       "      <td>9.0</td>\n",
       "      <td>새마을금고</td>\n",
       "      <td>정상</td>\n",
       "      <td>43.0</td>\n",
       "      <td>1862.0</td>\n",
       "    </tr>\n",
       "    <tr>\n",
       "      <th>1</th>\n",
       "      <td>66755948</td>\n",
       "      <td>렌탈</td>\n",
       "      <td>Extension_Rental</td>\n",
       "      <td>서비스 방문</td>\n",
       "      <td>2019-10-20</td>\n",
       "      <td>60</td>\n",
       "      <td>카드이체</td>\n",
       "      <td>K1</td>\n",
       "      <td>102900</td>\n",
       "      <td>계약확정</td>\n",
       "      <td>0</td>\n",
       "      <td>없음</td>\n",
       "      <td>2.0</td>\n",
       "      <td>현대카드</td>\n",
       "      <td>정상</td>\n",
       "      <td>62.0</td>\n",
       "      <td>2532.0</td>\n",
       "    </tr>\n",
       "  </tbody>\n",
       "</table>\n",
       "</div>"
      ],
      "text/plain": [
       "         id type_of_contract type_of_contract2 channel    datetime  Term  \\\n",
       "0  66758234               렌탈            Normal  서비스 방문  2019-10-20    60   \n",
       "1  66755948               렌탈  Extension_Rental  서비스 방문  2019-10-20    60   \n",
       "\n",
       "  payment_type product  amount state  overdue_count overdue  credit rating  \\\n",
       "0          CMS      K1   96900  계약확정              0      없음            9.0   \n",
       "1         카드이체      K1  102900  계약확정              0      없음            2.0   \n",
       "\n",
       "    bank cancellation   age  Mileage  \n",
       "0  새마을금고           정상  43.0   1862.0  \n",
       "1   현대카드           정상  62.0   2532.0  "
      ]
     },
     "execution_count": 2,
     "metadata": {},
     "output_type": "execute_result"
    }
   ],
   "source": [
    "df_TOCC = pd.read_csv('../../datasets/TypeOfContractChannel.csv')\n",
    "df_TOCC[:2]"
   ]
  },
  {
   "cell_type": "markdown",
   "id": "6eb477e5-972f-404c-ab84-bb64228c18be",
   "metadata": {
    "tags": []
   },
   "source": [
    "### x = 범주형, y = 연속형 : 범주형에 따른 상관관계 확인"
   ]
  },
  {
   "cell_type": "markdown",
   "id": "5b56b732-f471-4c3f-8b08-74b9681720b3",
   "metadata": {
    "jp-MarkdownHeadingCollapsed": true,
    "tags": []
   },
   "source": [
    "### 선정 변수 : channel(항목2개), amount(비정규 분포)  -> Wilcoxon test 사용\n",
    "- 분석 내용 : channel 중 서비스방문과 홈쇼핑에 따른 월 렌탈 비용 평균이 차이가 있는가?\n",
    "    - 귀무 가설 : 월 렌탈 비용 평균에 차이가 없다. (> 0.05)\n",
    "    - 대립 가설 : 월 렌탈 비용 평균에 차이가 있다. (< 0.05)\n",
    "- 분석 결론 (기준 : p-value 0.05)\n",
    "    - 통계 결론 : 대립가설 참(statistic=74.731078009603, pvalue=0.0)\n",
    "    - 사실 결론 : 월 렌탈 비용 평균에 차이가 있다."
   ]
  },
  {
   "cell_type": "code",
   "execution_count": 3,
   "id": "60cf1269-4fe2-4a35-8f2d-7b61bd496ea5",
   "metadata": {
    "tags": []
   },
   "outputs": [
    {
     "data": {
      "text/plain": [
       "<Axes: xlabel='channel', ylabel='count'>"
      ]
     },
     "execution_count": 3,
     "metadata": {},
     "output_type": "execute_result"
    },
    {
     "data": {
      "image/png": "[encoded data removed]",
      "text/plain": [
       "<Figure size 640x480 with 1 Axes>"
      ]
     },
     "metadata": {},
     "output_type": "display_data"
    }
   ],
   "source": [
    "sns.countplot(data=df_TOCC, x='channel')"
   ]
  },
  {
   "cell_type": "code",
   "execution_count": 4,
   "id": "8439d616-5be8-4db9-a685-dd3f95f44dfb",
   "metadata": {
    "tags": []
   },
   "outputs": [
    {
     "data": {
      "text/plain": [
       "서비스 방문     15186\n",
       "홈쇼핑/방송     12977\n",
       "렌탈총판        5544\n",
       "R관리방판       4727\n",
       "하이마트        3227\n",
       "영업방판        3039\n",
       "렌탈재계약       2193\n",
       "일반          1232\n",
       "전자랜드        1205\n",
       "R빌리미         560\n",
       "이마트          265\n",
       "홈플러스         225\n",
       "R인터넷         198\n",
       "R유통사         188\n",
       "홈쇼핑/인터넷      177\n",
       "R렌탈운영        120\n",
       "R농협          119\n",
       "R농협인터넷몰       83\n",
       "R법인그룹         20\n",
       "R법인           19\n",
       "Name: channel, dtype: int64"
      ]
     },
     "execution_count": 4,
     "metadata": {},
     "output_type": "execute_result"
    }
   ],
   "source": [
    "df_TOCC['channel'].value_counts()"
   ]
  },
  {
   "cell_type": "code",
   "execution_count": 11,
   "id": "9ea6ad81-fd70-4434-b907-26ca933a3f07",
   "metadata": {},
   "outputs": [
    {
     "data": {
      "text/html": [
       "<div>\n",
       "<style scoped>\n",
       "    .dataframe tbody tr th:only-of-type {\n",
       "        vertical-align: middle;\n",
       "    }\n",
       "\n",
       "    .dataframe tbody tr th {\n",
       "        vertical-align: top;\n",
       "    }\n",
       "\n",
       "    .dataframe thead th {\n",
       "        text-align: right;\n",
       "    }\n",
       "</style>\n",
       "<table border=\"1\" class=\"dataframe\">\n",
       "  <thead>\n",
       "    <tr style=\"text-align: right;\">\n",
       "      <th></th>\n",
       "      <th>channel</th>\n",
       "      <th>amount</th>\n",
       "    </tr>\n",
       "  </thead>\n",
       "  <tbody>\n",
       "    <tr>\n",
       "      <th>0</th>\n",
       "      <td>서비스 방문</td>\n",
       "      <td>96900</td>\n",
       "    </tr>\n",
       "    <tr>\n",
       "      <th>1</th>\n",
       "      <td>서비스 방문</td>\n",
       "      <td>102900</td>\n",
       "    </tr>\n",
       "    <tr>\n",
       "      <th>2</th>\n",
       "      <td>홈쇼핑/방송</td>\n",
       "      <td>96900</td>\n",
       "    </tr>\n",
       "    <tr>\n",
       "      <th>5</th>\n",
       "      <td>서비스 방문</td>\n",
       "      <td>90900</td>\n",
       "    </tr>\n",
       "  </tbody>\n",
       "</table>\n",
       "</div>"
      ],
      "text/plain": [
       "  channel  amount\n",
       "0  서비스 방문   96900\n",
       "1  서비스 방문  102900\n",
       "2  홈쇼핑/방송   96900\n",
       "5  서비스 방문   90900"
      ]
     },
     "execution_count": 11,
     "metadata": {},
     "output_type": "execute_result"
    }
   ],
   "source": [
    "# condition을 사용하여 내가 검증하고 싶은 항목만 필터링\n",
    "condition = (df_TOCC['channel']=='서비스 방문') | (df_TOCC['channel']== '홈쇼핑/방송')\n",
    "df_channel_amount = df_TOCC[condition][['channel', 'amount']]\n",
    "df_channel_amount[:4]"
   ]
  },
  {
   "cell_type": "code",
   "execution_count": 12,
   "id": "1d5078ea-8bf3-44e8-b3f8-570e4178ba3b",
   "metadata": {
    "tags": []
   },
   "outputs": [
    {
     "name": "stdout",
     "output_type": "stream",
     "text": [
      "<class 'pandas.core.frame.DataFrame'>\n",
      "Int64Index: 28163 entries, 0 to 51301\n",
      "Data columns (total 2 columns):\n",
      " #   Column   Non-Null Count  Dtype \n",
      "---  ------   --------------  ----- \n",
      " 0   channel  28163 non-null  object\n",
      " 1   amount   28163 non-null  int64 \n",
      "dtypes: int64(1), object(1)\n",
      "memory usage: 660.1+ KB\n"
     ]
    }
   ],
   "source": [
    "df_channel_amount.info()"
   ]
  },
  {
   "cell_type": "markdown",
   "id": "460014d4-1159-4ca4-9eb4-380a989ad515",
   "metadata": {
    "tags": []
   },
   "source": [
    "#### 5천 건 이상 anderson tets : 정규 분포 검증"
   ]
  },
  {
   "cell_type": "code",
   "execution_count": 14,
   "id": "581d2779-61c7-4078-b32e-c06f2ab6f460",
   "metadata": {
    "tags": []
   },
   "outputs": [
    {
     "data": {
      "text/plain": [
       "(1292.5765966678264,\n",
       " array([0.576, 0.656, 0.787, 0.918, 1.092]),\n",
       " array([15. , 10. ,  5. ,  2.5,  1. ]))"
      ]
     },
     "execution_count": 14,
     "metadata": {},
     "output_type": "execute_result"
    }
   ],
   "source": [
    "# s < cv : 정규분포 , s > cv :비정규 분포\n",
    "statistic, cv ,sl = stats.anderson(df_channel_amount['amount'])\n",
    "statistic, cv ,sl"
   ]
  },
  {
   "cell_type": "code",
   "execution_count": 16,
   "id": "235d19e0-3978-4856-9df1-ac376e66c2b3",
   "metadata": {
    "tags": []
   },
   "outputs": [
    {
     "data": {
      "text/plain": [
       "<Axes: xlabel='amount', ylabel='Count'>"
      ]
     },
     "execution_count": 16,
     "metadata": {},
     "output_type": "execute_result"
    },
    {
     "data": {
      "image/png": "[encoded data removed]",
      "text/plain": [
       "<Figure size 640x480 with 1 Axes>"
      ]
     },
     "metadata": {},
     "output_type": "display_data"
    }
   ],
   "source": [
    "sns.histplot(df_channel_amount, x='amount', kde=True)"
   ]
  },
  {
   "cell_type": "markdown",
   "id": "8980f212-c3aa-4e4f-bd82-b04c6ba822a5",
   "metadata": {},
   "source": [
    "##### 범주형 항목에 따라 검증 : 2개항목"
   ]
  },
  {
   "cell_type": "code",
   "execution_count": 18,
   "id": "6af96983-b53e-4369-b0ff-68d69445bd2a",
   "metadata": {
    "tags": []
   },
   "outputs": [
    {
     "data": {
      "text/plain": [
       "서비스 방문    15186\n",
       "홈쇼핑/방송    12977\n",
       "Name: channel, dtype: int64"
      ]
     },
     "execution_count": 18,
     "metadata": {},
     "output_type": "execute_result"
    }
   ],
   "source": [
    "df_channel_amount['channel'].value_counts()"
   ]
  },
  {
   "cell_type": "code",
   "execution_count": 21,
   "id": "367a2c7b-6b04-4df2-b086-89535c49e4fd",
   "metadata": {
    "tags": []
   },
   "outputs": [
    {
     "data": {
      "text/html": [
       "<div>\n",
       "<style scoped>\n",
       "    .dataframe tbody tr th:only-of-type {\n",
       "        vertical-align: middle;\n",
       "    }\n",
       "\n",
       "    .dataframe tbody tr th {\n",
       "        vertical-align: top;\n",
       "    }\n",
       "\n",
       "    .dataframe thead th {\n",
       "        text-align: right;\n",
       "    }\n",
       "</style>\n",
       "<table border=\"1\" class=\"dataframe\">\n",
       "  <thead>\n",
       "    <tr style=\"text-align: right;\">\n",
       "      <th></th>\n",
       "      <th>channel</th>\n",
       "      <th>amount</th>\n",
       "    </tr>\n",
       "  </thead>\n",
       "  <tbody>\n",
       "    <tr>\n",
       "      <th>0</th>\n",
       "      <td>서비스 방문</td>\n",
       "      <td>96900</td>\n",
       "    </tr>\n",
       "    <tr>\n",
       "      <th>1</th>\n",
       "      <td>서비스 방문</td>\n",
       "      <td>102900</td>\n",
       "    </tr>\n",
       "    <tr>\n",
       "      <th>5</th>\n",
       "      <td>서비스 방문</td>\n",
       "      <td>90900</td>\n",
       "    </tr>\n",
       "    <tr>\n",
       "      <th>8</th>\n",
       "      <td>서비스 방문</td>\n",
       "      <td>102900</td>\n",
       "    </tr>\n",
       "    <tr>\n",
       "      <th>9</th>\n",
       "      <td>서비스 방문</td>\n",
       "      <td>105900</td>\n",
       "    </tr>\n",
       "    <tr>\n",
       "      <th>...</th>\n",
       "      <td>...</td>\n",
       "      <td>...</td>\n",
       "    </tr>\n",
       "    <tr>\n",
       "      <th>51231</th>\n",
       "      <td>서비스 방문</td>\n",
       "      <td>105900</td>\n",
       "    </tr>\n",
       "    <tr>\n",
       "      <th>51234</th>\n",
       "      <td>서비스 방문</td>\n",
       "      <td>105900</td>\n",
       "    </tr>\n",
       "    <tr>\n",
       "      <th>51247</th>\n",
       "      <td>서비스 방문</td>\n",
       "      <td>96900</td>\n",
       "    </tr>\n",
       "    <tr>\n",
       "      <th>51282</th>\n",
       "      <td>서비스 방문</td>\n",
       "      <td>96900</td>\n",
       "    </tr>\n",
       "    <tr>\n",
       "      <th>51288</th>\n",
       "      <td>서비스 방문</td>\n",
       "      <td>102900</td>\n",
       "    </tr>\n",
       "  </tbody>\n",
       "</table>\n",
       "<p>15186 rows × 2 columns</p>\n",
       "</div>"
      ],
      "text/plain": [
       "      channel  amount\n",
       "0      서비스 방문   96900\n",
       "1      서비스 방문  102900\n",
       "5      서비스 방문   90900\n",
       "8      서비스 방문  102900\n",
       "9      서비스 방문  105900\n",
       "...       ...     ...\n",
       "51231  서비스 방문  105900\n",
       "51234  서비스 방문  105900\n",
       "51247  서비스 방문   96900\n",
       "51282  서비스 방문   96900\n",
       "51288  서비스 방문  102900\n",
       "\n",
       "[15186 rows x 2 columns]"
      ]
     },
     "execution_count": 21,
     "metadata": {},
     "output_type": "execute_result"
    }
   ],
   "source": [
    "df_seravice = df_channel_amount[df_channel_amount['channel']=='서비스 방문']\n",
    "df_seravice"
   ]
  },
  {
   "cell_type": "code",
   "execution_count": 23,
   "id": "57f8fb4d-fe47-4260-a462-53b46e3326c5",
   "metadata": {
    "tags": []
   },
   "outputs": [
    {
     "data": {
      "text/html": [
       "<div>\n",
       "<style scoped>\n",
       "    .dataframe tbody tr th:only-of-type {\n",
       "        vertical-align: middle;\n",
       "    }\n",
       "\n",
       "    .dataframe tbody tr th {\n",
       "        vertical-align: top;\n",
       "    }\n",
       "\n",
       "    .dataframe thead th {\n",
       "        text-align: right;\n",
       "    }\n",
       "</style>\n",
       "<table border=\"1\" class=\"dataframe\">\n",
       "  <thead>\n",
       "    <tr style=\"text-align: right;\">\n",
       "      <th></th>\n",
       "      <th>channel</th>\n",
       "      <th>amount</th>\n",
       "    </tr>\n",
       "  </thead>\n",
       "  <tbody>\n",
       "    <tr>\n",
       "      <th>2</th>\n",
       "      <td>홈쇼핑/방송</td>\n",
       "      <td>96900</td>\n",
       "    </tr>\n",
       "    <tr>\n",
       "      <th>6</th>\n",
       "      <td>홈쇼핑/방송</td>\n",
       "      <td>98400</td>\n",
       "    </tr>\n",
       "    <tr>\n",
       "      <th>7</th>\n",
       "      <td>홈쇼핑/방송</td>\n",
       "      <td>80400</td>\n",
       "    </tr>\n",
       "    <tr>\n",
       "      <th>10</th>\n",
       "      <td>홈쇼핑/방송</td>\n",
       "      <td>81900</td>\n",
       "    </tr>\n",
       "    <tr>\n",
       "      <th>11</th>\n",
       "      <td>홈쇼핑/방송</td>\n",
       "      <td>81900</td>\n",
       "    </tr>\n",
       "    <tr>\n",
       "      <th>...</th>\n",
       "      <td>...</td>\n",
       "      <td>...</td>\n",
       "    </tr>\n",
       "    <tr>\n",
       "      <th>51272</th>\n",
       "      <td>홈쇼핑/방송</td>\n",
       "      <td>96900</td>\n",
       "    </tr>\n",
       "    <tr>\n",
       "      <th>51292</th>\n",
       "      <td>홈쇼핑/방송</td>\n",
       "      <td>96900</td>\n",
       "    </tr>\n",
       "    <tr>\n",
       "      <th>51296</th>\n",
       "      <td>홈쇼핑/방송</td>\n",
       "      <td>96900</td>\n",
       "    </tr>\n",
       "    <tr>\n",
       "      <th>51297</th>\n",
       "      <td>홈쇼핑/방송</td>\n",
       "      <td>96900</td>\n",
       "    </tr>\n",
       "    <tr>\n",
       "      <th>51301</th>\n",
       "      <td>홈쇼핑/방송</td>\n",
       "      <td>120900</td>\n",
       "    </tr>\n",
       "  </tbody>\n",
       "</table>\n",
       "<p>12977 rows × 2 columns</p>\n",
       "</div>"
      ],
      "text/plain": [
       "      channel  amount\n",
       "2      홈쇼핑/방송   96900\n",
       "6      홈쇼핑/방송   98400\n",
       "7      홈쇼핑/방송   80400\n",
       "10     홈쇼핑/방송   81900\n",
       "11     홈쇼핑/방송   81900\n",
       "...       ...     ...\n",
       "51272  홈쇼핑/방송   96900\n",
       "51292  홈쇼핑/방송   96900\n",
       "51296  홈쇼핑/방송   96900\n",
       "51297  홈쇼핑/방송   96900\n",
       "51301  홈쇼핑/방송  120900\n",
       "\n",
       "[12977 rows x 2 columns]"
      ]
     },
     "execution_count": 23,
     "metadata": {},
     "output_type": "execute_result"
    }
   ],
   "source": [
    "df_homeshopping = df_channel_amount[df_channel_amount['channel']=='홈쇼핑/방송']\n",
    "df_homeshopping "
   ]
  },
  {
   "cell_type": "code",
   "execution_count": 24,
   "id": "2205ff60-6192-4883-a426-548c6e4ba71c",
   "metadata": {
    "tags": []
   },
   "outputs": [
    {
     "data": {
      "text/plain": [
       "RanksumsResult(statistic=74.731078009603, pvalue=0.0)"
      ]
     },
     "execution_count": 24,
     "metadata": {},
     "output_type": "execute_result"
    }
   ],
   "source": [
    "stats.ranksums(df_seravice['amount'], df_homeshopping['amount'])"
   ]
  },
  {
   "cell_type": "code",
   "execution_count": null,
   "id": "51c14fdd-5196-4000-81a2-d1bcdd94e506",
   "metadata": {},
   "outputs": [],
   "source": []
  }
 ],
 "metadata": {
  "kernelspec": {
   "display_name": "Python 3 (ipykernel)",
   "language": "python",
   "name": "python3"
  },
  "language_info": {
   "codemirror_mode": {
    "name": "ipython",
    "version": 3
   },
   "file_extension": ".py",
   "mimetype": "text/x-python",
   "name": "python",
   "nbconvert_exporter": "python",
   "pygments_lexer": "ipython3",
   "version": "3.11.3"
  }
 },
 "nbformat": 4,
 "nbformat_minor": 5
}
