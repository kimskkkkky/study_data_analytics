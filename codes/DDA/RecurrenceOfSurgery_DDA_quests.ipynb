{
 "cells": [
  {
   "cell_type": "markdown",
   "id": "b3e6617d-f414-4191-beea-0ede971d00e0",
   "metadata": {},
   "source": [
    "### Quest\n",
    "- 분석 대상 : 성별,신장,심혈관질환,체중,흡연여부,연령,직업,혈액형,재발여부\n",
    "- 단일 변수 chart 각각 작성\n",
    "- 이상치와 결측치가 없는 데이터셋 만들기"
   ]
  },
  {
   "cell_type": "code",
   "execution_count": 177,
   "id": "19d01d2c-0838-41d0-8593-e7a7602d9a8a",
   "metadata": {
    "tags": []
   },
   "outputs": [],
   "source": [
    "import matplotlib.pyplot as plt\n",
    "import matplotlib as mpl\n",
    "mpl.rc('font', family='Malgun Gothic')\n",
    "import seaborn as sns\n",
    "import pandas as pd\n",
    "import numpy as np"
   ]
  },
  {
   "cell_type": "code",
   "execution_count": 178,
   "id": "1a3233c9-129c-4aae-8a81-7e53e723fa22",
   "metadata": {
    "tags": []
   },
   "outputs": [
    {
     "data": {
      "text/html": [
       "<div>\n",
       "<style scoped>\n",
       "    .dataframe tbody tr th:only-of-type {\n",
       "        vertical-align: middle;\n",
       "    }\n",
       "\n",
       "    .dataframe tbody tr th {\n",
       "        vertical-align: top;\n",
       "    }\n",
       "\n",
       "    .dataframe thead th {\n",
       "        text-align: right;\n",
       "    }\n",
       "</style>\n",
       "<table border=\"1\" class=\"dataframe\">\n",
       "  <thead>\n",
       "    <tr style=\"text-align: right;\">\n",
       "      <th></th>\n",
       "      <th>Unnamed: 0</th>\n",
       "      <th>환자ID</th>\n",
       "      <th>Large Lymphocyte</th>\n",
       "      <th>Location of herniation</th>\n",
       "      <th>ODI</th>\n",
       "      <th>가족력</th>\n",
       "      <th>간질성폐질환</th>\n",
       "      <th>고혈압여부</th>\n",
       "      <th>과거수술횟수</th>\n",
       "      <th>당뇨여부</th>\n",
       "      <th>...</th>\n",
       "      <th>Modic change</th>\n",
       "      <th>PI</th>\n",
       "      <th>PT</th>\n",
       "      <th>Seg Angle(raw)</th>\n",
       "      <th>Vaccum disc</th>\n",
       "      <th>골밀도</th>\n",
       "      <th>디스크단면적</th>\n",
       "      <th>디스크위치</th>\n",
       "      <th>척추이동척도</th>\n",
       "      <th>척추전방위증</th>\n",
       "    </tr>\n",
       "  </thead>\n",
       "  <tbody>\n",
       "    <tr>\n",
       "      <th>0</th>\n",
       "      <td>0</td>\n",
       "      <td>1PT</td>\n",
       "      <td>22.8</td>\n",
       "      <td>3</td>\n",
       "      <td>51.0</td>\n",
       "      <td>0.0</td>\n",
       "      <td>0</td>\n",
       "      <td>0</td>\n",
       "      <td>0</td>\n",
       "      <td>0</td>\n",
       "      <td>...</td>\n",
       "      <td>3</td>\n",
       "      <td>51.6</td>\n",
       "      <td>36.6</td>\n",
       "      <td>14.4</td>\n",
       "      <td>0</td>\n",
       "      <td>-1.01</td>\n",
       "      <td>2048.50</td>\n",
       "      <td>4</td>\n",
       "      <td>Down</td>\n",
       "      <td>0</td>\n",
       "    </tr>\n",
       "    <tr>\n",
       "      <th>1</th>\n",
       "      <td>1</td>\n",
       "      <td>2PT</td>\n",
       "      <td>44.9</td>\n",
       "      <td>4</td>\n",
       "      <td>26.0</td>\n",
       "      <td>0.0</td>\n",
       "      <td>0</td>\n",
       "      <td>0</td>\n",
       "      <td>0</td>\n",
       "      <td>0</td>\n",
       "      <td>...</td>\n",
       "      <td>0</td>\n",
       "      <td>40.8</td>\n",
       "      <td>7.2</td>\n",
       "      <td>17.8</td>\n",
       "      <td>0</td>\n",
       "      <td>-1.14</td>\n",
       "      <td>1753.10</td>\n",
       "      <td>4</td>\n",
       "      <td>Up</td>\n",
       "      <td>0</td>\n",
       "    </tr>\n",
       "    <tr>\n",
       "      <th>2</th>\n",
       "      <td>2</td>\n",
       "      <td>3PT</td>\n",
       "      <td>53.0</td>\n",
       "      <td>3</td>\n",
       "      <td>NaN</td>\n",
       "      <td>0.0</td>\n",
       "      <td>0</td>\n",
       "      <td>0</td>\n",
       "      <td>1</td>\n",
       "      <td>0</td>\n",
       "      <td>...</td>\n",
       "      <td>0</td>\n",
       "      <td>67.5</td>\n",
       "      <td>27.3</td>\n",
       "      <td>10.2</td>\n",
       "      <td>0</td>\n",
       "      <td>-1.77</td>\n",
       "      <td>1749.00</td>\n",
       "      <td>4</td>\n",
       "      <td>Down</td>\n",
       "      <td>0</td>\n",
       "    </tr>\n",
       "    <tr>\n",
       "      <th>3</th>\n",
       "      <td>3</td>\n",
       "      <td>4PT</td>\n",
       "      <td>54.7</td>\n",
       "      <td>4</td>\n",
       "      <td>18.0</td>\n",
       "      <td>0.0</td>\n",
       "      <td>0</td>\n",
       "      <td>1</td>\n",
       "      <td>0</td>\n",
       "      <td>0</td>\n",
       "      <td>...</td>\n",
       "      <td>0</td>\n",
       "      <td>49.2</td>\n",
       "      <td>18.7</td>\n",
       "      <td>19.9</td>\n",
       "      <td>0</td>\n",
       "      <td>-1.58</td>\n",
       "      <td>1796.20</td>\n",
       "      <td>4</td>\n",
       "      <td>Down</td>\n",
       "      <td>0</td>\n",
       "    </tr>\n",
       "    <tr>\n",
       "      <th>4</th>\n",
       "      <td>4</td>\n",
       "      <td>5PT</td>\n",
       "      <td>53.8</td>\n",
       "      <td>4</td>\n",
       "      <td>NaN</td>\n",
       "      <td>0.0</td>\n",
       "      <td>0</td>\n",
       "      <td>1</td>\n",
       "      <td>0</td>\n",
       "      <td>0</td>\n",
       "      <td>...</td>\n",
       "      <td>0</td>\n",
       "      <td>58.8</td>\n",
       "      <td>14.7</td>\n",
       "      <td>5.2</td>\n",
       "      <td>0</td>\n",
       "      <td>-0.79</td>\n",
       "      <td>2021.48</td>\n",
       "      <td>4</td>\n",
       "      <td>Up</td>\n",
       "      <td>0</td>\n",
       "    </tr>\n",
       "  </tbody>\n",
       "</table>\n",
       "<p>5 rows × 52 columns</p>\n",
       "</div>"
      ],
      "text/plain": [
       "   Unnamed: 0 환자ID  Large Lymphocyte  Location of herniation   ODI  가족력  \\\n",
       "0           0  1PT              22.8                       3  51.0  0.0   \n",
       "1           1  2PT              44.9                       4  26.0  0.0   \n",
       "2           2  3PT              53.0                       3   NaN  0.0   \n",
       "3           3  4PT              54.7                       4  18.0  0.0   \n",
       "4           4  5PT              53.8                       4   NaN  0.0   \n",
       "\n",
       "   간질성폐질환  고혈압여부  과거수술횟수  당뇨여부  ...  Modic change    PI    PT  Seg Angle(raw)  \\\n",
       "0       0      0       0     0  ...             3  51.6  36.6            14.4   \n",
       "1       0      0       0     0  ...             0  40.8   7.2            17.8   \n",
       "2       0      0       1     0  ...             0  67.5  27.3            10.2   \n",
       "3       0      1       0     0  ...             0  49.2  18.7            19.9   \n",
       "4       0      1       0     0  ...             0  58.8  14.7             5.2   \n",
       "\n",
       "   Vaccum disc   골밀도   디스크단면적  디스크위치  척추이동척도  척추전방위증  \n",
       "0            0 -1.01  2048.50      4    Down       0  \n",
       "1            0 -1.14  1753.10      4      Up       0  \n",
       "2            0 -1.77  1749.00      4    Down       0  \n",
       "3            0 -1.58  1796.20      4    Down       0  \n",
       "4            0 -0.79  2021.48      4      Up       0  \n",
       "\n",
       "[5 rows x 52 columns]"
      ]
     },
     "execution_count": 178,
     "metadata": {},
     "output_type": "execute_result"
    }
   ],
   "source": [
    "df_ROS = pd.read_csv('../../datasets/RecurrenceOfSurgery.csv')\n",
    "df_ROS[:5]"
   ]
  },
  {
   "cell_type": "code",
   "execution_count": 179,
   "id": "30f581d2-cff3-485b-a3c0-fe912ef56add",
   "metadata": {
    "tags": []
   },
   "outputs": [
    {
     "name": "stdout",
     "output_type": "stream",
     "text": [
      "<class 'pandas.core.frame.DataFrame'>\n",
      "RangeIndex: 1894 entries, 0 to 1893\n",
      "Data columns (total 52 columns):\n",
      " #   Column                  Non-Null Count  Dtype  \n",
      "---  ------                  --------------  -----  \n",
      " 0   Unnamed: 0              1894 non-null   int64  \n",
      " 1   환자ID                    1894 non-null   object \n",
      " 2   Large Lymphocyte        1894 non-null   float64\n",
      " 3   Location of herniation  1894 non-null   int64  \n",
      " 4   ODI                     462 non-null    float64\n",
      " 5   가족력                     1843 non-null   float64\n",
      " 6   간질성폐질환                  1894 non-null   int64  \n",
      " 7   고혈압여부                   1894 non-null   int64  \n",
      " 8   과거수술횟수                  1894 non-null   int64  \n",
      " 9   당뇨여부                    1894 non-null   int64  \n",
      " 10  말초동맥질환여부                1894 non-null   int64  \n",
      " 11  빈혈여부                    1894 non-null   int64  \n",
      " 12  성별                      1894 non-null   int64  \n",
      " 13  스테로이드치료                 1894 non-null   int64  \n",
      " 14  신부전여부                   1894 non-null   int64  \n",
      " 15  신장                      1894 non-null   int64  \n",
      " 16  심혈관질환                   1894 non-null   int64  \n",
      " 17  암발병여부                   1894 non-null   int64  \n",
      " 18  연령                      1894 non-null   int64  \n",
      " 19  우울증여부                   1894 non-null   int64  \n",
      " 20  입원기간                    1894 non-null   int64  \n",
      " 21  입원일자                    1894 non-null   int64  \n",
      " 22  종양진행여부                  1894 non-null   int64  \n",
      " 23  직업                      1479 non-null   object \n",
      " 24  체중                      1894 non-null   float64\n",
      " 25  퇴원일자                    1894 non-null   int64  \n",
      " 26  헤모글로빈수치                 1893 non-null   float64\n",
      " 27  혈전합병증여부                 1894 non-null   int64  \n",
      " 28  환자통증정도                  1894 non-null   int64  \n",
      " 29  흡연여부                    1894 non-null   int64  \n",
      " 30  통증기간(월)                 1890 non-null   float64\n",
      " 31  수술기법                    1813 non-null   object \n",
      " 32  수술시간                    1840 non-null   float64\n",
      " 33  수술실패여부                  1894 non-null   int64  \n",
      " 34  수술일자                    1894 non-null   int64  \n",
      " 35  재발여부                    1894 non-null   int64  \n",
      " 36  혈액형                     1894 non-null   object \n",
      " 37  전방디스크높이(mm)             1894 non-null   float64\n",
      " 38  후방디스크높이(mm)             1894 non-null   float64\n",
      " 39  지방축적도                   1891 non-null   float64\n",
      " 40  Instability             1894 non-null   int64  \n",
      " 41  MF + ES                 1894 non-null   float64\n",
      " 42  Modic change            1894 non-null   int64  \n",
      " 43  PI                      1890 non-null   float64\n",
      " 44  PT                      1890 non-null   float64\n",
      " 45  Seg Angle(raw)          1893 non-null   float64\n",
      " 46  Vaccum disc             1894 non-null   int64  \n",
      " 47  골밀도                     998 non-null    float64\n",
      " 48  디스크단면적                  1893 non-null   float64\n",
      " 49  디스크위치                   1894 non-null   int64  \n",
      " 50  척추이동척도                  1894 non-null   object \n",
      " 51  척추전방위증                  1894 non-null   int64  \n",
      "dtypes: float64(16), int64(31), object(5)\n",
      "memory usage: 769.6+ KB\n"
     ]
    }
   ],
   "source": [
    "df_ROS.info()"
   ]
  },
  {
   "cell_type": "code",
   "execution_count": 180,
   "id": "d9c0245e-7074-4545-9c15-a4390808671e",
   "metadata": {
    "tags": []
   },
   "outputs": [
    {
     "data": {
      "text/html": [
       "<div>\n",
       "<style scoped>\n",
       "    .dataframe tbody tr th:only-of-type {\n",
       "        vertical-align: middle;\n",
       "    }\n",
       "\n",
       "    .dataframe tbody tr th {\n",
       "        vertical-align: top;\n",
       "    }\n",
       "\n",
       "    .dataframe thead th {\n",
       "        text-align: right;\n",
       "    }\n",
       "</style>\n",
       "<table border=\"1\" class=\"dataframe\">\n",
       "  <thead>\n",
       "    <tr style=\"text-align: right;\">\n",
       "      <th></th>\n",
       "      <th>Unnamed: 0</th>\n",
       "      <th>환자ID</th>\n",
       "      <th>Large Lymphocyte</th>\n",
       "      <th>Location of herniation</th>\n",
       "      <th>ODI</th>\n",
       "      <th>가족력</th>\n",
       "      <th>간질성폐질환</th>\n",
       "      <th>고혈압여부</th>\n",
       "      <th>과거수술횟수</th>\n",
       "      <th>당뇨여부</th>\n",
       "      <th>...</th>\n",
       "      <th>Modic change</th>\n",
       "      <th>PI</th>\n",
       "      <th>PT</th>\n",
       "      <th>Seg Angle(raw)</th>\n",
       "      <th>Vaccum disc</th>\n",
       "      <th>골밀도</th>\n",
       "      <th>디스크단면적</th>\n",
       "      <th>디스크위치</th>\n",
       "      <th>척추이동척도</th>\n",
       "      <th>척추전방위증</th>\n",
       "    </tr>\n",
       "  </thead>\n",
       "  <tbody>\n",
       "    <tr>\n",
       "      <th>0</th>\n",
       "      <td>False</td>\n",
       "      <td>False</td>\n",
       "      <td>False</td>\n",
       "      <td>False</td>\n",
       "      <td>False</td>\n",
       "      <td>False</td>\n",
       "      <td>False</td>\n",
       "      <td>False</td>\n",
       "      <td>False</td>\n",
       "      <td>False</td>\n",
       "      <td>...</td>\n",
       "      <td>False</td>\n",
       "      <td>False</td>\n",
       "      <td>False</td>\n",
       "      <td>False</td>\n",
       "      <td>False</td>\n",
       "      <td>False</td>\n",
       "      <td>False</td>\n",
       "      <td>False</td>\n",
       "      <td>False</td>\n",
       "      <td>False</td>\n",
       "    </tr>\n",
       "    <tr>\n",
       "      <th>1</th>\n",
       "      <td>False</td>\n",
       "      <td>False</td>\n",
       "      <td>False</td>\n",
       "      <td>False</td>\n",
       "      <td>False</td>\n",
       "      <td>False</td>\n",
       "      <td>False</td>\n",
       "      <td>False</td>\n",
       "      <td>False</td>\n",
       "      <td>False</td>\n",
       "      <td>...</td>\n",
       "      <td>False</td>\n",
       "      <td>False</td>\n",
       "      <td>False</td>\n",
       "      <td>False</td>\n",
       "      <td>False</td>\n",
       "      <td>False</td>\n",
       "      <td>False</td>\n",
       "      <td>False</td>\n",
       "      <td>False</td>\n",
       "      <td>False</td>\n",
       "    </tr>\n",
       "    <tr>\n",
       "      <th>2</th>\n",
       "      <td>False</td>\n",
       "      <td>False</td>\n",
       "      <td>False</td>\n",
       "      <td>False</td>\n",
       "      <td>True</td>\n",
       "      <td>False</td>\n",
       "      <td>False</td>\n",
       "      <td>False</td>\n",
       "      <td>False</td>\n",
       "      <td>False</td>\n",
       "      <td>...</td>\n",
       "      <td>False</td>\n",
       "      <td>False</td>\n",
       "      <td>False</td>\n",
       "      <td>False</td>\n",
       "      <td>False</td>\n",
       "      <td>False</td>\n",
       "      <td>False</td>\n",
       "      <td>False</td>\n",
       "      <td>False</td>\n",
       "      <td>False</td>\n",
       "    </tr>\n",
       "    <tr>\n",
       "      <th>3</th>\n",
       "      <td>False</td>\n",
       "      <td>False</td>\n",
       "      <td>False</td>\n",
       "      <td>False</td>\n",
       "      <td>False</td>\n",
       "      <td>False</td>\n",
       "      <td>False</td>\n",
       "      <td>False</td>\n",
       "      <td>False</td>\n",
       "      <td>False</td>\n",
       "      <td>...</td>\n",
       "      <td>False</td>\n",
       "      <td>False</td>\n",
       "      <td>False</td>\n",
       "      <td>False</td>\n",
       "      <td>False</td>\n",
       "      <td>False</td>\n",
       "      <td>False</td>\n",
       "      <td>False</td>\n",
       "      <td>False</td>\n",
       "      <td>False</td>\n",
       "    </tr>\n",
       "    <tr>\n",
       "      <th>4</th>\n",
       "      <td>False</td>\n",
       "      <td>False</td>\n",
       "      <td>False</td>\n",
       "      <td>False</td>\n",
       "      <td>True</td>\n",
       "      <td>False</td>\n",
       "      <td>False</td>\n",
       "      <td>False</td>\n",
       "      <td>False</td>\n",
       "      <td>False</td>\n",
       "      <td>...</td>\n",
       "      <td>False</td>\n",
       "      <td>False</td>\n",
       "      <td>False</td>\n",
       "      <td>False</td>\n",
       "      <td>False</td>\n",
       "      <td>False</td>\n",
       "      <td>False</td>\n",
       "      <td>False</td>\n",
       "      <td>False</td>\n",
       "      <td>False</td>\n",
       "    </tr>\n",
       "    <tr>\n",
       "      <th>...</th>\n",
       "      <td>...</td>\n",
       "      <td>...</td>\n",
       "      <td>...</td>\n",
       "      <td>...</td>\n",
       "      <td>...</td>\n",
       "      <td>...</td>\n",
       "      <td>...</td>\n",
       "      <td>...</td>\n",
       "      <td>...</td>\n",
       "      <td>...</td>\n",
       "      <td>...</td>\n",
       "      <td>...</td>\n",
       "      <td>...</td>\n",
       "      <td>...</td>\n",
       "      <td>...</td>\n",
       "      <td>...</td>\n",
       "      <td>...</td>\n",
       "      <td>...</td>\n",
       "      <td>...</td>\n",
       "      <td>...</td>\n",
       "      <td>...</td>\n",
       "    </tr>\n",
       "    <tr>\n",
       "      <th>1889</th>\n",
       "      <td>False</td>\n",
       "      <td>False</td>\n",
       "      <td>False</td>\n",
       "      <td>False</td>\n",
       "      <td>True</td>\n",
       "      <td>False</td>\n",
       "      <td>False</td>\n",
       "      <td>False</td>\n",
       "      <td>False</td>\n",
       "      <td>False</td>\n",
       "      <td>...</td>\n",
       "      <td>False</td>\n",
       "      <td>False</td>\n",
       "      <td>False</td>\n",
       "      <td>False</td>\n",
       "      <td>False</td>\n",
       "      <td>True</td>\n",
       "      <td>False</td>\n",
       "      <td>False</td>\n",
       "      <td>False</td>\n",
       "      <td>False</td>\n",
       "    </tr>\n",
       "    <tr>\n",
       "      <th>1890</th>\n",
       "      <td>False</td>\n",
       "      <td>False</td>\n",
       "      <td>False</td>\n",
       "      <td>False</td>\n",
       "      <td>True</td>\n",
       "      <td>False</td>\n",
       "      <td>False</td>\n",
       "      <td>False</td>\n",
       "      <td>False</td>\n",
       "      <td>False</td>\n",
       "      <td>...</td>\n",
       "      <td>False</td>\n",
       "      <td>False</td>\n",
       "      <td>False</td>\n",
       "      <td>False</td>\n",
       "      <td>False</td>\n",
       "      <td>True</td>\n",
       "      <td>False</td>\n",
       "      <td>False</td>\n",
       "      <td>False</td>\n",
       "      <td>False</td>\n",
       "    </tr>\n",
       "    <tr>\n",
       "      <th>1891</th>\n",
       "      <td>False</td>\n",
       "      <td>False</td>\n",
       "      <td>False</td>\n",
       "      <td>False</td>\n",
       "      <td>True</td>\n",
       "      <td>False</td>\n",
       "      <td>False</td>\n",
       "      <td>False</td>\n",
       "      <td>False</td>\n",
       "      <td>False</td>\n",
       "      <td>...</td>\n",
       "      <td>False</td>\n",
       "      <td>False</td>\n",
       "      <td>False</td>\n",
       "      <td>False</td>\n",
       "      <td>False</td>\n",
       "      <td>True</td>\n",
       "      <td>False</td>\n",
       "      <td>False</td>\n",
       "      <td>False</td>\n",
       "      <td>False</td>\n",
       "    </tr>\n",
       "    <tr>\n",
       "      <th>1892</th>\n",
       "      <td>False</td>\n",
       "      <td>False</td>\n",
       "      <td>False</td>\n",
       "      <td>False</td>\n",
       "      <td>True</td>\n",
       "      <td>False</td>\n",
       "      <td>False</td>\n",
       "      <td>False</td>\n",
       "      <td>False</td>\n",
       "      <td>False</td>\n",
       "      <td>...</td>\n",
       "      <td>False</td>\n",
       "      <td>False</td>\n",
       "      <td>False</td>\n",
       "      <td>False</td>\n",
       "      <td>False</td>\n",
       "      <td>True</td>\n",
       "      <td>False</td>\n",
       "      <td>False</td>\n",
       "      <td>False</td>\n",
       "      <td>False</td>\n",
       "    </tr>\n",
       "    <tr>\n",
       "      <th>1893</th>\n",
       "      <td>False</td>\n",
       "      <td>False</td>\n",
       "      <td>False</td>\n",
       "      <td>False</td>\n",
       "      <td>True</td>\n",
       "      <td>False</td>\n",
       "      <td>False</td>\n",
       "      <td>False</td>\n",
       "      <td>False</td>\n",
       "      <td>False</td>\n",
       "      <td>...</td>\n",
       "      <td>False</td>\n",
       "      <td>False</td>\n",
       "      <td>False</td>\n",
       "      <td>False</td>\n",
       "      <td>False</td>\n",
       "      <td>True</td>\n",
       "      <td>False</td>\n",
       "      <td>False</td>\n",
       "      <td>False</td>\n",
       "      <td>False</td>\n",
       "    </tr>\n",
       "  </tbody>\n",
       "</table>\n",
       "<p>1894 rows × 52 columns</p>\n",
       "</div>"
      ],
      "text/plain": [
       "      Unnamed: 0   환자ID  Large Lymphocyte  Location of herniation    ODI  \\\n",
       "0          False  False             False                   False  False   \n",
       "1          False  False             False                   False  False   \n",
       "2          False  False             False                   False   True   \n",
       "3          False  False             False                   False  False   \n",
       "4          False  False             False                   False   True   \n",
       "...          ...    ...               ...                     ...    ...   \n",
       "1889       False  False             False                   False   True   \n",
       "1890       False  False             False                   False   True   \n",
       "1891       False  False             False                   False   True   \n",
       "1892       False  False             False                   False   True   \n",
       "1893       False  False             False                   False   True   \n",
       "\n",
       "        가족력  간질성폐질환  고혈압여부  과거수술횟수   당뇨여부  ...  Modic change     PI     PT  \\\n",
       "0     False   False  False   False  False  ...         False  False  False   \n",
       "1     False   False  False   False  False  ...         False  False  False   \n",
       "2     False   False  False   False  False  ...         False  False  False   \n",
       "3     False   False  False   False  False  ...         False  False  False   \n",
       "4     False   False  False   False  False  ...         False  False  False   \n",
       "...     ...     ...    ...     ...    ...  ...           ...    ...    ...   \n",
       "1889  False   False  False   False  False  ...         False  False  False   \n",
       "1890  False   False  False   False  False  ...         False  False  False   \n",
       "1891  False   False  False   False  False  ...         False  False  False   \n",
       "1892  False   False  False   False  False  ...         False  False  False   \n",
       "1893  False   False  False   False  False  ...         False  False  False   \n",
       "\n",
       "      Seg Angle(raw)  Vaccum disc    골밀도  디스크단면적  디스크위치  척추이동척도  척추전방위증  \n",
       "0              False        False  False   False  False   False   False  \n",
       "1              False        False  False   False  False   False   False  \n",
       "2              False        False  False   False  False   False   False  \n",
       "3              False        False  False   False  False   False   False  \n",
       "4              False        False  False   False  False   False   False  \n",
       "...              ...          ...    ...     ...    ...     ...     ...  \n",
       "1889           False        False   True   False  False   False   False  \n",
       "1890           False        False   True   False  False   False   False  \n",
       "1891           False        False   True   False  False   False   False  \n",
       "1892           False        False   True   False  False   False   False  \n",
       "1893           False        False   True   False  False   False   False  \n",
       "\n",
       "[1894 rows x 52 columns]"
      ]
     },
     "execution_count": 180,
     "metadata": {},
     "output_type": "execute_result"
    }
   ],
   "source": [
    "df_ROS.isnull()"
   ]
  },
  {
   "cell_type": "code",
   "execution_count": 181,
   "id": "09f0fc04-1198-454a-9b90-57b070588b14",
   "metadata": {
    "tags": []
   },
   "outputs": [
    {
     "name": "stdout",
     "output_type": "stream",
     "text": [
      "<class 'pandas.core.frame.DataFrame'>\n",
      "Int64Index: 162 entries, 0 to 1216\n",
      "Data columns (total 52 columns):\n",
      " #   Column                  Non-Null Count  Dtype  \n",
      "---  ------                  --------------  -----  \n",
      " 0   Unnamed: 0              162 non-null    int64  \n",
      " 1   환자ID                    162 non-null    object \n",
      " 2   Large Lymphocyte        162 non-null    float64\n",
      " 3   Location of herniation  162 non-null    int64  \n",
      " 4   ODI                     162 non-null    float64\n",
      " 5   가족력                     162 non-null    float64\n",
      " 6   간질성폐질환                  162 non-null    int64  \n",
      " 7   고혈압여부                   162 non-null    int64  \n",
      " 8   과거수술횟수                  162 non-null    int64  \n",
      " 9   당뇨여부                    162 non-null    int64  \n",
      " 10  말초동맥질환여부                162 non-null    int64  \n",
      " 11  빈혈여부                    162 non-null    int64  \n",
      " 12  성별                      162 non-null    int64  \n",
      " 13  스테로이드치료                 162 non-null    int64  \n",
      " 14  신부전여부                   162 non-null    int64  \n",
      " 15  신장                      162 non-null    int64  \n",
      " 16  심혈관질환                   162 non-null    int64  \n",
      " 17  암발병여부                   162 non-null    int64  \n",
      " 18  연령                      162 non-null    int64  \n",
      " 19  우울증여부                   162 non-null    int64  \n",
      " 20  입원기간                    162 non-null    int64  \n",
      " 21  입원일자                    162 non-null    int64  \n",
      " 22  종양진행여부                  162 non-null    int64  \n",
      " 23  직업                      162 non-null    object \n",
      " 24  체중                      162 non-null    float64\n",
      " 25  퇴원일자                    162 non-null    int64  \n",
      " 26  헤모글로빈수치                 162 non-null    float64\n",
      " 27  혈전합병증여부                 162 non-null    int64  \n",
      " 28  환자통증정도                  162 non-null    int64  \n",
      " 29  흡연여부                    162 non-null    int64  \n",
      " 30  통증기간(월)                 162 non-null    float64\n",
      " 31  수술기법                    162 non-null    object \n",
      " 32  수술시간                    162 non-null    float64\n",
      " 33  수술실패여부                  162 non-null    int64  \n",
      " 34  수술일자                    162 non-null    int64  \n",
      " 35  재발여부                    162 non-null    int64  \n",
      " 36  혈액형                     162 non-null    object \n",
      " 37  전방디스크높이(mm)             162 non-null    float64\n",
      " 38  후방디스크높이(mm)             162 non-null    float64\n",
      " 39  지방축적도                   162 non-null    float64\n",
      " 40  Instability             162 non-null    int64  \n",
      " 41  MF + ES                 162 non-null    float64\n",
      " 42  Modic change            162 non-null    int64  \n",
      " 43  PI                      162 non-null    float64\n",
      " 44  PT                      162 non-null    float64\n",
      " 45  Seg Angle(raw)          162 non-null    float64\n",
      " 46  Vaccum disc             162 non-null    int64  \n",
      " 47  골밀도                     162 non-null    float64\n",
      " 48  디스크단면적                  162 non-null    float64\n",
      " 49  디스크위치                   162 non-null    int64  \n",
      " 50  척추이동척도                  162 non-null    object \n",
      " 51  척추전방위증                  162 non-null    int64  \n",
      "dtypes: float64(16), int64(31), object(5)\n",
      "memory usage: 67.1+ KB\n"
     ]
    }
   ],
   "source": [
    "df_ROS_drops = df_ROS.dropna()\n",
    "df_ROS_drops.info()"
   ]
  },
  {
   "cell_type": "code",
   "execution_count": 182,
   "id": "93702be7-4481-472b-864f-6fab5849ef22",
   "metadata": {
    "tags": []
   },
   "outputs": [
    {
     "data": {
      "text/html": [
       "<div>\n",
       "<style scoped>\n",
       "    .dataframe tbody tr th:only-of-type {\n",
       "        vertical-align: middle;\n",
       "    }\n",
       "\n",
       "    .dataframe tbody tr th {\n",
       "        vertical-align: top;\n",
       "    }\n",
       "\n",
       "    .dataframe thead th {\n",
       "        text-align: right;\n",
       "    }\n",
       "</style>\n",
       "<table border=\"1\" class=\"dataframe\">\n",
       "  <thead>\n",
       "    <tr style=\"text-align: right;\">\n",
       "      <th></th>\n",
       "      <th>Unnamed: 0</th>\n",
       "      <th>Large Lymphocyte</th>\n",
       "      <th>Location of herniation</th>\n",
       "      <th>ODI</th>\n",
       "      <th>가족력</th>\n",
       "      <th>간질성폐질환</th>\n",
       "      <th>고혈압여부</th>\n",
       "      <th>과거수술횟수</th>\n",
       "      <th>당뇨여부</th>\n",
       "      <th>말초동맥질환여부</th>\n",
       "      <th>...</th>\n",
       "      <th>MF + ES</th>\n",
       "      <th>Modic change</th>\n",
       "      <th>PI</th>\n",
       "      <th>PT</th>\n",
       "      <th>Seg Angle(raw)</th>\n",
       "      <th>Vaccum disc</th>\n",
       "      <th>골밀도</th>\n",
       "      <th>디스크단면적</th>\n",
       "      <th>디스크위치</th>\n",
       "      <th>척추전방위증</th>\n",
       "    </tr>\n",
       "  </thead>\n",
       "  <tbody>\n",
       "    <tr>\n",
       "      <th>count</th>\n",
       "      <td>162.000000</td>\n",
       "      <td>162.000000</td>\n",
       "      <td>162.000000</td>\n",
       "      <td>162.000000</td>\n",
       "      <td>162.000000</td>\n",
       "      <td>162.000000</td>\n",
       "      <td>162.000000</td>\n",
       "      <td>162.000000</td>\n",
       "      <td>162.000000</td>\n",
       "      <td>162.0</td>\n",
       "      <td>...</td>\n",
       "      <td>162.000000</td>\n",
       "      <td>162.000000</td>\n",
       "      <td>162.000000</td>\n",
       "      <td>162.000000</td>\n",
       "      <td>162.000000</td>\n",
       "      <td>162.000000</td>\n",
       "      <td>162.000000</td>\n",
       "      <td>162.000000</td>\n",
       "      <td>162.000000</td>\n",
       "      <td>162.000000</td>\n",
       "    </tr>\n",
       "    <tr>\n",
       "      <th>mean</th>\n",
       "      <td>392.512346</td>\n",
       "      <td>40.742593</td>\n",
       "      <td>2.549383</td>\n",
       "      <td>30.611111</td>\n",
       "      <td>0.086420</td>\n",
       "      <td>0.024691</td>\n",
       "      <td>0.067901</td>\n",
       "      <td>0.216049</td>\n",
       "      <td>0.055556</td>\n",
       "      <td>0.0</td>\n",
       "      <td>...</td>\n",
       "      <td>2060.549568</td>\n",
       "      <td>0.314815</td>\n",
       "      <td>45.619136</td>\n",
       "      <td>16.054938</td>\n",
       "      <td>15.231111</td>\n",
       "      <td>0.030864</td>\n",
       "      <td>-1.536790</td>\n",
       "      <td>1979.197222</td>\n",
       "      <td>3.962963</td>\n",
       "      <td>0.012346</td>\n",
       "    </tr>\n",
       "    <tr>\n",
       "      <th>std</th>\n",
       "      <td>298.997959</td>\n",
       "      <td>13.136057</td>\n",
       "      <td>0.919441</td>\n",
       "      <td>10.817084</td>\n",
       "      <td>0.281854</td>\n",
       "      <td>0.155664</td>\n",
       "      <td>0.252356</td>\n",
       "      <td>0.531249</td>\n",
       "      <td>0.229772</td>\n",
       "      <td>0.0</td>\n",
       "      <td>...</td>\n",
       "      <td>526.440930</td>\n",
       "      <td>0.743270</td>\n",
       "      <td>9.676375</td>\n",
       "      <td>8.592999</td>\n",
       "      <td>13.892825</td>\n",
       "      <td>0.173486</td>\n",
       "      <td>0.498315</td>\n",
       "      <td>320.372075</td>\n",
       "      <td>0.367785</td>\n",
       "      <td>0.110766</td>\n",
       "    </tr>\n",
       "    <tr>\n",
       "      <th>min</th>\n",
       "      <td>0.000000</td>\n",
       "      <td>6.000000</td>\n",
       "      <td>1.000000</td>\n",
       "      <td>10.000000</td>\n",
       "      <td>0.000000</td>\n",
       "      <td>0.000000</td>\n",
       "      <td>0.000000</td>\n",
       "      <td>0.000000</td>\n",
       "      <td>0.000000</td>\n",
       "      <td>0.0</td>\n",
       "      <td>...</td>\n",
       "      <td>1021.000000</td>\n",
       "      <td>0.000000</td>\n",
       "      <td>14.000000</td>\n",
       "      <td>1.500000</td>\n",
       "      <td>-1.800000</td>\n",
       "      <td>0.000000</td>\n",
       "      <td>-2.740000</td>\n",
       "      <td>1209.500000</td>\n",
       "      <td>2.000000</td>\n",
       "      <td>0.000000</td>\n",
       "    </tr>\n",
       "    <tr>\n",
       "      <th>25%</th>\n",
       "      <td>111.500000</td>\n",
       "      <td>31.800000</td>\n",
       "      <td>2.000000</td>\n",
       "      <td>24.000000</td>\n",
       "      <td>0.000000</td>\n",
       "      <td>0.000000</td>\n",
       "      <td>0.000000</td>\n",
       "      <td>0.000000</td>\n",
       "      <td>0.000000</td>\n",
       "      <td>0.0</td>\n",
       "      <td>...</td>\n",
       "      <td>1704.000000</td>\n",
       "      <td>0.000000</td>\n",
       "      <td>39.525000</td>\n",
       "      <td>9.650000</td>\n",
       "      <td>9.050000</td>\n",
       "      <td>0.000000</td>\n",
       "      <td>-1.815000</td>\n",
       "      <td>1753.100000</td>\n",
       "      <td>4.000000</td>\n",
       "      <td>0.000000</td>\n",
       "    </tr>\n",
       "    <tr>\n",
       "      <th>50%</th>\n",
       "      <td>472.000000</td>\n",
       "      <td>42.800000</td>\n",
       "      <td>3.000000</td>\n",
       "      <td>30.000000</td>\n",
       "      <td>0.000000</td>\n",
       "      <td>0.000000</td>\n",
       "      <td>0.000000</td>\n",
       "      <td>0.000000</td>\n",
       "      <td>0.000000</td>\n",
       "      <td>0.0</td>\n",
       "      <td>...</td>\n",
       "      <td>2012.850000</td>\n",
       "      <td>0.000000</td>\n",
       "      <td>44.700000</td>\n",
       "      <td>14.200000</td>\n",
       "      <td>13.650000</td>\n",
       "      <td>0.000000</td>\n",
       "      <td>-1.520000</td>\n",
       "      <td>1970.700000</td>\n",
       "      <td>4.000000</td>\n",
       "      <td>0.000000</td>\n",
       "    </tr>\n",
       "    <tr>\n",
       "      <th>75%</th>\n",
       "      <td>573.500000</td>\n",
       "      <td>48.175000</td>\n",
       "      <td>3.000000</td>\n",
       "      <td>37.750000</td>\n",
       "      <td>0.000000</td>\n",
       "      <td>0.000000</td>\n",
       "      <td>0.000000</td>\n",
       "      <td>0.000000</td>\n",
       "      <td>0.000000</td>\n",
       "      <td>0.0</td>\n",
       "      <td>...</td>\n",
       "      <td>2409.350000</td>\n",
       "      <td>0.000000</td>\n",
       "      <td>51.600000</td>\n",
       "      <td>20.400000</td>\n",
       "      <td>19.900000</td>\n",
       "      <td>0.000000</td>\n",
       "      <td>-1.262500</td>\n",
       "      <td>2155.300000</td>\n",
       "      <td>4.000000</td>\n",
       "      <td>0.000000</td>\n",
       "    </tr>\n",
       "    <tr>\n",
       "      <th>max</th>\n",
       "      <td>1216.000000</td>\n",
       "      <td>89.000000</td>\n",
       "      <td>5.000000</td>\n",
       "      <td>68.000000</td>\n",
       "      <td>1.000000</td>\n",
       "      <td>1.000000</td>\n",
       "      <td>1.000000</td>\n",
       "      <td>3.000000</td>\n",
       "      <td>1.000000</td>\n",
       "      <td>0.0</td>\n",
       "      <td>...</td>\n",
       "      <td>3755.400000</td>\n",
       "      <td>3.000000</td>\n",
       "      <td>76.200000</td>\n",
       "      <td>48.700000</td>\n",
       "      <td>165.000000</td>\n",
       "      <td>1.000000</td>\n",
       "      <td>1.400000</td>\n",
       "      <td>3088.000000</td>\n",
       "      <td>5.000000</td>\n",
       "      <td>1.000000</td>\n",
       "    </tr>\n",
       "  </tbody>\n",
       "</table>\n",
       "<p>8 rows × 47 columns</p>\n",
       "</div>"
      ],
      "text/plain": [
       "        Unnamed: 0  Large Lymphocyte  Location of herniation         ODI  \\\n",
       "count   162.000000        162.000000              162.000000  162.000000   \n",
       "mean    392.512346         40.742593                2.549383   30.611111   \n",
       "std     298.997959         13.136057                0.919441   10.817084   \n",
       "min       0.000000          6.000000                1.000000   10.000000   \n",
       "25%     111.500000         31.800000                2.000000   24.000000   \n",
       "50%     472.000000         42.800000                3.000000   30.000000   \n",
       "75%     573.500000         48.175000                3.000000   37.750000   \n",
       "max    1216.000000         89.000000                5.000000   68.000000   \n",
       "\n",
       "              가족력      간질성폐질환       고혈압여부      과거수술횟수        당뇨여부  말초동맥질환여부  \\\n",
       "count  162.000000  162.000000  162.000000  162.000000  162.000000     162.0   \n",
       "mean     0.086420    0.024691    0.067901    0.216049    0.055556       0.0   \n",
       "std      0.281854    0.155664    0.252356    0.531249    0.229772       0.0   \n",
       "min      0.000000    0.000000    0.000000    0.000000    0.000000       0.0   \n",
       "25%      0.000000    0.000000    0.000000    0.000000    0.000000       0.0   \n",
       "50%      0.000000    0.000000    0.000000    0.000000    0.000000       0.0   \n",
       "75%      0.000000    0.000000    0.000000    0.000000    0.000000       0.0   \n",
       "max      1.000000    1.000000    1.000000    3.000000    1.000000       0.0   \n",
       "\n",
       "       ...      MF + ES  Modic change          PI          PT  Seg Angle(raw)  \\\n",
       "count  ...   162.000000    162.000000  162.000000  162.000000      162.000000   \n",
       "mean   ...  2060.549568      0.314815   45.619136   16.054938       15.231111   \n",
       "std    ...   526.440930      0.743270    9.676375    8.592999       13.892825   \n",
       "min    ...  1021.000000      0.000000   14.000000    1.500000       -1.800000   \n",
       "25%    ...  1704.000000      0.000000   39.525000    9.650000        9.050000   \n",
       "50%    ...  2012.850000      0.000000   44.700000   14.200000       13.650000   \n",
       "75%    ...  2409.350000      0.000000   51.600000   20.400000       19.900000   \n",
       "max    ...  3755.400000      3.000000   76.200000   48.700000      165.000000   \n",
       "\n",
       "       Vaccum disc         골밀도       디스크단면적       디스크위치      척추전방위증  \n",
       "count   162.000000  162.000000   162.000000  162.000000  162.000000  \n",
       "mean      0.030864   -1.536790  1979.197222    3.962963    0.012346  \n",
       "std       0.173486    0.498315   320.372075    0.367785    0.110766  \n",
       "min       0.000000   -2.740000  1209.500000    2.000000    0.000000  \n",
       "25%       0.000000   -1.815000  1753.100000    4.000000    0.000000  \n",
       "50%       0.000000   -1.520000  1970.700000    4.000000    0.000000  \n",
       "75%       0.000000   -1.262500  2155.300000    4.000000    0.000000  \n",
       "max       1.000000    1.400000  3088.000000    5.000000    1.000000  \n",
       "\n",
       "[8 rows x 47 columns]"
      ]
     },
     "execution_count": 182,
     "metadata": {},
     "output_type": "execute_result"
    }
   ],
   "source": [
    "df_ROS_drops.describe()"
   ]
  },
  {
   "cell_type": "code",
   "execution_count": 183,
   "id": "5f572167-9d7a-4b25-961b-c0d857c0a315",
   "metadata": {
    "tags": []
   },
   "outputs": [
    {
     "data": {
      "text/html": [
       "<div>\n",
       "<style scoped>\n",
       "    .dataframe tbody tr th:only-of-type {\n",
       "        vertical-align: middle;\n",
       "    }\n",
       "\n",
       "    .dataframe tbody tr th {\n",
       "        vertical-align: top;\n",
       "    }\n",
       "\n",
       "    .dataframe thead th {\n",
       "        text-align: right;\n",
       "    }\n",
       "</style>\n",
       "<table border=\"1\" class=\"dataframe\">\n",
       "  <thead>\n",
       "    <tr style=\"text-align: right;\">\n",
       "      <th></th>\n",
       "      <th>환자ID</th>\n",
       "      <th>직업</th>\n",
       "      <th>수술기법</th>\n",
       "      <th>혈액형</th>\n",
       "      <th>척추이동척도</th>\n",
       "    </tr>\n",
       "  </thead>\n",
       "  <tbody>\n",
       "    <tr>\n",
       "      <th>count</th>\n",
       "      <td>162</td>\n",
       "      <td>162</td>\n",
       "      <td>162</td>\n",
       "      <td>162</td>\n",
       "      <td>162</td>\n",
       "    </tr>\n",
       "    <tr>\n",
       "      <th>unique</th>\n",
       "      <td>162</td>\n",
       "      <td>16</td>\n",
       "      <td>2</td>\n",
       "      <td>4</td>\n",
       "      <td>4</td>\n",
       "    </tr>\n",
       "    <tr>\n",
       "      <th>top</th>\n",
       "      <td>1PT</td>\n",
       "      <td>사무직</td>\n",
       "      <td>TELD</td>\n",
       "      <td>RH+A</td>\n",
       "      <td>Middle</td>\n",
       "    </tr>\n",
       "    <tr>\n",
       "      <th>freq</th>\n",
       "      <td>1</td>\n",
       "      <td>53</td>\n",
       "      <td>155</td>\n",
       "      <td>58</td>\n",
       "      <td>94</td>\n",
       "    </tr>\n",
       "  </tbody>\n",
       "</table>\n",
       "</div>"
      ],
      "text/plain": [
       "       환자ID   직업  수술기법   혈액형  척추이동척도\n",
       "count   162  162   162   162     162\n",
       "unique  162   16     2     4       4\n",
       "top     1PT  사무직  TELD  RH+A  Middle\n",
       "freq      1   53   155    58      94"
      ]
     },
     "execution_count": 183,
     "metadata": {},
     "output_type": "execute_result"
    }
   ],
   "source": [
    "df_ROS_drops.describe(include=object)"
   ]
  },
  {
   "cell_type": "code",
   "execution_count": 184,
   "id": "81215ad3-52bd-44b1-af35-ae08dc7792d6",
   "metadata": {
    "tags": []
   },
   "outputs": [
    {
     "data": {
      "text/plain": [
       "사무직      53\n",
       "자영업      19\n",
       "주부       15\n",
       "노동직      11\n",
       "학생       10\n",
       "군인       10\n",
       "운수업       7\n",
       "의료직       7\n",
       "사업가       6\n",
       "농업        6\n",
       "교사        5\n",
       "무직        4\n",
       "운동선수      3\n",
       "공무원       3\n",
       "특수전문직     2\n",
       "예술가       1\n",
       "Name: 직업, dtype: int64"
      ]
     },
     "execution_count": 184,
     "metadata": {},
     "output_type": "execute_result"
    }
   ],
   "source": [
    "df_ROS_drops['직업'].value_counts()"
   ]
  },
  {
   "cell_type": "code",
   "execution_count": 185,
   "id": "5af0932f-39c1-408f-bcac-a36aed671ef2",
   "metadata": {
    "tags": []
   },
   "outputs": [
    {
     "data": {
      "image/png": "[encoded data removed]",
      "text/plain": [
       "<Figure size 640x480 with 1 Axes>"
      ]
     },
     "metadata": {},
     "output_type": "display_data"
    }
   ],
   "source": [
    "sns.countplot(data=df_ROS_drops, y='직업')\n",
    "plt.show()"
   ]
  },
  {
   "cell_type": "code",
   "execution_count": 186,
   "id": "cd398377-928b-418b-af08-dfaa3387f8b4",
   "metadata": {
    "tags": []
   },
   "outputs": [
    {
     "data": {
      "image/png": "[encoded data removed]",
      "text/plain": [
       "<Figure size 640x480 with 1 Axes>"
      ]
     },
     "metadata": {},
     "output_type": "display_data"
    }
   ],
   "source": [
    "sns.countplot(data=df_ROS_drops, x='혈액형')\n",
    "plt.show()"
   ]
  },
  {
   "cell_type": "code",
   "execution_count": 187,
   "id": "7bf03a40-11d5-4569-adec-486165a1079a",
   "metadata": {
    "tags": []
   },
   "outputs": [
    {
     "data": {
      "text/plain": [
       "Index(['Unnamed: 0', 'Large Lymphocyte', 'Location of herniation', 'ODI',\n",
       "       '가족력', '간질성폐질환', '고혈압여부', '과거수술횟수', '당뇨여부', '말초동맥질환여부', '빈혈여부', '성별',\n",
       "       '스테로이드치료', '신부전여부', '신장', '심혈관질환', '암발병여부', '연령', '우울증여부', '입원기간',\n",
       "       '입원일자', '종양진행여부', '체중', '퇴원일자', '헤모글로빈수치', '혈전합병증여부', '환자통증정도', '흡연여부',\n",
       "       '통증기간(월)', '수술시간', '수술실패여부', '수술일자', '재발여부', '전방디스크높이(mm)',\n",
       "       '후방디스크높이(mm)', '지방축적도', 'Instability', 'MF + ES', 'Modic change', 'PI',\n",
       "       'PT', 'Seg Angle(raw)', 'Vaccum disc', '골밀도', '디스크단면적', '디스크위치',\n",
       "       '척추전방위증'],\n",
       "      dtype='object')"
      ]
     },
     "execution_count": 187,
     "metadata": {},
     "output_type": "execute_result"
    }
   ],
   "source": [
    "df_ROS_drops.describe().columns"
   ]
  },
  {
   "cell_type": "code",
   "execution_count": 188,
   "id": "d8f1a3a3-a22f-44a6-9b8b-9480f0b50f09",
   "metadata": {
    "tags": []
   },
   "outputs": [
    {
     "data": {
      "image/png": "[encoded data removed]",
      "text/plain": [
       "<Figure size 640x480 with 1 Axes>"
      ]
     },
     "metadata": {},
     "output_type": "display_data"
    }
   ],
   "source": [
    "sns.countplot(data=df_ROS_drops, x='성별')\n",
    "plt.show()"
   ]
  },
  {
   "cell_type": "code",
   "execution_count": 189,
   "id": "0b50ffdc-d6ac-4f1b-95b9-e6abd85eadc6",
   "metadata": {
    "tags": []
   },
   "outputs": [
    {
     "data": {
      "image/png": "[encoded data removed]",
      "text/plain": [
       "<Figure size 640x480 with 1 Axes>"
      ]
     },
     "metadata": {},
     "output_type": "display_data"
    }
   ],
   "source": [
    "sns.histplot(data=df_ROS_drops,kde=True, x='신장')\n",
    "plt.show()"
   ]
  },
  {
   "cell_type": "code",
   "execution_count": 190,
   "id": "02d078c2-7ebd-454b-bc21-194c382366a9",
   "metadata": {
    "tags": []
   },
   "outputs": [
    {
     "data": {
      "image/png": "[encoded data removed]",
      "text/plain": [
       "<Figure size 640x480 with 1 Axes>"
      ]
     },
     "metadata": {},
     "output_type": "display_data"
    }
   ],
   "source": [
    "sns.countplot(data=df_ROS_drops, x='심혈관질환')\n",
    "plt.show()"
   ]
  },
  {
   "cell_type": "code",
   "execution_count": 191,
   "id": "776ee99a-c20d-4144-8aaf-df4edf1151fc",
   "metadata": {
    "tags": []
   },
   "outputs": [
    {
     "data": {
      "image/png": "[encoded data removed]",
      "text/plain": [
       "<Figure size 640x480 with 1 Axes>"
      ]
     },
     "metadata": {},
     "output_type": "display_data"
    }
   ],
   "source": [
    "sns.histplot(data=df_ROS_drops,kde=True, x='체중')\n",
    "plt.show()"
   ]
  },
  {
   "cell_type": "code",
   "execution_count": 192,
   "id": "16dd392c-cab3-4d7e-94d0-51b1b993e3f2",
   "metadata": {
    "tags": []
   },
   "outputs": [
    {
     "data": {
      "image/png": "[encoded data removed]",
      "text/plain": [
       "<Figure size 640x480 with 1 Axes>"
      ]
     },
     "metadata": {},
     "output_type": "display_data"
    }
   ],
   "source": [
    "sns.countplot(data=df_ROS_drops, x='흡연여부')\n",
    "plt.show()"
   ]
  },
  {
   "cell_type": "code",
   "execution_count": 193,
   "id": "572b6d3e-4d81-46c4-a58c-c11756a11446",
   "metadata": {
    "tags": []
   },
   "outputs": [
    {
     "data": {
      "image/png": "[encoded data removed]",
      "text/plain": [
       "<Figure size 640x480 with 1 Axes>"
      ]
     },
     "metadata": {},
     "output_type": "display_data"
    }
   ],
   "source": [
    "sns.histplot(data=df_ROS_drops,kde=True, x='연령')\n",
    "plt.show()"
   ]
  },
  {
   "cell_type": "code",
   "execution_count": 194,
   "id": "28d52ceb-dcd7-4ab9-af1e-dda106beeb07",
   "metadata": {
    "tags": []
   },
   "outputs": [
    {
     "data": {
      "image/png": "[encoded data removed]",
      "text/plain": [
       "<Figure size 640x480 with 1 Axes>"
      ]
     },
     "metadata": {},
     "output_type": "display_data"
    }
   ],
   "source": [
    "sns.countplot(data=df_ROS_drops, x='재발여부')\n",
    "plt.show()"
   ]
  },
  {
   "cell_type": "code",
   "execution_count": 195,
   "id": "0f0733f4-8b70-4848-aa94-4e735568d982",
   "metadata": {
    "tags": []
   },
   "outputs": [
    {
     "data": {
      "image/png": "[encoded data removed]",
      "text/plain": [
       "<Figure size 640x480 with 1 Axes>"
      ]
     },
     "metadata": {},
     "output_type": "display_data"
    }
   ],
   "source": [
    "sns.boxplot(data=df_ROS_drops, x='연령')\n",
    "plt.show()"
   ]
  },
  {
   "cell_type": "code",
   "execution_count": 196,
   "id": "f35a8787-1bc6-4ea1-aea6-6c881bdca030",
   "metadata": {
    "tags": []
   },
   "outputs": [
    {
     "data": {
      "text/plain": [
       "37    10\n",
       "46     9\n",
       "39     9\n",
       "40     8\n",
       "47     8\n",
       "41     7\n",
       "44     7\n",
       "56     7\n",
       "45     7\n",
       "36     6\n",
       "35     6\n",
       "38     5\n",
       "29     5\n",
       "33     4\n",
       "34     4\n",
       "30     4\n",
       "64     3\n",
       "20     3\n",
       "21     3\n",
       "43     3\n",
       "66     3\n",
       "31     3\n",
       "32     3\n",
       "28     3\n",
       "22     3\n",
       "54     3\n",
       "19     2\n",
       "24     2\n",
       "55     2\n",
       "25     2\n",
       "52     2\n",
       "42     2\n",
       "26     1\n",
       "74     1\n",
       "58     1\n",
       "17     1\n",
       "23     1\n",
       "63     1\n",
       "60     1\n",
       "61     1\n",
       "62     1\n",
       "57     1\n",
       "16     1\n",
       "84     1\n",
       "65     1\n",
       "27     1\n",
       "Name: 연령, dtype: int64"
      ]
     },
     "execution_count": 196,
     "metadata": {},
     "output_type": "execute_result"
    }
   ],
   "source": [
    "df_ROS_drops['연령'].value_counts()"
   ]
  },
  {
   "cell_type": "code",
   "execution_count": 197,
   "id": "d9a00fbc-55d0-4bdb-910e-530e932b1bff",
   "metadata": {
    "tags": []
   },
   "outputs": [],
   "source": [
    "Q1 = df_ROS_drops['연령'].describe()['25%']\n",
    "Q3 = df_ROS_drops['연령'].describe()['75%']\n",
    "IQR = Q3 - Q1"
   ]
  },
  {
   "cell_type": "code",
   "execution_count": 198,
   "id": "1f576b0a-0dde-4de5-afe5-a8376616d02e",
   "metadata": {
    "tags": []
   },
   "outputs": [
    {
     "data": {
      "text/plain": [
       "(33.0, 46.0, 13.0)"
      ]
     },
     "execution_count": 198,
     "metadata": {},
     "output_type": "execute_result"
    }
   ],
   "source": [
    "Q1,Q3, IQR"
   ]
  },
  {
   "cell_type": "code",
   "execution_count": 199,
   "id": "1ed19b83-40f3-4ffe-bc56-0af54eec7c3f",
   "metadata": {
    "tags": []
   },
   "outputs": [
    {
     "data": {
      "text/plain": [
       "(13.5, 65.5)"
      ]
     },
     "execution_count": 199,
     "metadata": {},
     "output_type": "execute_result"
    }
   ],
   "source": [
    "bound_up = Q3 + 1.5 * IQR\n",
    "bound_low = Q1 - 1.5 * IQR\n",
    "bound_low,bound_up"
   ]
  },
  {
   "cell_type": "code",
   "execution_count": 200,
   "id": "5da805d1-7bbb-40bf-a3b0-1a10afb74909",
   "metadata": {
    "tags": []
   },
   "outputs": [
    {
     "data": {
      "text/plain": [
       "0       False\n",
       "1        True\n",
       "3        True\n",
       "11       True\n",
       "15      False\n",
       "        ...  \n",
       "989      True\n",
       "992      True\n",
       "1019     True\n",
       "1031    False\n",
       "1216     True\n",
       "Name: 연령, Length: 162, dtype: bool"
      ]
     },
     "execution_count": 200,
     "metadata": {},
     "output_type": "execute_result"
    }
   ],
   "source": [
    "condition = (df_ROS_drops['연령'] <= bound_up) #긍정 조건 변환\n",
    "condition"
   ]
  },
  {
   "cell_type": "code",
   "execution_count": 201,
   "id": "5d7a202f-4d59-4cd4-9601-01e6ded9f052",
   "metadata": {
    "tags": []
   },
   "outputs": [],
   "source": [
    "df_ROS_condition = df_ROS_drops[condition]"
   ]
  },
  {
   "cell_type": "code",
   "execution_count": 202,
   "id": "3d2ca5ed-33f5-4f8a-a1c1-7102b16e7b1d",
   "metadata": {
    "tags": []
   },
   "outputs": [
    {
     "data": {
      "image/png": "[encoded data removed]",
      "text/plain": [
       "<Figure size 640x480 with 1 Axes>"
      ]
     },
     "metadata": {},
     "output_type": "display_data"
    }
   ],
   "source": [
    "sns.boxplot(data=df_ROS_condition, x='연령')\n",
    "plt.show()"
   ]
  },
  {
   "cell_type": "code",
   "execution_count": 211,
   "id": "d093d3a3-bf41-4eac-8aa9-401cc7b11fe4",
   "metadata": {
    "tags": []
   },
   "outputs": [
    {
     "data": {
      "text/plain": [
       "count    157.000000\n",
       "mean      39.464968\n",
       "std       10.852466\n",
       "min       16.000000\n",
       "25%       33.000000\n",
       "50%       39.000000\n",
       "75%       46.000000\n",
       "max       65.000000\n",
       "Name: 연령, dtype: float64"
      ]
     },
     "execution_count": 211,
     "metadata": {},
     "output_type": "execute_result"
    }
   ],
   "source": [
    "df_ROS_condition['연령'].describe()"
   ]
  },
  {
   "cell_type": "code",
   "execution_count": 212,
   "id": "23ca8b28-121c-4500-80d9-f334495c985f",
   "metadata": {
    "tags": []
   },
   "outputs": [],
   "source": [
    "condition3 = (df_ROS_condition['연령']>=df_ROS_condition['연령'].describe()['50%']) &(df_ROS_condition['연령']<=df_ROS_condition['연령'].describe()['75%'])"
   ]
  },
  {
   "cell_type": "code",
   "execution_count": 213,
   "id": "633ff582-4b6b-4480-9bae-c1aca951fab9",
   "metadata": {
    "tags": []
   },
   "outputs": [],
   "source": [
    "df_ROS_drops_agecount = df_ROS_condition['연령'].loc[condition3]"
   ]
  },
  {
   "cell_type": "code",
   "execution_count": 214,
   "id": "4aa8dc07-e08c-4333-a8fa-10b286a6c64d",
   "metadata": {
    "tags": []
   },
   "outputs": [
    {
     "data": {
      "text/plain": [
       "52"
      ]
     },
     "execution_count": 214,
     "metadata": {},
     "output_type": "execute_result"
    }
   ],
   "source": [
    "df_ROS_drops_agecount.value_counts().sum()"
   ]
  },
  {
   "cell_type": "markdown",
   "id": "af874c50-d7d4-4dbd-9d6a-d3f6ca052e05",
   "metadata": {},
   "source": [
    "# option : 중앙값부터 Q3까지 인원 : 52명"
   ]
  },
  {
   "cell_type": "code",
   "execution_count": null,
   "id": "e5e6b07a-00b2-4143-8309-5c091abedfeb",
   "metadata": {},
   "outputs": [],
   "source": []
  }
 ],
 "metadata": {
  "kernelspec": {
   "display_name": "Python 3 (ipykernel)",
   "language": "python",
   "name": "python3"
  },
  "language_info": {
   "codemirror_mode": {
    "name": "ipython",
    "version": 3
   },
   "file_extension": ".py",
   "mimetype": "text/x-python",
   "name": "python",
   "nbconvert_exporter": "python",
   "pygments_lexer": "ipython3",
   "version": "3.11.3"
  }
 },
 "nbformat": 4,
 "nbformat_minor": 5
}
