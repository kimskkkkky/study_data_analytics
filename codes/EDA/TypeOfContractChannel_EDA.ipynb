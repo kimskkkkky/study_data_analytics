{
 "cells": [
  {
   "cell_type": "code",
   "execution_count": 1,
   "id": "274c3a81-bb49-4df1-9734-5830216d7169",
   "metadata": {
    "tags": []
   },
   "outputs": [],
   "source": [
    "import matplotlib.pyplot as plt\n",
    "import matplotlib as mpl\n",
    "mpl.rc('font',family='Malgun Gothic')\n",
    "import seaborn as sns\n",
    "import pandas as pd"
   ]
  },
  {
   "cell_type": "markdown",
   "id": "b782de29-8fe4-4199-9d2b-5fa6cff1be66",
   "metadata": {},
   "source": [
    "### load datasets"
   ]
  },
  {
   "cell_type": "code",
   "execution_count": 2,
   "id": "1cab7c40-691c-411f-9710-bcb3892e7be3",
   "metadata": {
    "tags": []
   },
   "outputs": [
    {
     "data": {
      "text/html": [
       "<div>\n",
       "<style scoped>\n",
       "    .dataframe tbody tr th:only-of-type {\n",
       "        vertical-align: middle;\n",
       "    }\n",
       "\n",
       "    .dataframe tbody tr th {\n",
       "        vertical-align: top;\n",
       "    }\n",
       "\n",
       "    .dataframe thead th {\n",
       "        text-align: right;\n",
       "    }\n",
       "</style>\n",
       "<table border=\"1\" class=\"dataframe\">\n",
       "  <thead>\n",
       "    <tr style=\"text-align: right;\">\n",
       "      <th></th>\n",
       "      <th>id</th>\n",
       "      <th>type_of_contract</th>\n",
       "      <th>type_of_contract2</th>\n",
       "      <th>channel</th>\n",
       "      <th>datetime</th>\n",
       "      <th>Term</th>\n",
       "      <th>payment_type</th>\n",
       "      <th>product</th>\n",
       "      <th>amount</th>\n",
       "      <th>state</th>\n",
       "      <th>overdue_count</th>\n",
       "      <th>overdue</th>\n",
       "      <th>credit rating</th>\n",
       "      <th>bank</th>\n",
       "      <th>cancellation</th>\n",
       "      <th>age</th>\n",
       "      <th>Mileage</th>\n",
       "    </tr>\n",
       "  </thead>\n",
       "  <tbody>\n",
       "    <tr>\n",
       "      <th>0</th>\n",
       "      <td>66758234</td>\n",
       "      <td>렌탈</td>\n",
       "      <td>Normal</td>\n",
       "      <td>서비스 방문</td>\n",
       "      <td>2019-10-20</td>\n",
       "      <td>60</td>\n",
       "      <td>CMS</td>\n",
       "      <td>K1</td>\n",
       "      <td>96900</td>\n",
       "      <td>계약확정</td>\n",
       "      <td>0</td>\n",
       "      <td>없음</td>\n",
       "      <td>9.0</td>\n",
       "      <td>새마을금고</td>\n",
       "      <td>정상</td>\n",
       "      <td>43.0</td>\n",
       "      <td>1862.0</td>\n",
       "    </tr>\n",
       "    <tr>\n",
       "      <th>1</th>\n",
       "      <td>66755948</td>\n",
       "      <td>렌탈</td>\n",
       "      <td>Extension_Rental</td>\n",
       "      <td>서비스 방문</td>\n",
       "      <td>2019-10-20</td>\n",
       "      <td>60</td>\n",
       "      <td>카드이체</td>\n",
       "      <td>K1</td>\n",
       "      <td>102900</td>\n",
       "      <td>계약확정</td>\n",
       "      <td>0</td>\n",
       "      <td>없음</td>\n",
       "      <td>2.0</td>\n",
       "      <td>현대카드</td>\n",
       "      <td>정상</td>\n",
       "      <td>62.0</td>\n",
       "      <td>2532.0</td>\n",
       "    </tr>\n",
       "  </tbody>\n",
       "</table>\n",
       "</div>"
      ],
      "text/plain": [
       "         id type_of_contract type_of_contract2 channel    datetime  Term  \\\n",
       "0  66758234               렌탈            Normal  서비스 방문  2019-10-20    60   \n",
       "1  66755948               렌탈  Extension_Rental  서비스 방문  2019-10-20    60   \n",
       "\n",
       "  payment_type product  amount state  overdue_count overdue  credit rating  \\\n",
       "0          CMS      K1   96900  계약확정              0      없음            9.0   \n",
       "1         카드이체      K1  102900  계약확정              0      없음            2.0   \n",
       "\n",
       "    bank cancellation   age  Mileage  \n",
       "0  새마을금고           정상  43.0   1862.0  \n",
       "1   현대카드           정상  62.0   2532.0  "
      ]
     },
     "execution_count": 2,
     "metadata": {},
     "output_type": "execute_result"
    }
   ],
   "source": [
    "df_TOCC = pd.read_csv('../../datasets/TypeOfContractChannel.csv')\n",
    "df_TOCC[:2]"
   ]
  },
  {
   "cell_type": "markdown",
   "id": "422c71ea-84b5-44b5-9594-0f18303fac11",
   "metadata": {},
   "source": [
    "### 분석대상\n",
    "- 궁금한 점 : 한 건의 거래 내역당 영향 준 내용은 무엇인가?\n",
    "- 목표 변수 선정 : amount\n",
    "- 설명 변수 선정 : type_of_contract, datetime, product, age"
   ]
  },
  {
   "cell_type": "markdown",
   "id": "8af43242-d860-4089-899a-2c99b73b958d",
   "metadata": {},
   "source": [
    "## EDA 전략"
   ]
  },
  {
   "cell_type": "markdown",
   "id": "3953747c-e4f2-4cff-bc23-b6a6ee21cd89",
   "metadata": {},
   "source": [
    "### 해당 변수(목표와 설명) 선택\n",
    "- 이상치와 결측치 처리"
   ]
  },
  {
   "cell_type": "code",
   "execution_count": 3,
   "id": "e1893782-f2df-4206-962d-6c0438c34062",
   "metadata": {
    "tags": []
   },
   "outputs": [
    {
     "data": {
      "text/plain": [
       "Index(['id', 'type_of_contract', 'type_of_contract2', 'channel', 'datetime',\n",
       "       'Term', 'payment_type', 'product', 'amount', 'state', 'overdue_count',\n",
       "       'overdue', 'credit rating', 'bank', 'cancellation', 'age', 'Mileage'],\n",
       "      dtype='object')"
      ]
     },
     "execution_count": 3,
     "metadata": {},
     "output_type": "execute_result"
    }
   ],
   "source": [
    "df_TOCC.columns"
   ]
  },
  {
   "cell_type": "code",
   "execution_count": 6,
   "id": "4185c711-4bf1-49f9-8f90-6542a080b2e6",
   "metadata": {
    "tags": []
   },
   "outputs": [
    {
     "data": {
      "text/html": [
       "<div>\n",
       "<style scoped>\n",
       "    .dataframe tbody tr th:only-of-type {\n",
       "        vertical-align: middle;\n",
       "    }\n",
       "\n",
       "    .dataframe tbody tr th {\n",
       "        vertical-align: top;\n",
       "    }\n",
       "\n",
       "    .dataframe thead th {\n",
       "        text-align: right;\n",
       "    }\n",
       "</style>\n",
       "<table border=\"1\" class=\"dataframe\">\n",
       "  <thead>\n",
       "    <tr style=\"text-align: right;\">\n",
       "      <th></th>\n",
       "      <th>type_of_contract</th>\n",
       "      <th>datetime</th>\n",
       "      <th>product</th>\n",
       "      <th>amount</th>\n",
       "      <th>age</th>\n",
       "    </tr>\n",
       "  </thead>\n",
       "  <tbody>\n",
       "    <tr>\n",
       "      <th>0</th>\n",
       "      <td>렌탈</td>\n",
       "      <td>2019-10-20</td>\n",
       "      <td>K1</td>\n",
       "      <td>96900</td>\n",
       "      <td>43.0</td>\n",
       "    </tr>\n",
       "    <tr>\n",
       "      <th>1</th>\n",
       "      <td>렌탈</td>\n",
       "      <td>2019-10-20</td>\n",
       "      <td>K1</td>\n",
       "      <td>102900</td>\n",
       "      <td>62.0</td>\n",
       "    </tr>\n",
       "    <tr>\n",
       "      <th>2</th>\n",
       "      <td>렌탈</td>\n",
       "      <td>2019-10-20</td>\n",
       "      <td>K1</td>\n",
       "      <td>96900</td>\n",
       "      <td>60.0</td>\n",
       "    </tr>\n",
       "    <tr>\n",
       "      <th>3</th>\n",
       "      <td>멤버십</td>\n",
       "      <td>2019-10-20</td>\n",
       "      <td>K1</td>\n",
       "      <td>66900</td>\n",
       "      <td>60.0</td>\n",
       "    </tr>\n",
       "    <tr>\n",
       "      <th>4</th>\n",
       "      <td>멤버십</td>\n",
       "      <td>2019-10-20</td>\n",
       "      <td>K1</td>\n",
       "      <td>66900</td>\n",
       "      <td>51.0</td>\n",
       "    </tr>\n",
       "  </tbody>\n",
       "</table>\n",
       "</div>"
      ],
      "text/plain": [
       "  type_of_contract    datetime product  amount   age\n",
       "0               렌탈  2019-10-20      K1   96900  43.0\n",
       "1               렌탈  2019-10-20      K1  102900  62.0\n",
       "2               렌탈  2019-10-20      K1   96900  60.0\n",
       "3              멤버십  2019-10-20      K1   66900  60.0\n",
       "4              멤버십  2019-10-20      K1   66900  51.0"
      ]
     },
     "execution_count": 6,
     "metadata": {},
     "output_type": "execute_result"
    }
   ],
   "source": [
    "df_TOCC_choose = df_TOCC[['type_of_contract', 'datetime', 'product', 'amount', 'age']]\n",
    "df_TOCC_choose[:5]"
   ]
  },
  {
   "cell_type": "code",
   "execution_count": 8,
   "id": "27164a83-21a1-4dd4-9d07-375c1748998c",
   "metadata": {
    "tags": []
   },
   "outputs": [
    {
     "data": {
      "text/plain": [
       "type_of_contract        4\n",
       "datetime                0\n",
       "product                 1\n",
       "amount                  0\n",
       "age                 10795\n",
       "dtype: int64"
      ]
     },
     "execution_count": 8,
     "metadata": {},
     "output_type": "execute_result"
    }
   ],
   "source": [
    "# df_TOCC_choose.info()\n",
    "df_TOCC_choose.isnull().sum()"
   ]
  },
  {
   "cell_type": "code",
   "execution_count": 11,
   "id": "4526b781-f05a-4968-a949-cd7c4a9f73b9",
   "metadata": {
    "tags": []
   },
   "outputs": [
    {
     "data": {
      "text/plain": [
       "type_of_contract    0\n",
       "datetime            0\n",
       "product             0\n",
       "amount              0\n",
       "age                 0\n",
       "dtype: int64"
      ]
     },
     "execution_count": 11,
     "metadata": {},
     "output_type": "execute_result"
    }
   ],
   "source": [
    "# null 값을 가진 레코드를 없앰\n",
    "df_TOCC_choose = df_TOCC_choose.dropna()\n",
    "df_TOCC_choose.isnull().sum()"
   ]
  },
  {
   "cell_type": "markdown",
   "id": "215e4cde-dd63-4150-9a01-5428226ff5f8",
   "metadata": {},
   "source": [
    "#### 범주형과 연속(순서)형으로 dtype 변형"
   ]
  },
  {
   "cell_type": "code",
   "execution_count": 17,
   "id": "c8407b24-e3ad-4c83-b0f5-07233a9aea74",
   "metadata": {
    "tags": []
   },
   "outputs": [],
   "source": [
    "df_TOCC_choose['datetime'] = pd.to_datetime(df_TOCC_choose['datetime'])"
   ]
  },
  {
   "cell_type": "code",
   "execution_count": 18,
   "id": "8f35ea56-9d27-493c-bec6-d7a19e6e4684",
   "metadata": {
    "tags": []
   },
   "outputs": [
    {
     "data": {
      "text/plain": [
       "type_of_contract            object\n",
       "datetime            datetime64[ns]\n",
       "product                     object\n",
       "amount                       int64\n",
       "age                        float64\n",
       "dtype: object"
      ]
     },
     "execution_count": 18,
     "metadata": {},
     "output_type": "execute_result"
    }
   ],
   "source": [
    "df_TOCC_choose.dtypes"
   ]
  },
  {
   "cell_type": "code",
   "execution_count": 20,
   "id": "9ca3c1c8-d30a-46a5-90d4-021cc5d3cc0b",
   "metadata": {
    "tags": []
   },
   "outputs": [
    {
     "name": "stderr",
     "output_type": "stream",
     "text": [
      "C:\\Users\\01-09\\AppData\\Local\\Temp\\ipykernel_256\\318549244.py:2: FutureWarning: Treating datetime data as categorical rather than numeric in `.describe` is deprecated and will be removed in a future version of pandas. Specify `datetime_is_numeric=True` to silence this warning and adopt the future behavior now.\n",
      "  df_TOCC_choose.describe(include='all')\n"
     ]
    },
    {
     "data": {
      "text/html": [
       "<div>\n",
       "<style scoped>\n",
       "    .dataframe tbody tr th:only-of-type {\n",
       "        vertical-align: middle;\n",
       "    }\n",
       "\n",
       "    .dataframe tbody tr th {\n",
       "        vertical-align: top;\n",
       "    }\n",
       "\n",
       "    .dataframe thead th {\n",
       "        text-align: right;\n",
       "    }\n",
       "</style>\n",
       "<table border=\"1\" class=\"dataframe\">\n",
       "  <thead>\n",
       "    <tr style=\"text-align: right;\">\n",
       "      <th></th>\n",
       "      <th>type_of_contract</th>\n",
       "      <th>datetime</th>\n",
       "      <th>product</th>\n",
       "      <th>amount</th>\n",
       "      <th>age</th>\n",
       "    </tr>\n",
       "  </thead>\n",
       "  <tbody>\n",
       "    <tr>\n",
       "      <th>count</th>\n",
       "      <td>40505</td>\n",
       "      <td>40505</td>\n",
       "      <td>40505</td>\n",
       "      <td>40505.000000</td>\n",
       "      <td>40505.000000</td>\n",
       "    </tr>\n",
       "    <tr>\n",
       "      <th>unique</th>\n",
       "      <td>2</td>\n",
       "      <td>101</td>\n",
       "      <td>6</td>\n",
       "      <td>NaN</td>\n",
       "      <td>NaN</td>\n",
       "    </tr>\n",
       "    <tr>\n",
       "      <th>top</th>\n",
       "      <td>렌탈</td>\n",
       "      <td>2019-10-25 00:00:00</td>\n",
       "      <td>K1</td>\n",
       "      <td>NaN</td>\n",
       "      <td>NaN</td>\n",
       "    </tr>\n",
       "    <tr>\n",
       "      <th>freq</th>\n",
       "      <td>38449</td>\n",
       "      <td>702</td>\n",
       "      <td>30135</td>\n",
       "      <td>NaN</td>\n",
       "      <td>NaN</td>\n",
       "    </tr>\n",
       "    <tr>\n",
       "      <th>first</th>\n",
       "      <td>NaN</td>\n",
       "      <td>2019-10-20 00:00:00</td>\n",
       "      <td>NaN</td>\n",
       "      <td>NaN</td>\n",
       "      <td>NaN</td>\n",
       "    </tr>\n",
       "    <tr>\n",
       "      <th>last</th>\n",
       "      <td>NaN</td>\n",
       "      <td>2020-02-03 00:00:00</td>\n",
       "      <td>NaN</td>\n",
       "      <td>NaN</td>\n",
       "      <td>NaN</td>\n",
       "    </tr>\n",
       "    <tr>\n",
       "      <th>mean</th>\n",
       "      <td>NaN</td>\n",
       "      <td>NaN</td>\n",
       "      <td>NaN</td>\n",
       "      <td>94919.192174</td>\n",
       "      <td>46.608098</td>\n",
       "    </tr>\n",
       "    <tr>\n",
       "      <th>std</th>\n",
       "      <td>NaN</td>\n",
       "      <td>NaN</td>\n",
       "      <td>NaN</td>\n",
       "      <td>12618.603722</td>\n",
       "      <td>13.466188</td>\n",
       "    </tr>\n",
       "    <tr>\n",
       "      <th>min</th>\n",
       "      <td>NaN</td>\n",
       "      <td>NaN</td>\n",
       "      <td>NaN</td>\n",
       "      <td>55200.000000</td>\n",
       "      <td>20.000000</td>\n",
       "    </tr>\n",
       "    <tr>\n",
       "      <th>25%</th>\n",
       "      <td>NaN</td>\n",
       "      <td>NaN</td>\n",
       "      <td>NaN</td>\n",
       "      <td>87900.000000</td>\n",
       "      <td>37.000000</td>\n",
       "    </tr>\n",
       "    <tr>\n",
       "      <th>50%</th>\n",
       "      <td>NaN</td>\n",
       "      <td>NaN</td>\n",
       "      <td>NaN</td>\n",
       "      <td>96900.000000</td>\n",
       "      <td>46.000000</td>\n",
       "    </tr>\n",
       "    <tr>\n",
       "      <th>75%</th>\n",
       "      <td>NaN</td>\n",
       "      <td>NaN</td>\n",
       "      <td>NaN</td>\n",
       "      <td>98400.000000</td>\n",
       "      <td>56.000000</td>\n",
       "    </tr>\n",
       "    <tr>\n",
       "      <th>max</th>\n",
       "      <td>NaN</td>\n",
       "      <td>NaN</td>\n",
       "      <td>NaN</td>\n",
       "      <td>215700.000000</td>\n",
       "      <td>107.000000</td>\n",
       "    </tr>\n",
       "  </tbody>\n",
       "</table>\n",
       "</div>"
      ],
      "text/plain": [
       "       type_of_contract             datetime product         amount  \\\n",
       "count             40505                40505   40505   40505.000000   \n",
       "unique                2                  101       6            NaN   \n",
       "top                  렌탈  2019-10-25 00:00:00      K1            NaN   \n",
       "freq              38449                  702   30135            NaN   \n",
       "first               NaN  2019-10-20 00:00:00     NaN            NaN   \n",
       "last                NaN  2020-02-03 00:00:00     NaN            NaN   \n",
       "mean                NaN                  NaN     NaN   94919.192174   \n",
       "std                 NaN                  NaN     NaN   12618.603722   \n",
       "min                 NaN                  NaN     NaN   55200.000000   \n",
       "25%                 NaN                  NaN     NaN   87900.000000   \n",
       "50%                 NaN                  NaN     NaN   96900.000000   \n",
       "75%                 NaN                  NaN     NaN   98400.000000   \n",
       "max                 NaN                  NaN     NaN  215700.000000   \n",
       "\n",
       "                 age  \n",
       "count   40505.000000  \n",
       "unique           NaN  \n",
       "top              NaN  \n",
       "freq             NaN  \n",
       "first            NaN  \n",
       "last             NaN  \n",
       "mean       46.608098  \n",
       "std        13.466188  \n",
       "min        20.000000  \n",
       "25%        37.000000  \n",
       "50%        46.000000  \n",
       "75%        56.000000  \n",
       "max       107.000000  "
      ]
     },
     "execution_count": 20,
     "metadata": {},
     "output_type": "execute_result"
    }
   ],
   "source": [
    "# df_TOCC_choose.describe()\n",
    "df_TOCC_choose.describe(include='all')"
   ]
  },
  {
   "cell_type": "markdown",
   "id": "1e88c0db-8f56-45fc-87bd-8dafec93c4d9",
   "metadata": {},
   "source": [
    "#### 변수간에 상관성 확인\n",
    "- 목표 변수의 정규화 여부 판단 (목표 변수는 연속형)\n",
    "- 목표 변수와 각 설명 변수 간의 관계 확인"
   ]
  },
  {
   "cell_type": "code",
   "execution_count": 23,
   "id": "5fb1bc07-e052-44bd-8bda-c31b96a890ad",
   "metadata": {
    "tags": []
   },
   "outputs": [
    {
     "data": {
      "text/plain": [
       "<Axes: xlabel='amount', ylabel='Count'>"
      ]
     },
     "execution_count": 23,
     "metadata": {},
     "output_type": "execute_result"
    },
    {
     "data": {
      "image/png": "[encoded data removed]",
      "text/plain": [
       "<Figure size 640x480 with 1 Axes>"
      ]
     },
     "metadata": {},
     "output_type": "display_data"
    }
   ],
   "source": [
    "sns.histplot(data=df_TOCC_choose, x='amount', kde=True)"
   ]
  },
  {
   "cell_type": "code",
   "execution_count": 24,
   "id": "339bbe9d-3ea8-4916-beb0-703dadbcc4ad",
   "metadata": {
    "tags": []
   },
   "outputs": [
    {
     "name": "stderr",
     "output_type": "stream",
     "text": [
      "C:\\Users\\01-09\\AppData\\Local\\Temp\\ipykernel_256\\1274529204.py:2: FutureWarning: The default value of numeric_only in DataFrame.corr is deprecated. In a future version, it will default to False. Select only valid columns or specify the value of numeric_only to silence this warning.\n",
      "  df_TOCC_choose.corr()\n"
     ]
    },
    {
     "data": {
      "text/html": [
       "<div>\n",
       "<style scoped>\n",
       "    .dataframe tbody tr th:only-of-type {\n",
       "        vertical-align: middle;\n",
       "    }\n",
       "\n",
       "    .dataframe tbody tr th {\n",
       "        vertical-align: top;\n",
       "    }\n",
       "\n",
       "    .dataframe thead th {\n",
       "        text-align: right;\n",
       "    }\n",
       "</style>\n",
       "<table border=\"1\" class=\"dataframe\">\n",
       "  <thead>\n",
       "    <tr style=\"text-align: right;\">\n",
       "      <th></th>\n",
       "      <th>amount</th>\n",
       "      <th>age</th>\n",
       "    </tr>\n",
       "  </thead>\n",
       "  <tbody>\n",
       "    <tr>\n",
       "      <th>amount</th>\n",
       "      <td>1.000000</td>\n",
       "      <td>-0.003539</td>\n",
       "    </tr>\n",
       "    <tr>\n",
       "      <th>age</th>\n",
       "      <td>-0.003539</td>\n",
       "      <td>1.000000</td>\n",
       "    </tr>\n",
       "  </tbody>\n",
       "</table>\n",
       "</div>"
      ],
      "text/plain": [
       "          amount       age\n",
       "amount  1.000000 -0.003539\n",
       "age    -0.003539  1.000000"
      ]
     },
     "execution_count": 24,
     "metadata": {},
     "output_type": "execute_result"
    }
   ],
   "source": [
    "# 연속형/연속형 : 상관계수 확인\n",
    "df_TOCC_choose.corr()  # 관계성이 있을 경우 pairplot()"
   ]
  },
  {
   "cell_type": "code",
   "execution_count": 28,
   "id": "efccbc73-54d4-4403-addc-ba85f1eeaf78",
   "metadata": {},
   "outputs": [
    {
     "data": {
      "text/plain": [
       "<Axes: xlabel='type_of_contract', ylabel='amount'>"
      ]
     },
     "execution_count": 28,
     "metadata": {},
     "output_type": "execute_result"
    },
    {
     "data": {
      "image/png": "[encoded data removed]",
      "text/plain": [
       "<Figure size 640x480 with 1 Axes>"
      ]
     },
     "metadata": {},
     "output_type": "display_data"
    }
   ],
   "source": [
    "# 범주형/ 연속형 : 최상/ 최하 갯수 선택(항목 중에 영향을 주는 것을 선택)\n",
    "# 항목 2개 이상인 것 , type_of_contract = 항목이 2개라 적합하지 못함\n",
    "sns.barplot(data=df_TOCC_choose, x='type_of_contract', y='amount')"
   ]
  },
  {
   "cell_type": "code",
   "execution_count": 29,
   "id": "614033fa-5625-4fe2-b483-61076c75067f",
   "metadata": {
    "tags": []
   },
   "outputs": [
    {
     "data": {
      "text/plain": [
       "<Axes: xlabel='product', ylabel='amount'>"
      ]
     },
     "execution_count": 29,
     "metadata": {},
     "output_type": "execute_result"
    },
    {
     "data": {
      "image/png": "[encoded data removed]",
      "text/plain": [
       "<Figure size 640x480 with 1 Axes>"
      ]
     },
     "metadata": {},
     "output_type": "display_data"
    }
   ],
   "source": [
    "sns.barplot(data=df_TOCC_choose, x='product', y='amount')"
   ]
  },
  {
   "cell_type": "code",
   "execution_count": 36,
   "id": "9e60dadc-41dd-41b8-acbc-c5b55f78f7d4",
   "metadata": {
    "tags": []
   },
   "outputs": [
    {
     "data": {
      "text/html": [
       "<div>\n",
       "<style scoped>\n",
       "    .dataframe tbody tr th:only-of-type {\n",
       "        vertical-align: middle;\n",
       "    }\n",
       "\n",
       "    .dataframe tbody tr th {\n",
       "        vertical-align: top;\n",
       "    }\n",
       "\n",
       "    .dataframe thead th {\n",
       "        text-align: right;\n",
       "    }\n",
       "</style>\n",
       "<table border=\"1\" class=\"dataframe\">\n",
       "  <thead>\n",
       "    <tr style=\"text-align: right;\">\n",
       "      <th></th>\n",
       "      <th>type_of_contract</th>\n",
       "      <th>datetime</th>\n",
       "      <th>product</th>\n",
       "      <th>amount</th>\n",
       "      <th>age</th>\n",
       "    </tr>\n",
       "  </thead>\n",
       "  <tbody>\n",
       "    <tr>\n",
       "      <th>58</th>\n",
       "      <td>렌탈</td>\n",
       "      <td>2019-10-21</td>\n",
       "      <td>K4</td>\n",
       "      <td>126900</td>\n",
       "      <td>28.0</td>\n",
       "    </tr>\n",
       "    <tr>\n",
       "      <th>110</th>\n",
       "      <td>렌탈</td>\n",
       "      <td>2019-10-21</td>\n",
       "      <td>K4</td>\n",
       "      <td>125700</td>\n",
       "      <td>23.0</td>\n",
       "    </tr>\n",
       "  </tbody>\n",
       "</table>\n",
       "</div>"
      ],
      "text/plain": [
       "    type_of_contract   datetime product  amount   age\n",
       "58                렌탈 2019-10-21      K4  126900  28.0\n",
       "110               렌탈 2019-10-21      K4  125700  23.0"
      ]
     },
     "execution_count": 36,
     "metadata": {},
     "output_type": "execute_result"
    }
   ],
   "source": [
    "# 변수 안에서 원하는 항목 필터링\n",
    "conditions = (df_TOCC_choose['product'] == 'K4') |( df_TOCC_choose['product'] == 'K5') |( df_TOCC_choose['product'] == 'K6')\n",
    "df_TOCC_choose_product = df_TOCC_choose.loc[conditions]\n",
    "df_TOCC_choose_product[:2]"
   ]
  },
  {
   "cell_type": "code",
   "execution_count": 37,
   "id": "dd6f5cd4-45f5-4eb0-bc20-7826f8f43d3e",
   "metadata": {
    "tags": []
   },
   "outputs": [
    {
     "data": {
      "text/plain": [
       "<Axes: xlabel='product', ylabel='amount'>"
      ]
     },
     "execution_count": 37,
     "metadata": {},
     "output_type": "execute_result"
    },
    {
     "data": {
      "image/png": "[encoded data removed]",
      "text/plain": [
       "<Figure size 640x480 with 1 Axes>"
      ]
     },
     "metadata": {},
     "output_type": "display_data"
    }
   ],
   "source": [
    "sns.barplot(data=df_TOCC_choose_product, x='product', y='amount')"
   ]
  },
  {
   "cell_type": "code",
   "execution_count": 38,
   "id": "32590dcc-05a3-4ddd-b416-f879eedf44a7",
   "metadata": {
    "tags": []
   },
   "outputs": [
    {
     "data": {
      "text/plain": [
       "<Axes: xlabel='datetime', ylabel='amount'>"
      ]
     },
     "execution_count": 38,
     "metadata": {},
     "output_type": "execute_result"
    },
    {
     "data": {
      "image/png": "[encoded data removed]",
      "text/plain": [
       "<Figure size 640x480 with 1 Axes>"
      ]
     },
     "metadata": {},
     "output_type": "display_data"
    }
   ],
   "source": [
    "# 순서형 / 연속형\n",
    "sns.lineplot(data=df_TOCC_choose_product, x='datetime', y='amount')"
   ]
  },
  {
   "cell_type": "code",
   "execution_count": 45,
   "id": "4e013b73-6bfe-4146-8334-f907d389010c",
   "metadata": {
    "tags": []
   },
   "outputs": [
    {
     "name": "stderr",
     "output_type": "stream",
     "text": [
      "C:\\Users\\01-09\\AppData\\Local\\Temp\\ipykernel_256\\3488728799.py:2: SettingWithCopyWarning: \n",
      "A value is trying to be set on a copy of a slice from a DataFrame.\n",
      "Try using .loc[row_indexer,col_indexer] = value instead\n",
      "\n",
      "See the caveats in the documentation: https://pandas.pydata.org/pandas-docs/stable/user_guide/indexing.html#returning-a-view-versus-a-copy\n",
      "  df_TOCC_choose_product['day_name'] = df_TOCC_choose_product['datetime'].dt.day_name()\n"
     ]
    },
    {
     "data": {
      "text/plain": [
       "Thursday     177\n",
       "Friday       170\n",
       "Wednesday    157\n",
       "Tuesday      156\n",
       "Monday       149\n",
       "Sunday       136\n",
       "Saturday       5\n",
       "Name: day_name, dtype: int64"
      ]
     },
     "execution_count": 45,
     "metadata": {},
     "output_type": "execute_result"
    }
   ],
   "source": [
    "# .loc[]을 쓰는 경우는 컬럼이 없을때, 컬럼이 있을때는 df_TOCC_choose_product['day_name'] 그냥 이렇게 써줘도 됨.\n",
    "df_TOCC_choose_product['day_name'] = df_TOCC_choose_product['datetime'].dt.day_name()\n",
    "df_TOCC_choose_product['day_name'].value_counts()"
   ]
  },
  {
   "cell_type": "code",
   "execution_count": 46,
   "id": "d89ee073-865d-48c7-a92f-248f059e655f",
   "metadata": {
    "tags": []
   },
   "outputs": [
    {
     "data": {
      "text/plain": [
       "<Axes: xlabel='day_name', ylabel='amount'>"
      ]
     },
     "execution_count": 46,
     "metadata": {},
     "output_type": "execute_result"
    },
    {
     "data": {
      "image/png": "[encoded data removed]",
      "text/plain": [
       "<Figure size 640x480 with 1 Axes>"
      ]
     },
     "metadata": {},
     "output_type": "display_data"
    }
   ],
   "source": [
    "# 범주형/연속형\n",
    "sns.barplot(data=df_TOCC_choose_product, x='day_name', y='amount')"
   ]
  },
  {
   "cell_type": "markdown",
   "id": "a02ba877-980b-4cd1-aad2-3aafb515cb9a",
   "metadata": {},
   "source": [
    "#### 보고서\n",
    "- 변수간 상관성 확인용\n",
    "    - 목표변수 : 비정규 분포\n",
    "    - 설명 변수\n",
    "        - type_of_contract(범주형) : 2개 항목\n",
    "        - product (범주형) : 상위 3개 항목\n",
    "        - age(연속형) : 상관 개수가 -0.003539 < 0.5 여서 설명 변수 채택 어려움.\n",
    "        - datetime(순서형) : 분포 특성상 요일별\n",
    "        - day_name : 요일별 분석을 위한 컬럼 추가"
   ]
  },
  {
   "cell_type": "code",
   "execution_count": null,
   "id": "fcb09cf2-f4ae-49a9-8cd7-ed913ffca723",
   "metadata": {},
   "outputs": [],
   "source": []
  }
 ],
 "metadata": {
  "kernelspec": {
   "display_name": "Python 3 (ipykernel)",
   "language": "python",
   "name": "python3"
  },
  "language_info": {
   "codemirror_mode": {
    "name": "ipython",
    "version": 3
   },
   "file_extension": ".py",
   "mimetype": "text/x-python",
   "name": "python",
   "nbconvert_exporter": "python",
   "pygments_lexer": "ipython3",
   "version": "3.11.3"
  }
 },
 "nbformat": 4,
 "nbformat_minor": 5
}
