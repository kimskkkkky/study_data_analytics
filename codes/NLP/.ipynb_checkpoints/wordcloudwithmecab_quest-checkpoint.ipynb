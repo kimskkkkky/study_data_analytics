{
 "cells": [
  {
   "cell_type": "code",
   "execution_count": 1,
   "id": "0b132d67-d27c-410f-9a17-acc3d026be1c",
   "metadata": {
    "tags": []
   },
   "outputs": [
    {
     "name": "stdout",
     "output_type": "stream",
     "text": [
      "Requirement already satisfied: wordcloud in c:\\users\\01-09\\anaconda3\\lib\\site-packages (1.9.2)\n",
      "Requirement already satisfied: numpy>=1.6.1 in c:\\users\\01-09\\anaconda3\\lib\\site-packages (from wordcloud) (1.24.3)\n",
      "Requirement already satisfied: pillow in c:\\users\\01-09\\anaconda3\\lib\\site-packages (from wordcloud) (9.4.0)\n",
      "Requirement already satisfied: matplotlib in c:\\users\\01-09\\anaconda3\\lib\\site-packages (from wordcloud) (3.7.1)\n",
      "Requirement already satisfied: contourpy>=1.0.1 in c:\\users\\01-09\\anaconda3\\lib\\site-packages (from matplotlib->wordcloud) (1.0.5)\n",
      "Requirement already satisfied: cycler>=0.10 in c:\\users\\01-09\\anaconda3\\lib\\site-packages (from matplotlib->wordcloud) (0.11.0)\n",
      "Requirement already satisfied: fonttools>=4.22.0 in c:\\users\\01-09\\anaconda3\\lib\\site-packages (from matplotlib->wordcloud) (4.25.0)\n",
      "Requirement already satisfied: kiwisolver>=1.0.1 in c:\\users\\01-09\\anaconda3\\lib\\site-packages (from matplotlib->wordcloud) (1.4.4)\n",
      "Requirement already satisfied: packaging>=20.0 in c:\\users\\01-09\\anaconda3\\lib\\site-packages (from matplotlib->wordcloud) (23.0)\n",
      "Requirement already satisfied: pyparsing>=2.3.1 in c:\\users\\01-09\\anaconda3\\lib\\site-packages (from matplotlib->wordcloud) (3.0.9)\n",
      "Requirement already satisfied: python-dateutil>=2.7 in c:\\users\\01-09\\anaconda3\\lib\\site-packages (from matplotlib->wordcloud) (2.8.2)\n",
      "Requirement already satisfied: six>=1.5 in c:\\users\\01-09\\anaconda3\\lib\\site-packages (from python-dateutil>=2.7->matplotlib->wordcloud) (1.16.0)\n"
     ]
    }
   ],
   "source": [
    "!pip install wordcloud"
   ]
  },
  {
   "cell_type": "code",
   "execution_count": 2,
   "id": "7d5524fd-40f8-4621-ad0a-b19d333cf357",
   "metadata": {
    "tags": []
   },
   "outputs": [],
   "source": [
    "from wordcloud import WordCloud"
   ]
  },
  {
   "cell_type": "code",
   "execution_count": 16,
   "id": "30c244e5-6587-41fa-b066-cc6cbf11362e",
   "metadata": {
    "tags": []
   },
   "outputs": [],
   "source": [
    "# 한글 문장 리스트\n",
    "sentences = [\n",
    "    \"오늘 날씨가 좋아서 나들이 가고 싶다.\",\n",
    "    \"이 영화는 정말 재미있었어요.\",\n",
    "    \"맛있는 음식을 먹으러 갈까요?\",\n",
    "    \"운동을 하면 건강에 좋아지는 것 같아요.\",\n",
    "    \"공부하기 싫어서 미루고 있어요.\",\n",
    "    \"여행 계획을 세우고 있는데 어디로 갈까요?\",\n",
    "    \"좋은 책을 읽으면 마음이 편안해져요.\",\n",
    "    \"오늘은 친구들과 만나서 재미있게 놀았어요.\",\n",
    "    \"새로운 언어를 배우는 것은 어려워도 흥미로워요.\",\n",
    "    \"주말에 가족들과 함께 시간을 보내기로 했습니다.\"\n",
    "]"
   ]
  },
  {
   "cell_type": "markdown",
   "id": "76e6d696-6192-42b4-b1e1-700e5b7030a5",
   "metadata": {},
   "source": [
    "## 자연어 처리 위한 단어 생성"
   ]
  },
  {
   "cell_type": "code",
   "execution_count": 18,
   "id": "614099ae-62a2-4f1c-9085-c3e8218b6b51",
   "metadata": {
    "tags": []
   },
   "outputs": [
    {
     "data": {
      "text/plain": [
       "['오늘',\n",
       " '날씨가',\n",
       " '좋아서',\n",
       " '나들이',\n",
       " '가고',\n",
       " '싶다.',\n",
       " '이',\n",
       " '영화는',\n",
       " '정말',\n",
       " '재미있었어요.',\n",
       " '맛있는',\n",
       " '음식을',\n",
       " '먹으러',\n",
       " '갈까요?',\n",
       " '운동을',\n",
       " '하면',\n",
       " '건강에',\n",
       " '좋아지는',\n",
       " '것',\n",
       " '같아요.',\n",
       " '공부하기',\n",
       " '싫어서',\n",
       " '미루고',\n",
       " '있어요.',\n",
       " '여행',\n",
       " '계획을',\n",
       " '세우고',\n",
       " '있는데',\n",
       " '어디로',\n",
       " '갈까요?',\n",
       " '좋은',\n",
       " '책을',\n",
       " '읽으면',\n",
       " '마음이',\n",
       " '편안해져요.',\n",
       " '오늘은',\n",
       " '친구들과',\n",
       " '만나서',\n",
       " '재미있게',\n",
       " '놀았어요.',\n",
       " '새로운',\n",
       " '언어를',\n",
       " '배우는',\n",
       " '것은',\n",
       " '어려워도',\n",
       " '흥미로워요.',\n",
       " '주말에',\n",
       " '가족들과',\n",
       " '함께',\n",
       " '시간을',\n",
       " '보내기로',\n",
       " '했습니다.']"
      ]
     },
     "execution_count": 18,
     "metadata": {},
     "output_type": "execute_result"
    }
   ],
   "source": [
    "# split 후 단어로 구성된 list 생성\n",
    "text_split = text.split()\n",
    "text_split"
   ]
  },
  {
   "cell_type": "markdown",
   "id": "39005eb7-756c-4a19-929c-90d74ba80bab",
   "metadata": {},
   "source": [
    "## 자연어 처리 위한 형태분석기 적용"
   ]
  },
  {
   "cell_type": "code",
   "execution_count": 19,
   "id": "095f8e75-7c09-405c-9e60-0a59c19fc973",
   "metadata": {
    "tags": []
   },
   "outputs": [],
   "source": [
    "from mecab import MeCab\n",
    "mecab = MeCab()"
   ]
  },
  {
   "cell_type": "code",
   "execution_count": 20,
   "id": "82cd007b-7227-41e5-8dd2-dbd1e7503280",
   "metadata": {
    "tags": []
   },
   "outputs": [
    {
     "data": {
      "text/plain": [
       "(['날씨', '나'],)"
      ]
     },
     "execution_count": 20,
     "metadata": {},
     "output_type": "execute_result"
    }
   ],
   "source": [
    "mecab.nouns(sentences[0]), #mecab.pos(sentences[0])"
   ]
  },
  {
   "cell_type": "code",
   "execution_count": 21,
   "id": "ffaade03-bd73-4b4e-bbd6-171b5bca4198",
   "metadata": {
    "tags": []
   },
   "outputs": [
    {
     "data": {
      "text/plain": [
       "['날씨',\n",
       " '나',\n",
       " '영화',\n",
       " '음식',\n",
       " '운동',\n",
       " '건강',\n",
       " '것',\n",
       " '공부',\n",
       " '여행',\n",
       " '계획',\n",
       " '어디',\n",
       " '책',\n",
       " '마음',\n",
       " '편안',\n",
       " '오늘',\n",
       " '친구',\n",
       " '언어',\n",
       " '것',\n",
       " '흥미',\n",
       " '주말',\n",
       " '가족',\n",
       " '시간']"
      ]
     },
     "execution_count": 21,
     "metadata": {},
     "output_type": "execute_result"
    }
   ],
   "source": [
    "morphs_list = list()\n",
    "for sentence in sentences :\n",
    "    morphs = mecab.nouns(sentence)\n",
    "    morphs_list = morphs_list + morphs\n",
    "morphs_list"
   ]
  },
  {
   "cell_type": "code",
   "execution_count": 22,
   "id": "b022d9d0-8f9a-469f-a9da-ea491d88619c",
   "metadata": {
    "tags": []
   },
   "outputs": [],
   "source": [
    "from collections import Counter\n",
    "nouns_count = Counter(morphs_list)"
   ]
  },
  {
   "cell_type": "code",
   "execution_count": 23,
   "id": "4b4aff26-a2a6-4d37-9e2c-759abcf8d9b8",
   "metadata": {
    "tags": []
   },
   "outputs": [
    {
     "data": {
      "text/plain": [
       "<wordcloud.wordcloud.WordCloud at 0x1ce9955e050>"
      ]
     },
     "execution_count": 23,
     "metadata": {},
     "output_type": "execute_result"
    }
   ],
   "source": [
    "# 영어가 아닌 다른 언어를 입력 시 깨짐 -> 해당 폰트 경로를 넣어줘야 함.\n",
    "# 한글 폰트 경로 설정 (Windows 환경에 맞게 경로 수정)\n",
    "font_path = 'C:/Windows/Fonts/malgun.ttf'\n",
    "\n",
    "wordCloud = WordCloud(font_path=font_path, background_color='white')\n",
    "wordCloud.generate_from_frequencies(nouns_count)"
   ]
  },
  {
   "cell_type": "code",
   "execution_count": 24,
   "id": "f7c96e9b-8a95-4aed-8866-d3e8e786778f",
   "metadata": {
    "tags": []
   },
   "outputs": [
    {
     "data": {
      "text/plain": [
       "{'것': 1.0,\n",
       " '날씨': 0.5,\n",
       " '나': 0.5,\n",
       " '영화': 0.5,\n",
       " '음식': 0.5,\n",
       " '운동': 0.5,\n",
       " '건강': 0.5,\n",
       " '공부': 0.5,\n",
       " '여행': 0.5,\n",
       " '계획': 0.5,\n",
       " '어디': 0.5,\n",
       " '책': 0.5,\n",
       " '마음': 0.5,\n",
       " '편안': 0.5,\n",
       " '오늘': 0.5,\n",
       " '친구': 0.5,\n",
       " '언어': 0.5,\n",
       " '흥미': 0.5,\n",
       " '주말': 0.5,\n",
       " '가족': 0.5,\n",
       " '시간': 0.5}"
      ]
     },
     "execution_count": 24,
     "metadata": {},
     "output_type": "execute_result"
    }
   ],
   "source": [
    "wordCloud.words_"
   ]
  },
  {
   "cell_type": "code",
   "execution_count": 25,
   "id": "f12a5572-f841-4c1a-afe4-cbe50b0b4c75",
   "metadata": {
    "tags": []
   },
   "outputs": [
    {
     "data": {
      "text/plain": [
       "'날씨 나 영화 음식 운동 건강 것 공부 여행 계획 어디 책 마음 편안 오늘 친구 언어 것 흥미 주말 가족 시간'"
      ]
     },
     "execution_count": 25,
     "metadata": {},
     "output_type": "execute_result"
    }
   ],
   "source": [
    "# \"맛있는 음식을 먹으러 갈까요?\" -> 4개\n",
    "# \"여행 계획을 세우고 있는데 어디로 갈까요?\" -> 6개\n",
    "# 단어는 10개이지만 동일한 단어 존재 가능(갈까요?)\n",
    "# 전체 단어의 개수에 따라서 wordcloud의 단어 크기가 달라진다\n",
    "\n",
    "# 문장 합치기\n",
    "text = ' '.join(morphs_list)\n",
    "text"
   ]
  },
  {
   "cell_type": "code",
   "execution_count": 26,
   "id": "2830474f-bb42-4bb1-955c-bfc1bde96a31",
   "metadata": {
    "tags": []
   },
   "outputs": [
    {
     "data": {
      "text/plain": [
       "'날씨  영화 음식 운동 건강  공부 여행 계획 어디 책 마음 편안 오늘 친구 언어  흥미 주말 가족 시간'"
      ]
     },
     "execution_count": 26,
     "metadata": {},
     "output_type": "execute_result"
    }
   ],
   "source": [
    "import re\n",
    "pattern = r'[나것]'\n",
    "text_regex = re.sub(pattern=pattern, repl='', string=text) # params 순서 : 변경대상, 대상 대체, 어떤것을\n",
    "text_regex"
   ]
  },
  {
   "cell_type": "code",
   "execution_count": 27,
   "id": "f0121608-e843-45e4-9130-9c1c0a0d0367",
   "metadata": {
    "tags": []
   },
   "outputs": [
    {
     "data": {
      "image/png": "[encoded data removed]",
      "text/plain": [
       "<Figure size 640x480 with 1 Axes>"
      ]
     },
     "metadata": {},
     "output_type": "display_data"
    }
   ],
   "source": [
    "import matplotlib.pyplot as plt\n",
    "plt.imshow(wordCloud)\n",
    "plt.axis('off') # plt 옵션 : 축 없애기\n",
    "plt.show()"
   ]
  }
 ],
 "metadata": {
  "kernelspec": {
   "display_name": "Python 3 (ipykernel)",
   "language": "python",
   "name": "python3"
  },
  "language_info": {
   "codemirror_mode": {
    "name": "ipython",
    "version": 3
   },
   "file_extension": ".py",
   "mimetype": "text/x-python",
   "name": "python",
   "nbconvert_exporter": "python",
   "pygments_lexer": "ipython3",
   "version": "3.11.3"
  }
 },
 "nbformat": 4,
 "nbformat_minor": 5
}
