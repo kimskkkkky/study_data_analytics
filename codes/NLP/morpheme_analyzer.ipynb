{
 "cells": [
  {
   "cell_type": "markdown",
   "id": "68f4333c-ef44-44dc-a912-6a8299b5ee2d",
   "metadata": {},
   "source": [
    "## 한글 형태소 분석기\n",
    "- refer : https://konlpy-ko.readthedocs.io/ko/v0.6.0/"
   ]
  },
  {
   "cell_type": "code",
   "execution_count": 2,
   "id": "ab7126b3-146b-4c8f-8119-5353373ec0ac",
   "metadata": {
    "collapsed": true,
    "jupyter": {
     "outputs_hidden": true
    },
    "tags": []
   },
   "outputs": [
    {
     "name": "stdout",
     "output_type": "stream",
     "text": [
      "Collecting konlpy\n",
      "  Downloading konlpy-0.6.0-py2.py3-none-any.whl (19.4 MB)\n",
      "                                              0.0/19.4 MB ? eta -:--:--\n",
      "                                              0.4/19.4 MB 8.1 MB/s eta 0:00:03\n",
      "     -                                        0.7/19.4 MB 7.6 MB/s eta 0:00:03\n",
      "     --                                       1.2/19.4 MB 8.1 MB/s eta 0:00:03\n",
      "     ---                                      1.6/19.4 MB 8.6 MB/s eta 0:00:03\n",
      "     ----                                     2.1/19.4 MB 9.0 MB/s eta 0:00:02\n",
      "     -----                                    2.6/19.4 MB 9.3 MB/s eta 0:00:02\n",
      "     ------                                   3.1/19.4 MB 9.5 MB/s eta 0:00:02\n",
      "     -------                                  3.6/19.4 MB 9.7 MB/s eta 0:00:02\n",
      "     --------                                 4.1/19.4 MB 10.1 MB/s eta 0:00:02\n",
      "     ---------                                4.6/19.4 MB 10.1 MB/s eta 0:00:02\n",
      "     ----------                               5.1/19.4 MB 10.2 MB/s eta 0:00:02\n",
      "     -----------                              5.6/19.4 MB 10.2 MB/s eta 0:00:02\n",
      "     ------------                             6.1/19.4 MB 10.3 MB/s eta 0:00:02\n",
      "     -------------                            6.6/19.4 MB 10.3 MB/s eta 0:00:02\n",
      "     --------------                           7.1/19.4 MB 10.4 MB/s eta 0:00:02\n",
      "     ---------------                          7.7/19.4 MB 10.4 MB/s eta 0:00:02\n",
      "     ----------------                         8.2/19.4 MB 10.4 MB/s eta 0:00:02\n",
      "     -----------------                        8.7/19.4 MB 10.5 MB/s eta 0:00:02\n",
      "     ------------------                       9.2/19.4 MB 10.5 MB/s eta 0:00:01\n",
      "     --------------------                     9.7/19.4 MB 10.7 MB/s eta 0:00:01\n",
      "     --------------------                    10.2/19.4 MB 10.7 MB/s eta 0:00:01\n",
      "     ---------------------                   10.8/19.4 MB 10.9 MB/s eta 0:00:01\n",
      "     ----------------------                  11.3/19.4 MB 11.1 MB/s eta 0:00:01\n",
      "     -----------------------                 11.8/19.4 MB 11.1 MB/s eta 0:00:01\n",
      "     ------------------------                12.3/19.4 MB 11.1 MB/s eta 0:00:01\n",
      "     -------------------------               12.8/19.4 MB 11.1 MB/s eta 0:00:01\n",
      "     --------------------------              13.3/19.4 MB 11.1 MB/s eta 0:00:01\n",
      "     ---------------------------             13.8/19.4 MB 11.1 MB/s eta 0:00:01\n",
      "     ----------------------------            14.2/19.4 MB 11.3 MB/s eta 0:00:01\n",
      "     -----------------------------           14.7/19.4 MB 11.3 MB/s eta 0:00:01\n",
      "     ------------------------------          15.3/19.4 MB 11.3 MB/s eta 0:00:01\n",
      "     -------------------------------         15.7/19.4 MB 11.3 MB/s eta 0:00:01\n",
      "     --------------------------------        16.1/19.4 MB 11.1 MB/s eta 0:00:01\n",
      "     ---------------------------------       16.6/19.4 MB 10.9 MB/s eta 0:00:01\n",
      "     ----------------------------------      17.1/19.4 MB 10.9 MB/s eta 0:00:01\n",
      "     -----------------------------------     17.6/19.4 MB 10.9 MB/s eta 0:00:01\n",
      "     ------------------------------------    18.0/19.4 MB 10.9 MB/s eta 0:00:01\n",
      "     -------------------------------------   18.5/19.4 MB 10.9 MB/s eta 0:00:01\n",
      "     --------------------------------------  19.1/19.4 MB 10.7 MB/s eta 0:00:01\n",
      "     --------------------------------------  19.4/19.4 MB 10.7 MB/s eta 0:00:01\n",
      "     --------------------------------------  19.4/19.4 MB 10.7 MB/s eta 0:00:01\n",
      "     --------------------------------------- 19.4/19.4 MB 10.1 MB/s eta 0:00:00\n",
      "Collecting JPype1>=0.7.0 (from konlpy)\n",
      "  Downloading JPype1-1.4.1-cp311-cp311-win_amd64.whl (345 kB)\n",
      "                                              0.0/345.1 kB ? eta -:--:--\n",
      "     ------------------------------------- 345.1/345.1 kB 10.8 MB/s eta 0:00:00\n",
      "Requirement already satisfied: lxml>=4.1.0 in c:\\users\\01-09\\anaconda3\\lib\\site-packages (from konlpy) (4.9.2)\n",
      "Requirement already satisfied: numpy>=1.6 in c:\\users\\01-09\\anaconda3\\lib\\site-packages (from konlpy) (1.24.3)\n",
      "Requirement already satisfied: packaging in c:\\users\\01-09\\anaconda3\\lib\\site-packages (from JPype1>=0.7.0->konlpy) (23.0)\n",
      "Installing collected packages: JPype1, konlpy\n",
      "Successfully installed JPype1-1.4.1 konlpy-0.6.0\n"
     ]
    }
   ],
   "source": [
    "!pip install konlpy"
   ]
  },
  {
   "cell_type": "markdown",
   "id": "5296eee4-9109-4bae-abf9-d32a4d1b93e1",
   "metadata": {},
   "source": [
    "### OKt : 한글 형태분석기 중 하나"
   ]
  },
  {
   "cell_type": "code",
   "execution_count": 3,
   "id": "ce9ea1b7-4ed1-4d51-857c-07c4ad89de2b",
   "metadata": {
    "tags": []
   },
   "outputs": [],
   "source": [
    "from konlpy.tag import Okt"
   ]
  },
  {
   "cell_type": "code",
   "execution_count": 4,
   "id": "21492178-bef9-4e63-9314-3f8673db9995",
   "metadata": {
    "tags": []
   },
   "outputs": [],
   "source": [
    "okt = Okt() # 형태소 분석기 선택"
   ]
  },
  {
   "cell_type": "code",
   "execution_count": 5,
   "id": "8f205557-2f84-4947-878d-42c5287f3469",
   "metadata": {
    "tags": []
   },
   "outputs": [],
   "source": [
    "sentences_list = ['아버지가방에들어가신다'\n",
    "                , '나는 밥을 먹는다.'\n",
    "                , '하늘을 나는 자동차'\n",
    "                , '아이폰 기다리다 지쳐 애플공홈에서 언락폰질러버렸다 6+ 128기가실버ㅋ']"
   ]
  },
  {
   "cell_type": "code",
   "execution_count": 6,
   "id": "71cc3ffb-6971-4771-9a32-5f3a805b4d22",
   "metadata": {
    "tags": []
   },
   "outputs": [
    {
     "data": {
      "text/plain": [
       "['나', '는', '밥', '을', '먹는다', '.']"
      ]
     },
     "execution_count": 6,
     "metadata": {},
     "output_type": "execute_result"
    }
   ],
   "source": [
    "# 토큰화\n",
    "morphs_list = okt.morphs(sentences_list[1])\n",
    "morphs_list"
   ]
  },
  {
   "cell_type": "code",
   "execution_count": 7,
   "id": "afd8ec0a-0c76-4498-9fcf-074a4a7c6b7e",
   "metadata": {
    "tags": []
   },
   "outputs": [
    {
     "data": {
      "text/plain": [
       "[('나', 'Noun'),\n",
       " ('는', 'Josa'),\n",
       " ('밥', 'Noun'),\n",
       " ('을', 'Josa'),\n",
       " ('먹는다', 'Verb'),\n",
       " ('.', 'Punctuation')]"
      ]
     },
     "execution_count": 7,
     "metadata": {},
     "output_type": "execute_result"
    }
   ],
   "source": [
    "# 품사 달기\n",
    "okt.pos(sentences_list[1])"
   ]
  },
  {
   "cell_type": "code",
   "execution_count": 8,
   "id": "eca8d3fc-5e6a-4ee7-b4e7-726d16027237",
   "metadata": {
    "tags": []
   },
   "outputs": [
    {
     "data": {
      "text/plain": [
       "['나', '밥']"
      ]
     },
     "execution_count": 8,
     "metadata": {},
     "output_type": "execute_result"
    }
   ],
   "source": [
    "# 명사만 가져오기\n",
    "okt.nouns(sentences_list[1])"
   ]
  },
  {
   "cell_type": "code",
   "execution_count": 9,
   "id": "865e64fd-fbf2-453c-91b0-afed66f49a18",
   "metadata": {
    "tags": []
   },
   "outputs": [
    {
     "data": {
      "text/plain": [
       "(['아이폰', '애플공홈', '언락폰', '128기', '실버', '애플', '공홈', '128'], ['애플공홈', '애플', '공홈'])"
      ]
     },
     "execution_count": 9,
     "metadata": {},
     "output_type": "execute_result"
    }
   ],
   "source": [
    "# 결합명사 단어별 추출\n",
    "okt.phrases(sentences_list[3]), okt.phrases('애플공홈')"
   ]
  },
  {
   "cell_type": "markdown",
   "id": "bc303f97-1225-448d-bec5-66d75fa3f0b3",
   "metadata": {},
   "source": [
    "### Mecab"
   ]
  },
  {
   "cell_type": "code",
   "execution_count": 10,
   "id": "5da1ad44-daf3-4b7a-8c11-e4145d215457",
   "metadata": {
    "tags": []
   },
   "outputs": [
    {
     "name": "stdout",
     "output_type": "stream",
     "text": [
      "Requirement already satisfied: python-mecab-ko in c:\\users\\01-09\\anaconda3\\lib\\site-packages (1.3.3)\n",
      "Requirement already satisfied: python-mecab-ko-dic in c:\\users\\01-09\\anaconda3\\lib\\site-packages (from python-mecab-ko) (2.1.1.post2)\n"
     ]
    }
   ],
   "source": [
    "!pip install python-mecab-ko"
   ]
  },
  {
   "cell_type": "code",
   "execution_count": 12,
   "id": "13df5ff3-3315-4de6-8e29-a9c09426b0a6",
   "metadata": {
    "tags": []
   },
   "outputs": [],
   "source": [
    "from mecab import MeCab"
   ]
  },
  {
   "cell_type": "code",
   "execution_count": 14,
   "id": "144162ff-de49-4153-bd40-e0325c31faa4",
   "metadata": {
    "tags": []
   },
   "outputs": [],
   "source": [
    "mecab = MeCab()"
   ]
  },
  {
   "cell_type": "code",
   "execution_count": 15,
   "id": "f7c2ec03-5b31-4c77-9ede-9ea7e28f0c24",
   "metadata": {
    "tags": []
   },
   "outputs": [
    {
     "data": {
      "text/plain": [
       "['아버지', '가', '방', '에', '들어가', '신다']"
      ]
     },
     "execution_count": 15,
     "metadata": {},
     "output_type": "execute_result"
    }
   ],
   "source": [
    "mecab.morphs(sentences_list[0])"
   ]
  },
  {
   "cell_type": "code",
   "execution_count": 16,
   "id": "1f81beb8-4034-4acc-88d5-de51d8b13874",
   "metadata": {
    "tags": []
   },
   "outputs": [
    {
     "data": {
      "text/plain": [
       "[('아버지', 'NNG'),\n",
       " ('가', 'JKS'),\n",
       " ('방', 'NNG'),\n",
       " ('에', 'JKB'),\n",
       " ('들어가', 'VV'),\n",
       " ('신다', 'EP+EC')]"
      ]
     },
     "execution_count": 16,
     "metadata": {},
     "output_type": "execute_result"
    }
   ],
   "source": [
    "mecab.pos(sentences_list[0])"
   ]
  },
  {
   "cell_type": "code",
   "execution_count": 17,
   "id": "39366752-0188-4d14-847f-bb47f4edf334",
   "metadata": {
    "collapsed": true,
    "jupyter": {
     "outputs_hidden": true
    },
    "tags": []
   },
   "outputs": [
    {
     "data": {
      "text/plain": [
       "[Morpheme(span=Span(start=0, end=3), surface='아버지', feature=Feature(pos='NNG', semantic=None, has_jongseong=False, reading='아버지', type=None, start_pos=None, end_pos=None, expression=None)),\n",
       " Morpheme(span=Span(start=3, end=4), surface='가', feature=Feature(pos='JKS', semantic=None, has_jongseong=False, reading='가', type=None, start_pos=None, end_pos=None, expression=None)),\n",
       " Morpheme(span=Span(start=4, end=5), surface='방', feature=Feature(pos='NNG', semantic='장소', has_jongseong=True, reading='방', type=None, start_pos=None, end_pos=None, expression=None)),\n",
       " Morpheme(span=Span(start=5, end=6), surface='에', feature=Feature(pos='JKB', semantic=None, has_jongseong=False, reading='에', type=None, start_pos=None, end_pos=None, expression=None)),\n",
       " Morpheme(span=Span(start=6, end=9), surface='들어가', feature=Feature(pos='VV', semantic=None, has_jongseong=False, reading='들어가', type=None, start_pos=None, end_pos=None, expression=None)),\n",
       " Morpheme(span=Span(start=9, end=11), surface='신다', feature=Feature(pos='EP+EC', semantic=None, has_jongseong=False, reading='신다', type='Inflect', start_pos='EP', end_pos='EC', expression='시/EP/*+ㄴ다/EC/*'))]"
      ]
     },
     "execution_count": 17,
     "metadata": {},
     "output_type": "execute_result"
    }
   ],
   "source": [
    "# mecab.parse(sentences_list[0])"
   ]
  },
  {
   "cell_type": "code",
   "execution_count": 18,
   "id": "e94a8492-a4fd-4e91-a480-82e3bf8e88cb",
   "metadata": {
    "tags": []
   },
   "outputs": [
    {
     "name": "stdout",
     "output_type": "stream",
     "text": [
      "['아버지', '가', '방', '에', '들어가', '신다']\n",
      "['나', '는', '밥', '을', '먹', '는다', '.']\n",
      "['하늘', '을', '나', '는', '자동차']\n",
      "['아이폰', '기다리', '다', '지쳐', '애플', '공홈', '에서', '언락', '폰', '질러', '버렸', '다', '6', '+', '128', '기', '가', '실버', 'ㅋ']\n"
     ]
    }
   ],
   "source": [
    "for sentence in sentences_list :\n",
    "    morphs_list = mecab.morphs(sentence)\n",
    "    print(morphs_list)"
   ]
  },
  {
   "cell_type": "code",
   "execution_count": null,
   "id": "dc03af41-7a06-4518-a4f3-b8508165fd47",
   "metadata": {},
   "outputs": [],
   "source": []
  }
 ],
 "metadata": {
  "kernelspec": {
   "display_name": "Python 3 (ipykernel)",
   "language": "python",
   "name": "python3"
  },
  "language_info": {
   "codemirror_mode": {
    "name": "ipython",
    "version": 3
   },
   "file_extension": ".py",
   "mimetype": "text/x-python",
   "name": "python",
   "nbconvert_exporter": "python",
   "pygments_lexer": "ipython3",
   "version": "3.11.3"
  }
 },
 "nbformat": 4,
 "nbformat_minor": 5
}
