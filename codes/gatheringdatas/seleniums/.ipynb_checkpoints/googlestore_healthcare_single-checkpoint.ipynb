{
 "cells": [
  {
   "cell_type": "code",
   "execution_count": 1,
   "id": "6c49da98-915a-4f21-ada1-eba697405f5d",
   "metadata": {
    "tags": []
   },
   "outputs": [],
   "source": [
    "from selenium import webdriver"
   ]
  },
  {
   "cell_type": "code",
   "execution_count": 18,
   "id": "07da4a3b-a636-40f7-b20b-5bcb0669fccc",
   "metadata": {
    "tags": []
   },
   "outputs": [],
   "source": [
    "# open chrome browser\n",
    "browser = webdriver.Chrome(executable_path='../../../../chromedriver.exe')"
   ]
  },
  {
   "cell_type": "code",
   "execution_count": 19,
   "id": "7ce142c2-8595-43be-8add-1a455d1d559e",
   "metadata": {
    "tags": []
   },
   "outputs": [],
   "source": [
    "# url in address window(주소창에 url 입력)\n",
    "browser.get('https://play.google.com/store/search?q=%ED%97%AC%EC%8A%A4%EC%BC%80%EC%96%B4%EC%95%B1&c=apps&hl=ko-KR')"
   ]
  },
  {
   "cell_type": "code",
   "execution_count": 20,
   "id": "b29143cc-2565-477c-a6eb-3955d545505c",
   "metadata": {
    "tags": []
   },
   "outputs": [],
   "source": [
    "browser.implicitly_wait(10)"
   ]
  },
  {
   "cell_type": "markdown",
   "id": "d5fbb360-585b-4dbb-92f8-b59faaa923ed",
   "metadata": {},
   "source": [
    "### 서비스 클릭\n",
    "- section > div > div > div > div:nth-child(2) > div > div > div"
   ]
  },
  {
   "cell_type": "code",
   "execution_count": 21,
   "id": "1772e716-4770-4d2b-a2e1-6e5dcd6384c0",
   "metadata": {
    "tags": []
   },
   "outputs": [],
   "source": [
    "click_path = 'section > div > div > div > div:nth-child(2) > div > div > div'\n",
    "browser.find_element_by_css_selector(click_path).click()"
   ]
  },
  {
   "cell_type": "markdown",
   "id": "daa47e85-e682-477b-9201-fc8276457958",
   "metadata": {
    "tags": []
   },
   "source": [
    "### 서비스 정보\n",
    "- 서비스명 tag : div > h1 > span\n",
    "- 만든회사명 tag : div.Il7kR > div > div > div > a > span\n",
    "- 앱정보 tag : div:nth-child(1) > c-wiz:nth-child(2) > div > section > div"
   ]
  },
  {
   "cell_type": "code",
   "execution_count": 22,
   "id": "0ee49b89-4252-4586-8344-6c7d09dca38d",
   "metadata": {
    "tags": []
   },
   "outputs": [
    {
     "data": {
      "text/plain": [
       "['NH헬스케어',\n",
       " 'NH농협생명',\n",
       " '한국인의 건강관리 NH 헬스케어!\\n\\n지인들과 재밌고 건강하게 즐기는 NH헬스케어만의 새로운 걷기 방법 – 걷기 배틀\\n걷기 목표 달성시 지급되는 포인트로 완성하는 온라인 텃밭 – 랜선 텃밭 가꾸기\\n\\n즐겁고 과학적인 당신만을 위한 건강 솔루션 NH 헬스케어!\\n업데이트 날짜\\n2023. 7. 21.\\n건강/운동']"
      ]
     },
     "execution_count": 22,
     "metadata": {},
     "output_type": "execute_result"
    }
   ],
   "source": [
    "service_name = browser.find_element_by_css_selector('div > h1 > span').text\n",
    "company_name = browser.find_element_by_css_selector('div.Il7kR > div > div > div > a > span').text\n",
    "app_information = browser.find_element_by_css_selector('div:nth-child(1) > c-wiz:nth-child(2) > div > section > div').text\n",
    "\n",
    "[service_name, company_name, app_information]"
   ]
  },
  {
   "cell_type": "code",
   "execution_count": 38,
   "id": "2c2a5cb1-64fd-439d-9e61-999702d3bbf4",
   "metadata": {
    "tags": []
   },
   "outputs": [
    {
     "data": {
      "text/plain": [
       "'리뷰 473개'"
      ]
     },
     "execution_count": 38,
     "metadata": {},
     "output_type": "execute_result"
    }
   ],
   "source": [
    "# 리뷰 총 갯수 가져오기\n",
    "# 리뷰 총 개수 tag : div:nth-child(1) > div.g1rdde\n",
    "review_total_count_text = browser.find_element_by_css_selector('div:nth-child(1) > div.g1rdde').text\n",
    "review_total_count_text"
   ]
  },
  {
   "cell_type": "code",
   "execution_count": 39,
   "id": "99b6006c-5259-4baf-81d2-6d00cce6a72e",
   "metadata": {
    "tags": []
   },
   "outputs": [
    {
     "name": "stdout",
     "output_type": "stream",
     "text": [
      "473 473\n"
     ]
    },
    {
     "data": {
      "text/plain": [
       "(473, int)"
      ]
     },
     "execution_count": 39,
     "metadata": {},
     "output_type": "execute_result"
    }
   ],
   "source": [
    "# refer) codes/pandass/begginners.ipynb - reqexp 부분 참고\n",
    "# reqexp을 이용해서 '리뷰 473개'라는 str에서 숫자만 뽑아내기\n",
    "import re # reqexpress function\n",
    "result_list = re.findall(r'\\d+', review_total_count_text) # r: 2진수로 값을 적용, list로 결과가 나옴\n",
    "print(result_list[0], int(result_list[0]))\n",
    "\n",
    "review_total_count = int(result_list[0]) # 리뷰 총 갯수\n",
    "review_total_count, type(review_total_count)"
   ]
  },
  {
   "cell_type": "markdown",
   "id": "4ba3e1c5-0155-43f5-b31f-0ea871df9261",
   "metadata": {},
   "source": [
    "### 리뷰 모두 보기\n",
    "- click tag : div:nth-child(5) > div > div > button > span"
   ]
  },
  {
   "cell_type": "code",
   "execution_count": 23,
   "id": "7f9a8534-ec73-4c24-bef1-8da4dbbdb8c3",
   "metadata": {
    "tags": []
   },
   "outputs": [],
   "source": [
    "import time\n",
    "time.sleep(2)"
   ]
  },
  {
   "cell_type": "code",
   "execution_count": 24,
   "id": "52ece59f-0ae1-418b-83a3-af7531561c25",
   "metadata": {
    "tags": []
   },
   "outputs": [],
   "source": [
    "browser.find_element_by_xpath('//*/div/div/button/*[contains(text(), \"리뷰\")]').click()\n",
    "#browser.find_element_by_css_selector(div:nth-child(5) > div > div > button > span).click()"
   ]
  },
  {
   "cell_type": "markdown",
   "id": "cd6fdc4c-8a6e-490c-8f10-477ba7fc86fc",
   "metadata": {},
   "source": [
    "## 리뷰 내용 가져오기\n",
    "- 리뷰 묶음 tag : div.fysCi > div > div:nth-child(2) > div\n",
    "- 리뷰 내용 tag : div.h3YV2d\n",
    "- 리뷰 등록 날짜 tag :  header > div.Jx4nYe > span\n",
    "- 별점 tag : header > div.Jx4nYe > div"
   ]
  },
  {
   "cell_type": "code",
   "execution_count": 25,
   "id": "c97012dc-aa28-4412-aada-53a1957330de",
   "metadata": {
    "tags": []
   },
   "outputs": [
    {
     "data": {
      "text/plain": [
       "40"
      ]
     },
     "execution_count": 25,
     "metadata": {},
     "output_type": "execute_result"
    }
   ],
   "source": [
    "reviews_bundle = browser.find_elements_by_css_selector('div.fysCi > div > div:nth-child(2) > div')\n",
    "len(reviews_bundle)"
   ]
  },
  {
   "cell_type": "code",
   "execution_count": 26,
   "id": "9a146941-6a03-491c-b6cc-349f79ec883a",
   "metadata": {
    "tags": []
   },
   "outputs": [],
   "source": [
    "content = reviews_bundle[0].find_element_by_css_selector('div.h3YV2d').text\n",
    "date = reviews_bundle[0].find_element_by_css_selector('header > div.Jx4nYe > span').text\n",
    "stars = reviews_bundle[0].find_element_by_css_selector('header > div.Jx4nYe > div').get_attribute('aria-label')"
   ]
  },
  {
   "cell_type": "code",
   "execution_count": 27,
   "id": "65bce9f8-06bb-4653-85e8-11983a5cea5a",
   "metadata": {
    "tags": []
   },
   "outputs": [
    {
     "data": {
      "text/plain": [
       "['안녕하세요. 그동안 헬스케어 앱을 잘 사용중에 있었는데요, 그전에는 앱을 클릭하면 자동 로그인이되어 걸음수도 확인하고 포인트도 받고 그랬는데요. 오늘 갑자기 회원가입 및 로그인 화면이 뜨더니 로그인이 아예 안되면서 자꾸 에러가 나네요. 기존 회원인데, 새로 회원가입할수도 없구요ㅜㅜ 어떻게 해야하는지 알려주시면 감사하겠습니다.',\n",
       " '2023년 7월 21일',\n",
       " '별표 5개 만점에 4개를 받았습니다.']"
      ]
     },
     "execution_count": 27,
     "metadata": {},
     "output_type": "execute_result"
    }
   ],
   "source": [
    "[content, date, stars]"
   ]
  },
  {
   "cell_type": "markdown",
   "id": "b37f2c83-bdfd-4070-b851-ec9942703268",
   "metadata": {},
   "source": [
    "### 추가 댓글 가져오기(2가지 방법)\n",
    "1. 마지막 내용(댓글)을 클릭\n",
    "2. 마지막 화면까지 스크롤링"
   ]
  },
  {
   "cell_type": "code",
   "execution_count": 28,
   "id": "014613cc-436d-432d-a7aa-32d25903a5d2",
   "metadata": {
    "tags": []
   },
   "outputs": [],
   "source": [
    "reviews_bundle[39].click()"
   ]
  },
  {
   "cell_type": "code",
   "execution_count": 29,
   "id": "7c9927c5-4bb9-4a7b-9066-0e860bb19ed1",
   "metadata": {},
   "outputs": [
    {
     "data": {
      "text/plain": [
       "80"
      ]
     },
     "execution_count": 29,
     "metadata": {},
     "output_type": "execute_result"
    }
   ],
   "source": [
    "reviews_bundle = browser.find_elements_by_css_selector('div.fysCi > div > div:nth-child(2) > div')\n",
    "len(reviews_bundle)"
   ]
  },
  {
   "cell_type": "code",
   "execution_count": 31,
   "id": "d04daa3c-d75f-478b-9ecd-9252dd1739c8",
   "metadata": {
    "collapsed": true,
    "jupyter": {
     "outputs_hidden": true
    },
    "tags": []
   },
   "outputs": [
    {
     "data": {
      "text/plain": [
       "[<selenium.webdriver.remote.webelement.WebElement (session=\"741a6b8fe2a44d2c9fc2c33e96b437ea\", element=\"DCD13DCB55FC5DB5145DBD6B100DAC8A_element_92\")>,\n",
       " <selenium.webdriver.remote.webelement.WebElement (session=\"741a6b8fe2a44d2c9fc2c33e96b437ea\", element=\"DCD13DCB55FC5DB5145DBD6B100DAC8A_element_93\")>,\n",
       " <selenium.webdriver.remote.webelement.WebElement (session=\"741a6b8fe2a44d2c9fc2c33e96b437ea\", element=\"DCD13DCB55FC5DB5145DBD6B100DAC8A_element_94\")>,\n",
       " <selenium.webdriver.remote.webelement.WebElement (session=\"741a6b8fe2a44d2c9fc2c33e96b437ea\", element=\"DCD13DCB55FC5DB5145DBD6B100DAC8A_element_95\")>,\n",
       " <selenium.webdriver.remote.webelement.WebElement (session=\"741a6b8fe2a44d2c9fc2c33e96b437ea\", element=\"DCD13DCB55FC5DB5145DBD6B100DAC8A_element_96\")>,\n",
       " <selenium.webdriver.remote.webelement.WebElement (session=\"741a6b8fe2a44d2c9fc2c33e96b437ea\", element=\"DCD13DCB55FC5DB5145DBD6B100DAC8A_element_97\")>,\n",
       " <selenium.webdriver.remote.webelement.WebElement (session=\"741a6b8fe2a44d2c9fc2c33e96b437ea\", element=\"DCD13DCB55FC5DB5145DBD6B100DAC8A_element_98\")>,\n",
       " <selenium.webdriver.remote.webelement.WebElement (session=\"741a6b8fe2a44d2c9fc2c33e96b437ea\", element=\"DCD13DCB55FC5DB5145DBD6B100DAC8A_element_99\")>,\n",
       " <selenium.webdriver.remote.webelement.WebElement (session=\"741a6b8fe2a44d2c9fc2c33e96b437ea\", element=\"DCD13DCB55FC5DB5145DBD6B100DAC8A_element_100\")>,\n",
       " <selenium.webdriver.remote.webelement.WebElement (session=\"741a6b8fe2a44d2c9fc2c33e96b437ea\", element=\"DCD13DCB55FC5DB5145DBD6B100DAC8A_element_101\")>,\n",
       " <selenium.webdriver.remote.webelement.WebElement (session=\"741a6b8fe2a44d2c9fc2c33e96b437ea\", element=\"DCD13DCB55FC5DB5145DBD6B100DAC8A_element_102\")>,\n",
       " <selenium.webdriver.remote.webelement.WebElement (session=\"741a6b8fe2a44d2c9fc2c33e96b437ea\", element=\"DCD13DCB55FC5DB5145DBD6B100DAC8A_element_103\")>,\n",
       " <selenium.webdriver.remote.webelement.WebElement (session=\"741a6b8fe2a44d2c9fc2c33e96b437ea\", element=\"DCD13DCB55FC5DB5145DBD6B100DAC8A_element_104\")>,\n",
       " <selenium.webdriver.remote.webelement.WebElement (session=\"741a6b8fe2a44d2c9fc2c33e96b437ea\", element=\"DCD13DCB55FC5DB5145DBD6B100DAC8A_element_105\")>,\n",
       " <selenium.webdriver.remote.webelement.WebElement (session=\"741a6b8fe2a44d2c9fc2c33e96b437ea\", element=\"DCD13DCB55FC5DB5145DBD6B100DAC8A_element_106\")>,\n",
       " <selenium.webdriver.remote.webelement.WebElement (session=\"741a6b8fe2a44d2c9fc2c33e96b437ea\", element=\"DCD13DCB55FC5DB5145DBD6B100DAC8A_element_107\")>,\n",
       " <selenium.webdriver.remote.webelement.WebElement (session=\"741a6b8fe2a44d2c9fc2c33e96b437ea\", element=\"DCD13DCB55FC5DB5145DBD6B100DAC8A_element_108\")>,\n",
       " <selenium.webdriver.remote.webelement.WebElement (session=\"741a6b8fe2a44d2c9fc2c33e96b437ea\", element=\"DCD13DCB55FC5DB5145DBD6B100DAC8A_element_109\")>,\n",
       " <selenium.webdriver.remote.webelement.WebElement (session=\"741a6b8fe2a44d2c9fc2c33e96b437ea\", element=\"DCD13DCB55FC5DB5145DBD6B100DAC8A_element_110\")>,\n",
       " <selenium.webdriver.remote.webelement.WebElement (session=\"741a6b8fe2a44d2c9fc2c33e96b437ea\", element=\"DCD13DCB55FC5DB5145DBD6B100DAC8A_element_111\")>,\n",
       " <selenium.webdriver.remote.webelement.WebElement (session=\"741a6b8fe2a44d2c9fc2c33e96b437ea\", element=\"DCD13DCB55FC5DB5145DBD6B100DAC8A_element_112\")>,\n",
       " <selenium.webdriver.remote.webelement.WebElement (session=\"741a6b8fe2a44d2c9fc2c33e96b437ea\", element=\"DCD13DCB55FC5DB5145DBD6B100DAC8A_element_113\")>,\n",
       " <selenium.webdriver.remote.webelement.WebElement (session=\"741a6b8fe2a44d2c9fc2c33e96b437ea\", element=\"DCD13DCB55FC5DB5145DBD6B100DAC8A_element_114\")>,\n",
       " <selenium.webdriver.remote.webelement.WebElement (session=\"741a6b8fe2a44d2c9fc2c33e96b437ea\", element=\"DCD13DCB55FC5DB5145DBD6B100DAC8A_element_115\")>,\n",
       " <selenium.webdriver.remote.webelement.WebElement (session=\"741a6b8fe2a44d2c9fc2c33e96b437ea\", element=\"DCD13DCB55FC5DB5145DBD6B100DAC8A_element_116\")>,\n",
       " <selenium.webdriver.remote.webelement.WebElement (session=\"741a6b8fe2a44d2c9fc2c33e96b437ea\", element=\"DCD13DCB55FC5DB5145DBD6B100DAC8A_element_117\")>,\n",
       " <selenium.webdriver.remote.webelement.WebElement (session=\"741a6b8fe2a44d2c9fc2c33e96b437ea\", element=\"DCD13DCB55FC5DB5145DBD6B100DAC8A_element_118\")>,\n",
       " <selenium.webdriver.remote.webelement.WebElement (session=\"741a6b8fe2a44d2c9fc2c33e96b437ea\", element=\"DCD13DCB55FC5DB5145DBD6B100DAC8A_element_119\")>,\n",
       " <selenium.webdriver.remote.webelement.WebElement (session=\"741a6b8fe2a44d2c9fc2c33e96b437ea\", element=\"DCD13DCB55FC5DB5145DBD6B100DAC8A_element_120\")>,\n",
       " <selenium.webdriver.remote.webelement.WebElement (session=\"741a6b8fe2a44d2c9fc2c33e96b437ea\", element=\"DCD13DCB55FC5DB5145DBD6B100DAC8A_element_121\")>,\n",
       " <selenium.webdriver.remote.webelement.WebElement (session=\"741a6b8fe2a44d2c9fc2c33e96b437ea\", element=\"DCD13DCB55FC5DB5145DBD6B100DAC8A_element_122\")>,\n",
       " <selenium.webdriver.remote.webelement.WebElement (session=\"741a6b8fe2a44d2c9fc2c33e96b437ea\", element=\"DCD13DCB55FC5DB5145DBD6B100DAC8A_element_123\")>,\n",
       " <selenium.webdriver.remote.webelement.WebElement (session=\"741a6b8fe2a44d2c9fc2c33e96b437ea\", element=\"DCD13DCB55FC5DB5145DBD6B100DAC8A_element_124\")>,\n",
       " <selenium.webdriver.remote.webelement.WebElement (session=\"741a6b8fe2a44d2c9fc2c33e96b437ea\", element=\"DCD13DCB55FC5DB5145DBD6B100DAC8A_element_125\")>,\n",
       " <selenium.webdriver.remote.webelement.WebElement (session=\"741a6b8fe2a44d2c9fc2c33e96b437ea\", element=\"DCD13DCB55FC5DB5145DBD6B100DAC8A_element_126\")>,\n",
       " <selenium.webdriver.remote.webelement.WebElement (session=\"741a6b8fe2a44d2c9fc2c33e96b437ea\", element=\"DCD13DCB55FC5DB5145DBD6B100DAC8A_element_127\")>,\n",
       " <selenium.webdriver.remote.webelement.WebElement (session=\"741a6b8fe2a44d2c9fc2c33e96b437ea\", element=\"DCD13DCB55FC5DB5145DBD6B100DAC8A_element_128\")>,\n",
       " <selenium.webdriver.remote.webelement.WebElement (session=\"741a6b8fe2a44d2c9fc2c33e96b437ea\", element=\"DCD13DCB55FC5DB5145DBD6B100DAC8A_element_129\")>,\n",
       " <selenium.webdriver.remote.webelement.WebElement (session=\"741a6b8fe2a44d2c9fc2c33e96b437ea\", element=\"DCD13DCB55FC5DB5145DBD6B100DAC8A_element_130\")>,\n",
       " <selenium.webdriver.remote.webelement.WebElement (session=\"741a6b8fe2a44d2c9fc2c33e96b437ea\", element=\"DCD13DCB55FC5DB5145DBD6B100DAC8A_element_131\")>]"
      ]
     },
     "execution_count": 31,
     "metadata": {},
     "output_type": "execute_result"
    }
   ],
   "source": [
    "# 40번째부터 스크랩핑\n",
    "reviews_bundle[40:]"
   ]
  },
  {
   "cell_type": "markdown",
   "id": "69e5801c-8f88-44c4-b818-b317c7d8cc26",
   "metadata": {},
   "source": [
    "### 클릭 갯수"
   ]
  },
  {
   "cell_type": "code",
   "execution_count": 32,
   "id": "290c04f4-e4cf-4ca7-a7d7-fadb23dbf3f3",
   "metadata": {},
   "outputs": [
    {
     "data": {
      "text/plain": [
       "(0.5, 0.975, 1.0, 1.125, 2.0, 2.225, 2.9, 3.025, 11.825)"
      ]
     },
     "execution_count": 32,
     "metadata": {},
     "output_type": "execute_result"
    }
   ],
   "source": [
    "# review_total_count / review_standard_count_per\n",
    "20 / 40, 39 / 40, 40 / 40, 45 / 40, 80 / 40, 89 / 40, 116 / 40, 121 / 40,473 / 40"
   ]
  },
  {
   "cell_type": "markdown",
   "id": "b4122df0-2691-4d4b-b703-c99cd4b351cd",
   "metadata": {},
   "source": [
    "### 추가 댓글 모두 가져오기"
   ]
  },
  {
   "cell_type": "code",
   "execution_count": 33,
   "id": "976f79e2-ab43-4403-8b09-ccead27a4223",
   "metadata": {},
   "outputs": [
    {
     "data": {
      "text/plain": [
       "([1], [1, 2, 3])"
      ]
     },
     "execution_count": 33,
     "metadata": {},
     "output_type": "execute_result"
    }
   ],
   "source": [
    "# loop 1번 돌 때, loop 3번 돌 때\n",
    "list(range(1, 2)), list(range(1, 4))"
   ]
  },
  {
   "cell_type": "code",
   "execution_count": 36,
   "id": "24328315-2660-46ab-b1d7-869657da97f5",
   "metadata": {},
   "outputs": [
    {
     "name": "stdout",
     "output_type": "stream",
     "text": [
      "current reviews_bundle count : 248\n",
      "current reviews_bundle count : 248\n",
      "current reviews_bundle count : 248\n",
      "current reviews_bundle count : 248\n",
      "current reviews_bundle count : 248\n",
      "current reviews_bundle count : 248\n",
      "current reviews_bundle count : 248\n",
      "current reviews_bundle count : 248\n",
      "current reviews_bundle count : 248\n",
      "current reviews_bundle count : 248\n",
      "current reviews_bundle count : 248\n",
      "Done 248\n"
     ]
    }
   ],
   "source": [
    "review_total_count = 473  # 리뷰 총 갯수\n",
    "review_standard_count_per = 40\n",
    "click_count = 0\n",
    "\n",
    "loop_count_int = int(review_total_count / review_standard_count_per)\n",
    "for count in range(1, loop_count_int+1) :\n",
    "    try :\n",
    "        reviews_bundle = browser.find_elements_by_css_selector('div.fysCi > div > div:nth-child(2) > div')\n",
    "        print('current reviews_bundle count : {}'.format(len(reviews_bundle)))\n",
    "        reviews_bundle[len(reviews_bundle)-1].click()\n",
    "        time.sleep(3)\n",
    "    except :\n",
    "        print('pass')\n",
    "        pass\n",
    "print('Done', len(reviews_bundle))"
   ]
  },
  {
   "cell_type": "code",
   "execution_count": null,
   "id": "723ab3d8-b8c0-4d30-bd6c-d35bc465e4ae",
   "metadata": {
    "tags": []
   },
   "outputs": [],
   "source": [
    "# browser.back() # 팝업 닫기"
   ]
  },
  {
   "cell_type": "code",
   "execution_count": null,
   "id": "45313ac2-d8c9-40cf-a24a-e86285dfa369",
   "metadata": {
    "tags": []
   },
   "outputs": [],
   "source": [
    "# browser.back() # 리스트로 돌아가기"
   ]
  },
  {
   "cell_type": "code",
   "execution_count": null,
   "id": "e7a4bbae-c81b-4853-bac8-1d6c6dbb0a0a",
   "metadata": {},
   "outputs": [],
   "source": [
    "# browser.quit()"
   ]
  }
 ],
 "metadata": {
  "kernelspec": {
   "display_name": "Python 3 (ipykernel)",
   "language": "python",
   "name": "python3"
  },
  "language_info": {
   "codemirror_mode": {
    "name": "ipython",
    "version": 3
   },
   "file_extension": ".py",
   "mimetype": "text/x-python",
   "name": "python",
   "nbconvert_exporter": "python",
   "pygments_lexer": "ipython3",
   "version": "3.11.3"
  }
 },
 "nbformat": 4,
 "nbformat_minor": 5
}
