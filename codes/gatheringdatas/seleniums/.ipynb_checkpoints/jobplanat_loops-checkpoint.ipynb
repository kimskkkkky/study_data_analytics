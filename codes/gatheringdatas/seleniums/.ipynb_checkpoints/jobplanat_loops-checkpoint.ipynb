{
 "cells": [
  {
   "cell_type": "code",
   "execution_count": 1,
   "id": "6a068180-aed7-4226-8dfa-16707f18d9f3",
   "metadata": {
    "tags": []
   },
   "outputs": [],
   "source": [
    "from selenium import webdriver"
   ]
  },
  {
   "cell_type": "code",
   "execution_count": 2,
   "id": "b5ba2bee-0b7c-4b54-ab08-a2c5d58f10e0",
   "metadata": {
    "tags": []
   },
   "outputs": [],
   "source": [
    "# chrome 브라우저 open\n",
    "browser = webdriver.Chrome(executable_path='../../../../chromedriver.exe')\n",
    "#path = 주피터 노트북은 내가 기준, vs 코드는 루트가 기준"
   ]
  },
  {
   "cell_type": "code",
   "execution_count": 3,
   "id": "ce937953-3bba-44a4-b5c1-2633d395b6de",
   "metadata": {
    "tags": []
   },
   "outputs": [],
   "source": [
    "# open 된 browser에 URL 주소 입력\n",
    "browser.get('https://www.w3schools.com/')"
   ]
  },
  {
   "cell_type": "code",
   "execution_count": 4,
   "id": "d6a2b82e-379f-478f-87e1-47a593a6153a",
   "metadata": {
    "tags": []
   },
   "outputs": [
    {
     "data": {
      "text/plain": [
       "True"
      ]
     },
     "execution_count": 4,
     "metadata": {},
     "output_type": "execute_result"
    }
   ],
   "source": [
    "browser.save_screenshot('./begginers.png')"
   ]
  },
  {
   "cell_type": "code",
   "execution_count": null,
   "id": "e01c680c-84d4-4107-b65d-70a71f41ced9",
   "metadata": {},
   "outputs": [],
   "source": []
  },
  {
   "cell_type": "code",
   "execution_count": null,
   "id": "9e19fc48-8985-4665-9414-85d3effbf9b7",
   "metadata": {},
   "outputs": [],
   "source": []
  },
  {
   "cell_type": "code",
   "execution_count": 4,
   "id": "d1dcf774-bddd-419c-8541-aeb5b3f5020a",
   "metadata": {
    "tags": []
   },
   "outputs": [],
   "source": [
    "# chrome browser close\n",
    "browser.quit()"
   ]
  },
  {
   "cell_type": "code",
   "execution_count": null,
   "id": "49833f6b-7f91-4815-b512-478d41f3ec01",
   "metadata": {},
   "outputs": [],
   "source": []
  }
 ],
 "metadata": {
  "kernelspec": {
   "display_name": "Python 3 (ipykernel)",
   "language": "python",
   "name": "python3"
  },
  "language_info": {
   "codemirror_mode": {
    "name": "ipython",
    "version": 3
   },
   "file_extension": ".py",
   "mimetype": "text/x-python",
   "name": "python",
   "nbconvert_exporter": "python",
   "pygments_lexer": "ipython3",
   "version": "3.11.3"
  }
 },
 "nbformat": 4,
 "nbformat_minor": 5
}
