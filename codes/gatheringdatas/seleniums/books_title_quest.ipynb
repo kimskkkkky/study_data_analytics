{
 "cells": [
  {
   "cell_type": "code",
   "execution_count": 13,
   "id": "6a068180-aed7-4226-8dfa-16707f18d9f3",
   "metadata": {
    "tags": []
   },
   "outputs": [],
   "source": [
    "from selenium import webdriver"
   ]
  },
  {
   "cell_type": "code",
   "execution_count": 47,
   "id": "b5ba2bee-0b7c-4b54-ab08-a2c5d58f10e0",
   "metadata": {
    "tags": []
   },
   "outputs": [],
   "source": [
    "# chrome 브라우저 open\n",
    "browser = webdriver.Chrome(executable_path='../../../../chromedriver.exe')\n",
    "#path = 주피터 노트북은 내가 기준, vs 코드는 루트가 기준"
   ]
  },
  {
   "cell_type": "code",
   "execution_count": 48,
   "id": "ce937953-3bba-44a4-b5c1-2633d395b6de",
   "metadata": {
    "tags": []
   },
   "outputs": [],
   "source": [
    "# open 된 browser에 URL 주소 입력\n",
    "browser.get('https://brunch.co.kr/keyword/%EC%B1%85%EB%A6%AC%EB%B7%B0')"
   ]
  },
  {
   "cell_type": "markdown",
   "id": "1b9fdc3e-dcee-4ecf-8675-a9c7b288b1ed",
   "metadata": {},
   "source": [
    "### 여러개 element 가져오기\n",
    "- 책 제목 가져오기"
   ]
  },
  {
   "cell_type": "code",
   "execution_count": 49,
   "id": "619358e0-9ec4-4889-8dee-aa6b33045e0a",
   "metadata": {
    "tags": []
   },
   "outputs": [
    {
     "data": {
      "text/plain": [
       "(list, selenium.webdriver.remote.webelement.WebElement)"
      ]
     },
     "execution_count": 49,
     "metadata": {},
     "output_type": "execute_result"
    }
   ],
   "source": [
    "books_path = '.tit_subject'\n",
    "books = browser.find_elements_by_css_selector(books_path)\n",
    "type(books), type(books[0])"
   ]
  },
  {
   "cell_type": "code",
   "execution_count": 67,
   "id": "50494ab0-3499-4ae8-8a89-8b74e10677d7",
   "metadata": {
    "tags": []
   },
   "outputs": [],
   "source": [
    "book_list =  []"
   ]
  },
  {
   "cell_type": "code",
   "execution_count": 69,
   "id": "692688c0-f264-408a-8779-c1dbc45b43dd",
   "metadata": {
    "tags": []
   },
   "outputs": [
    {
     "data": {
      "text/plain": [
       "[\"'국사'만으로는 부족하다. '동북아사'여야 한다\",\n",
       " '젊어서 위태로운 예술가를 향한 등대',\n",
       " '그래서 내가 불안했던 거야',\n",
       " '완벽한 아이 팔아요',\n",
       " '일상의 모험 - 서동욱',\n",
       " 'Egon Schiele : the complete wo',\n",
       " '노동자의 시간은 저절로 흐르지 않는다',\n",
       " '방랑기 / 하야시 후미코 / 1930',\n",
       " '나카오카 겐메이에게 배우는 일',\n",
       " '퇴사하고 잘 놀고 잘 살고 싶다',\n",
       " '쾌락 과잉 시대에서 균형 찾기',\n",
       " '평온할 줄만 알았던 그녀의 모험',\n",
       " '그래도 사랑했고 그래서 버텼던 시절',\n",
       " '물건을 버리며 얻은 변화와 행복',\n",
       " '당신을 위해서라면 죽어도 좋아요',\n",
       " \"선량하지 않은 '선량한 사람'\",\n",
       " '포장도 변명도 과장도 없는 일상의 장면들',\n",
       " '<사라진 개발자들>을 읽고',\n",
       " '당장 오늘 하루를 잘 보내는 방법',\n",
       " '가시가 허용되지 않는 고슴도치 이야기',\n",
       " \"'국사'만으로는 부족하다. '동북아사'여야 한다\",\n",
       " '젊어서 위태로운 예술가를 향한 등대',\n",
       " '그래서 내가 불안했던 거야',\n",
       " '완벽한 아이 팔아요',\n",
       " '일상의 모험 - 서동욱',\n",
       " 'Egon Schiele : the complete wo',\n",
       " '노동자의 시간은 저절로 흐르지 않는다',\n",
       " '방랑기 / 하야시 후미코 / 1930',\n",
       " '나카오카 겐메이에게 배우는 일',\n",
       " '퇴사하고 잘 놀고 잘 살고 싶다',\n",
       " '쾌락 과잉 시대에서 균형 찾기',\n",
       " '평온할 줄만 알았던 그녀의 모험',\n",
       " '그래도 사랑했고 그래서 버텼던 시절',\n",
       " '물건을 버리며 얻은 변화와 행복',\n",
       " '당신을 위해서라면 죽어도 좋아요',\n",
       " \"선량하지 않은 '선량한 사람'\",\n",
       " '포장도 변명도 과장도 없는 일상의 장면들',\n",
       " '<사라진 개발자들>을 읽고',\n",
       " '당장 오늘 하루를 잘 보내는 방법',\n",
       " '가시가 허용되지 않는 고슴도치 이야기']"
      ]
     },
     "execution_count": 69,
     "metadata": {},
     "output_type": "execute_result"
    }
   ],
   "source": [
    "for webbooks in books:\n",
    "    book_list.append(webbooks.text)\n",
    "\n",
    "book_list   "
   ]
  },
  {
   "cell_type": "code",
   "execution_count": 70,
   "id": "ece2f9c6-cddc-448d-86e7-379697f6a1c2",
   "metadata": {
    "tags": []
   },
   "outputs": [],
   "source": [
    "import pandas as pd"
   ]
  },
  {
   "cell_type": "code",
   "execution_count": 71,
   "id": "15f15d12-b822-435c-aeb5-c0addbbde21b",
   "metadata": {
    "tags": []
   },
   "outputs": [],
   "source": [
    "books_title = pd.DataFrame(book_list)"
   ]
  },
  {
   "cell_type": "code",
   "execution_count": 72,
   "id": "364908bb-afae-4602-8b98-af796b4fb0ac",
   "metadata": {
    "collapsed": true,
    "jupyter": {
     "outputs_hidden": true
    },
    "tags": []
   },
   "outputs": [
    {
     "data": {
      "text/html": [
       "<div>\n",
       "<style scoped>\n",
       "    .dataframe tbody tr th:only-of-type {\n",
       "        vertical-align: middle;\n",
       "    }\n",
       "\n",
       "    .dataframe tbody tr th {\n",
       "        vertical-align: top;\n",
       "    }\n",
       "\n",
       "    .dataframe thead th {\n",
       "        text-align: right;\n",
       "    }\n",
       "</style>\n",
       "<table border=\"1\" class=\"dataframe\">\n",
       "  <thead>\n",
       "    <tr style=\"text-align: right;\">\n",
       "      <th></th>\n",
       "      <th>0</th>\n",
       "    </tr>\n",
       "  </thead>\n",
       "  <tbody>\n",
       "    <tr>\n",
       "      <th>0</th>\n",
       "      <td>'국사'만으로는 부족하다. '동북아사'여야 한다</td>\n",
       "    </tr>\n",
       "    <tr>\n",
       "      <th>1</th>\n",
       "      <td>젊어서 위태로운 예술가를 향한 등대</td>\n",
       "    </tr>\n",
       "    <tr>\n",
       "      <th>2</th>\n",
       "      <td>그래서 내가 불안했던 거야</td>\n",
       "    </tr>\n",
       "    <tr>\n",
       "      <th>3</th>\n",
       "      <td>완벽한 아이 팔아요</td>\n",
       "    </tr>\n",
       "    <tr>\n",
       "      <th>4</th>\n",
       "      <td>일상의 모험 - 서동욱</td>\n",
       "    </tr>\n",
       "    <tr>\n",
       "      <th>5</th>\n",
       "      <td>Egon Schiele : the complete wo</td>\n",
       "    </tr>\n",
       "    <tr>\n",
       "      <th>6</th>\n",
       "      <td>노동자의 시간은 저절로 흐르지 않는다</td>\n",
       "    </tr>\n",
       "    <tr>\n",
       "      <th>7</th>\n",
       "      <td>방랑기 / 하야시 후미코 / 1930</td>\n",
       "    </tr>\n",
       "    <tr>\n",
       "      <th>8</th>\n",
       "      <td>나카오카 겐메이에게 배우는 일</td>\n",
       "    </tr>\n",
       "    <tr>\n",
       "      <th>9</th>\n",
       "      <td>퇴사하고 잘 놀고 잘 살고 싶다</td>\n",
       "    </tr>\n",
       "    <tr>\n",
       "      <th>10</th>\n",
       "      <td>쾌락 과잉 시대에서 균형 찾기</td>\n",
       "    </tr>\n",
       "    <tr>\n",
       "      <th>11</th>\n",
       "      <td>평온할 줄만 알았던 그녀의 모험</td>\n",
       "    </tr>\n",
       "    <tr>\n",
       "      <th>12</th>\n",
       "      <td>그래도 사랑했고 그래서 버텼던 시절</td>\n",
       "    </tr>\n",
       "    <tr>\n",
       "      <th>13</th>\n",
       "      <td>물건을 버리며 얻은 변화와 행복</td>\n",
       "    </tr>\n",
       "    <tr>\n",
       "      <th>14</th>\n",
       "      <td>당신을 위해서라면 죽어도 좋아요</td>\n",
       "    </tr>\n",
       "    <tr>\n",
       "      <th>15</th>\n",
       "      <td>선량하지 않은 '선량한 사람'</td>\n",
       "    </tr>\n",
       "    <tr>\n",
       "      <th>16</th>\n",
       "      <td>포장도 변명도 과장도 없는 일상의 장면들</td>\n",
       "    </tr>\n",
       "    <tr>\n",
       "      <th>17</th>\n",
       "      <td>&lt;사라진 개발자들&gt;을 읽고</td>\n",
       "    </tr>\n",
       "    <tr>\n",
       "      <th>18</th>\n",
       "      <td>당장 오늘 하루를 잘 보내는 방법</td>\n",
       "    </tr>\n",
       "    <tr>\n",
       "      <th>19</th>\n",
       "      <td>가시가 허용되지 않는 고슴도치 이야기</td>\n",
       "    </tr>\n",
       "    <tr>\n",
       "      <th>20</th>\n",
       "      <td>'국사'만으로는 부족하다. '동북아사'여야 한다</td>\n",
       "    </tr>\n",
       "    <tr>\n",
       "      <th>21</th>\n",
       "      <td>젊어서 위태로운 예술가를 향한 등대</td>\n",
       "    </tr>\n",
       "    <tr>\n",
       "      <th>22</th>\n",
       "      <td>그래서 내가 불안했던 거야</td>\n",
       "    </tr>\n",
       "    <tr>\n",
       "      <th>23</th>\n",
       "      <td>완벽한 아이 팔아요</td>\n",
       "    </tr>\n",
       "    <tr>\n",
       "      <th>24</th>\n",
       "      <td>일상의 모험 - 서동욱</td>\n",
       "    </tr>\n",
       "    <tr>\n",
       "      <th>25</th>\n",
       "      <td>Egon Schiele : the complete wo</td>\n",
       "    </tr>\n",
       "    <tr>\n",
       "      <th>26</th>\n",
       "      <td>노동자의 시간은 저절로 흐르지 않는다</td>\n",
       "    </tr>\n",
       "    <tr>\n",
       "      <th>27</th>\n",
       "      <td>방랑기 / 하야시 후미코 / 1930</td>\n",
       "    </tr>\n",
       "    <tr>\n",
       "      <th>28</th>\n",
       "      <td>나카오카 겐메이에게 배우는 일</td>\n",
       "    </tr>\n",
       "    <tr>\n",
       "      <th>29</th>\n",
       "      <td>퇴사하고 잘 놀고 잘 살고 싶다</td>\n",
       "    </tr>\n",
       "    <tr>\n",
       "      <th>30</th>\n",
       "      <td>쾌락 과잉 시대에서 균형 찾기</td>\n",
       "    </tr>\n",
       "    <tr>\n",
       "      <th>31</th>\n",
       "      <td>평온할 줄만 알았던 그녀의 모험</td>\n",
       "    </tr>\n",
       "    <tr>\n",
       "      <th>32</th>\n",
       "      <td>그래도 사랑했고 그래서 버텼던 시절</td>\n",
       "    </tr>\n",
       "    <tr>\n",
       "      <th>33</th>\n",
       "      <td>물건을 버리며 얻은 변화와 행복</td>\n",
       "    </tr>\n",
       "    <tr>\n",
       "      <th>34</th>\n",
       "      <td>당신을 위해서라면 죽어도 좋아요</td>\n",
       "    </tr>\n",
       "    <tr>\n",
       "      <th>35</th>\n",
       "      <td>선량하지 않은 '선량한 사람'</td>\n",
       "    </tr>\n",
       "    <tr>\n",
       "      <th>36</th>\n",
       "      <td>포장도 변명도 과장도 없는 일상의 장면들</td>\n",
       "    </tr>\n",
       "    <tr>\n",
       "      <th>37</th>\n",
       "      <td>&lt;사라진 개발자들&gt;을 읽고</td>\n",
       "    </tr>\n",
       "    <tr>\n",
       "      <th>38</th>\n",
       "      <td>당장 오늘 하루를 잘 보내는 방법</td>\n",
       "    </tr>\n",
       "    <tr>\n",
       "      <th>39</th>\n",
       "      <td>가시가 허용되지 않는 고슴도치 이야기</td>\n",
       "    </tr>\n",
       "  </tbody>\n",
       "</table>\n",
       "</div>"
      ],
      "text/plain": [
       "                                 0\n",
       "0       '국사'만으로는 부족하다. '동북아사'여야 한다\n",
       "1              젊어서 위태로운 예술가를 향한 등대\n",
       "2                   그래서 내가 불안했던 거야\n",
       "3                       완벽한 아이 팔아요\n",
       "4                     일상의 모험 - 서동욱\n",
       "5   Egon Schiele : the complete wo\n",
       "6             노동자의 시간은 저절로 흐르지 않는다\n",
       "7             방랑기 / 하야시 후미코 / 1930\n",
       "8                 나카오카 겐메이에게 배우는 일\n",
       "9                퇴사하고 잘 놀고 잘 살고 싶다\n",
       "10                쾌락 과잉 시대에서 균형 찾기\n",
       "11               평온할 줄만 알았던 그녀의 모험\n",
       "12             그래도 사랑했고 그래서 버텼던 시절\n",
       "13               물건을 버리며 얻은 변화와 행복\n",
       "14               당신을 위해서라면 죽어도 좋아요\n",
       "15                선량하지 않은 '선량한 사람'\n",
       "16          포장도 변명도 과장도 없는 일상의 장면들\n",
       "17                  <사라진 개발자들>을 읽고\n",
       "18              당장 오늘 하루를 잘 보내는 방법\n",
       "19            가시가 허용되지 않는 고슴도치 이야기\n",
       "20      '국사'만으로는 부족하다. '동북아사'여야 한다\n",
       "21             젊어서 위태로운 예술가를 향한 등대\n",
       "22                  그래서 내가 불안했던 거야\n",
       "23                      완벽한 아이 팔아요\n",
       "24                    일상의 모험 - 서동욱\n",
       "25  Egon Schiele : the complete wo\n",
       "26            노동자의 시간은 저절로 흐르지 않는다\n",
       "27            방랑기 / 하야시 후미코 / 1930\n",
       "28                나카오카 겐메이에게 배우는 일\n",
       "29               퇴사하고 잘 놀고 잘 살고 싶다\n",
       "30                쾌락 과잉 시대에서 균형 찾기\n",
       "31               평온할 줄만 알았던 그녀의 모험\n",
       "32             그래도 사랑했고 그래서 버텼던 시절\n",
       "33               물건을 버리며 얻은 변화와 행복\n",
       "34               당신을 위해서라면 죽어도 좋아요\n",
       "35                선량하지 않은 '선량한 사람'\n",
       "36          포장도 변명도 과장도 없는 일상의 장면들\n",
       "37                  <사라진 개발자들>을 읽고\n",
       "38              당장 오늘 하루를 잘 보내는 방법\n",
       "39            가시가 허용되지 않는 고슴도치 이야기"
      ]
     },
     "execution_count": 72,
     "metadata": {},
     "output_type": "execute_result"
    }
   ],
   "source": [
    "books_title"
   ]
  },
  {
   "cell_type": "code",
   "execution_count": 73,
   "id": "434ef296-79bf-436b-a766-d1ba7db1a17e",
   "metadata": {
    "tags": []
   },
   "outputs": [],
   "source": [
    "books_title.to_csv('./books_title.csv')"
   ]
  },
  {
   "cell_type": "code",
   "execution_count": 41,
   "id": "d1dcf774-bddd-419c-8541-aeb5b3f5020a",
   "metadata": {
    "tags": []
   },
   "outputs": [],
   "source": [
    "# chrome browser close\n",
    "browser.quit()"
   ]
  },
  {
   "cell_type": "code",
   "execution_count": null,
   "id": "de692151-660e-4afb-931d-569bc57f37d3",
   "metadata": {},
   "outputs": [],
   "source": []
  }
 ],
 "metadata": {
  "kernelspec": {
   "display_name": "Python 3 (ipykernel)",
   "language": "python",
   "name": "python3"
  },
  "language_info": {
   "codemirror_mode": {
    "name": "ipython",
    "version": 3
   },
   "file_extension": ".py",
   "mimetype": "text/x-python",
   "name": "python",
   "nbconvert_exporter": "python",
   "pygments_lexer": "ipython3",
   "version": "3.11.3"
  }
 },
 "nbformat": 4,
 "nbformat_minor": 5
}
