{
 "cells": [
  {
   "cell_type": "code",
   "execution_count": 2,
   "id": "6a068180-aed7-4226-8dfa-16707f18d9f3",
   "metadata": {
    "tags": []
   },
   "outputs": [],
   "source": [
    "from selenium import webdriver"
   ]
  },
  {
   "cell_type": "code",
   "execution_count": 3,
   "id": "b5ba2bee-0b7c-4b54-ab08-a2c5d58f10e0",
   "metadata": {
    "tags": []
   },
   "outputs": [],
   "source": [
    "# chrome 브라우저 open\n",
    "browser = webdriver.Chrome(executable_path='../../../../chromedriver.exe')\n",
    "#path = 주피터 노트북은 내가 기준, vs 코드는 루트가 기준"
   ]
  },
  {
   "cell_type": "markdown",
   "id": "7284f35e-d57c-4ce2-90dd-92e5321196aa",
   "metadata": {},
   "source": [
    "### login\n",
    "- user id input tag : #user_email\n",
    "- password input tag : #user_password\n",
    "- click tag : fieldset > button"
   ]
  },
  {
   "cell_type": "code",
   "execution_count": 4,
   "id": "ce937953-3bba-44a4-b5c1-2633d395b6de",
   "metadata": {
    "tags": []
   },
   "outputs": [],
   "source": [
    "# open 된 browser에 URL 주소 입력\n",
    "browser.implicitly_wait(10)\n",
    "browser.get('https://www.jobplanet.co.kr/users/sign_in?_nav=gb')\n",
    "browser.find_element_by_css_selector('#user_email').send_keys('s****')\n",
    "browser.find_element_by_css_selector('#user_password').send_keys('*****')\n",
    "browser.find_element_by_css_selector('fieldset > button').click()"
   ]
  },
  {
   "cell_type": "markdown",
   "id": "cd0004f7-46f1-4871-a105-cbf6f4ce3f39",
   "metadata": {},
   "source": [
    "### 검색어로 검색(분석가)"
   ]
  },
  {
   "cell_type": "code",
   "execution_count": 6,
   "id": "ab8af87c-ba95-4767-8819-b1e44d047b44",
   "metadata": {
    "tags": []
   },
   "outputs": [],
   "source": [
    "search_word = 'https://www.jobplanet.co.kr/job/search?_rs_act=index&_rs_con=search&_rs_element=see_more_job_postings_top&q=%EB%B6%84%EC%84%9D%EA%B0%80'\n",
    "browser.get(search_word)"
   ]
  },
  {
   "cell_type": "code",
   "execution_count": 4,
   "id": "d1dcf774-bddd-419c-8541-aeb5b3f5020a",
   "metadata": {
    "tags": []
   },
   "outputs": [],
   "source": [
    "# chrome browser close\n",
    "browser.quit()"
   ]
  }
 ],
 "metadata": {
  "kernelspec": {
   "display_name": "Python 3 (ipykernel)",
   "language": "python",
   "name": "python3"
  },
  "language_info": {
   "codemirror_mode": {
    "name": "ipython",
    "version": 3
   },
   "file_extension": ".py",
   "mimetype": "text/x-python",
   "name": "python",
   "nbconvert_exporter": "python",
   "pygments_lexer": "ipython3",
   "version": "3.11.3"
  }
 },
 "nbformat": 4,
 "nbformat_minor": 5
}
