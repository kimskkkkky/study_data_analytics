{
 "cells": [
  {
   "cell_type": "markdown",
   "id": "c73e0501-2c0f-44d7-b6ce-2184877457d1",
   "metadata": {},
   "source": [
    "## Github signin"
   ]
  },
  {
   "cell_type": "code",
   "execution_count": 20,
   "id": "994fff2e-340f-4a43-b082-df192c3fabd1",
   "metadata": {
    "tags": []
   },
   "outputs": [],
   "source": [
    "from selenium import webdriver\n",
    "browser = webdriver.Chrome(executable_path='../../../../chromedriver.exe')\n",
    "browser.get('https://www.naver.com/')"
   ]
  },
  {
   "attachments": {
    "89dcabb9-3a34-484d-9042-9a5fdc5ccc2f.png": {
     "image/png": "[encoded data removed]"
    }
   },
   "cell_type": "markdown",
   "id": "9825af25-23e7-4169-a082-77e68a21b96f",
   "metadata": {},
   "source": [
    "### Login 화면 링크 tag\n",
    "- .MyView-module__link_login___HpHMW\n",
    "\n",
    "https://www.selenium.dev/selenium/docs/api/py/webdriver_remote/selenium.webdriver.remote.webelement.html\n",
    "![image.png](attachment:89dcabb9-3a34-484d-9042-9a5fdc5ccc2f.png)"
   ]
  },
  {
   "cell_type": "code",
   "execution_count": 13,
   "id": "b89dad56-8c0e-4dfd-89a2-2e25ee6c267d",
   "metadata": {
    "tags": []
   },
   "outputs": [
    {
     "data": {
      "text/plain": [
       "selenium.webdriver.chrome.webdriver.WebDriver"
      ]
     },
     "execution_count": 13,
     "metadata": {},
     "output_type": "execute_result"
    }
   ],
   "source": [
    "type(browser)"
   ]
  },
  {
   "cell_type": "code",
   "execution_count": 21,
   "id": "05394a77-885b-41b5-b4f8-6094fda6faa6",
   "metadata": {
    "tags": []
   },
   "outputs": [],
   "source": [
    "element_path = '.MyView-module__link_login___HpHMW'\n",
    "collaspsed_menu = browser.find_element_by_css_selector(element_path)\n",
    "collaspsed_menu.click()"
   ]
  },
  {
   "cell_type": "markdown",
   "id": "b93f6653-b664-481f-a562-9b1cafd74b11",
   "metadata": {},
   "source": [
    "### Login 화면\n",
    "- user id input tag : #id\n",
    "- password input tag : #pw\n",
    "- click tag : #log\\.login\n",
    "- email tag :#account > div.MyView-module__my_menu___eF24q > div > div > ul > li:nth-child(1) > a > span.MyView-module__item_text___VTQQM"
   ]
  },
  {
   "cell_type": "code",
   "execution_count": 22,
   "id": "80a4cea2-3a44-473f-8e49-5e2907ceb6ee",
   "metadata": {
    "tags": []
   },
   "outputs": [],
   "source": [
    "element_path = '#id'\n",
    "login_field = browser.find_element_by_css_selector(element_path)\n",
    "login_field.send_keys('s******')"
   ]
  },
  {
   "cell_type": "code",
   "execution_count": 23,
   "id": "685b340e-99c7-483f-9bd3-9d625ce36647",
   "metadata": {
    "tags": []
   },
   "outputs": [],
   "source": [
    "element_path = '#pw'\n",
    "password_field = browser.find_element_by_css_selector(element_path)\n",
    "password_field.send_keys('**********')"
   ]
  },
  {
   "cell_type": "code",
   "execution_count": 24,
   "id": "b8abc575-3dba-4961-a96d-89d1c860923f",
   "metadata": {
    "tags": []
   },
   "outputs": [],
   "source": [
    "element_path = '#log\\.login'\n",
    "sign_button = browser.find_element_by_css_selector(element_path)\n",
    "sign_button.click()"
   ]
  },
  {
   "cell_type": "code",
   "execution_count": 26,
   "id": "fa935418-09da-4538-b1bb-487f96a5204b",
   "metadata": {},
   "outputs": [],
   "source": [
    "element_path = 'a > span.service_icon.type_mail'\n",
    "email_button = browser.find_element_by_css_selector(element_path)\n",
    "email_button.click()"
   ]
  },
  {
   "cell_type": "code",
   "execution_count": 19,
   "id": "f79511d2-0c7d-478d-aab5-37359299db13",
   "metadata": {
    "tags": []
   },
   "outputs": [],
   "source": [
    "browser.quit()"
   ]
  }
 ],
 "metadata": {
  "kernelspec": {
   "display_name": "Python 3 (ipykernel)",
   "language": "python",
   "name": "python3"
  },
  "language_info": {
   "codemirror_mode": {
    "name": "ipython",
    "version": 3
   },
   "file_extension": ".py",
   "mimetype": "text/x-python",
   "name": "python",
   "nbconvert_exporter": "python",
   "pygments_lexer": "ipython3",
   "version": "3.11.3"
  }
 },
 "nbformat": 4,
 "nbformat_minor": 5
}
