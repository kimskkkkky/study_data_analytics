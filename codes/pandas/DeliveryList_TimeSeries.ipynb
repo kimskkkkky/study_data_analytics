{
 "cells": [
  {
   "cell_type": "code",
   "execution_count": 1,
   "id": "8b7c9b02-1aa0-430c-bdce-f85379eb530a",
   "metadata": {
    "tags": []
   },
   "outputs": [],
   "source": [
    "import matplotlib.pyplot as plt\n",
    "import matplotlib as mpl\n",
    "mpl.rc('font',family='Malgun Gothic')\n",
    "import seaborn as sns\n",
    "import pandas as pd\n",
    "import scipy.stats as stats"
   ]
  },
  {
   "cell_type": "markdown",
   "id": "3e8042c7-abc6-446c-9b2f-dee8a729b131",
   "metadata": {
    "tags": []
   },
   "source": [
    "### Delivery List data set 1"
   ]
  },
  {
   "cell_type": "code",
   "execution_count": 2,
   "id": "7e09af92-2aa2-4d50-b1e5-be44bd93ce1e",
   "metadata": {
    "tags": []
   },
   "outputs": [
    {
     "data": {
      "text/html": [
       "<div>\n",
       "<style scoped>\n",
       "    .dataframe tbody tr th:only-of-type {\n",
       "        vertical-align: middle;\n",
       "    }\n",
       "\n",
       "    .dataframe tbody tr th {\n",
       "        vertical-align: top;\n",
       "    }\n",
       "\n",
       "    .dataframe thead th {\n",
       "        text-align: right;\n",
       "    }\n",
       "</style>\n",
       "<table border=\"1\" class=\"dataframe\">\n",
       "  <thead>\n",
       "    <tr style=\"text-align: right;\">\n",
       "      <th></th>\n",
       "      <th>날짜</th>\n",
       "      <th>상품명</th>\n",
       "      <th>바코드</th>\n",
       "      <th>발주가능상태</th>\n",
       "      <th>입고수량</th>\n",
       "      <th>카테고리</th>\n",
       "      <th>출고수량</th>\n",
       "    </tr>\n",
       "  </thead>\n",
       "  <tbody>\n",
       "    <tr>\n",
       "      <th>0</th>\n",
       "      <td>2019-05-16</td>\n",
       "      <td>V2_0</td>\n",
       "      <td>8.801047e+12</td>\n",
       "      <td>발주가능</td>\n",
       "      <td>384</td>\n",
       "      <td>세탁세제</td>\n",
       "      <td>72</td>\n",
       "    </tr>\n",
       "    <tr>\n",
       "      <th>1</th>\n",
       "      <td>2019-05-16</td>\n",
       "      <td>V2_3</td>\n",
       "      <td>8.801047e+12</td>\n",
       "      <td>발주가능</td>\n",
       "      <td>207</td>\n",
       "      <td>세탁세제</td>\n",
       "      <td>5</td>\n",
       "    </tr>\n",
       "    <tr>\n",
       "      <th>2</th>\n",
       "      <td>2019-05-16</td>\n",
       "      <td>V2_7</td>\n",
       "      <td>8.801047e+12</td>\n",
       "      <td>발주가능</td>\n",
       "      <td>520</td>\n",
       "      <td>헤어케어</td>\n",
       "      <td>19</td>\n",
       "    </tr>\n",
       "  </tbody>\n",
       "</table>\n",
       "</div>"
      ],
      "text/plain": [
       "           날짜   상품명           바코드 발주가능상태  입고수량  카테고리  출고수량\n",
       "0  2019-05-16  V2_0  8.801047e+12   발주가능   384  세탁세제    72\n",
       "1  2019-05-16  V2_3  8.801047e+12   발주가능   207  세탁세제     5\n",
       "2  2019-05-16  V2_7  8.801047e+12   발주가능   520  헤어케어    19"
      ]
     },
     "execution_count": 2,
     "metadata": {},
     "output_type": "execute_result"
    }
   ],
   "source": [
    "df_DL=pd.read_csv('../../datasets/DeliveryList.csv')\n",
    "df_DL[:3]"
   ]
  },
  {
   "cell_type": "code",
   "execution_count": 3,
   "id": "70c7b80a-5e8d-4ff6-b558-a54cb3da5381",
   "metadata": {
    "tags": []
   },
   "outputs": [
    {
     "name": "stdout",
     "output_type": "stream",
     "text": [
      "<class 'pandas.core.frame.DataFrame'>\n",
      "RangeIndex: 15000 entries, 0 to 14999\n",
      "Data columns (total 7 columns):\n",
      " #   Column  Non-Null Count  Dtype  \n",
      "---  ------  --------------  -----  \n",
      " 0   날짜      15000 non-null  object \n",
      " 1   상품명     15000 non-null  object \n",
      " 2   바코드     14992 non-null  float64\n",
      " 3   발주가능상태  15000 non-null  object \n",
      " 4   입고수량    15000 non-null  int64  \n",
      " 5   카테고리    15000 non-null  object \n",
      " 6   출고수량    15000 non-null  int64  \n",
      "dtypes: float64(1), int64(2), object(4)\n",
      "memory usage: 820.4+ KB\n"
     ]
    }
   ],
   "source": [
    "## dtype 및 null 값 확인\n",
    "df_DL.info() ## 날짜 data 이용하기"
   ]
  },
  {
   "cell_type": "code",
   "execution_count": 4,
   "id": "70b17925-af2f-469e-a213-5df33a19df84",
   "metadata": {
    "tags": []
   },
   "outputs": [
    {
     "data": {
      "text/html": [
       "<div>\n",
       "<style scoped>\n",
       "    .dataframe tbody tr th:only-of-type {\n",
       "        vertical-align: middle;\n",
       "    }\n",
       "\n",
       "    .dataframe tbody tr th {\n",
       "        vertical-align: top;\n",
       "    }\n",
       "\n",
       "    .dataframe thead th {\n",
       "        text-align: right;\n",
       "    }\n",
       "</style>\n",
       "<table border=\"1\" class=\"dataframe\">\n",
       "  <thead>\n",
       "    <tr style=\"text-align: right;\">\n",
       "      <th></th>\n",
       "      <th>날짜</th>\n",
       "      <th>상품명</th>\n",
       "      <th>발주가능상태</th>\n",
       "      <th>카테고리</th>\n",
       "    </tr>\n",
       "  </thead>\n",
       "  <tbody>\n",
       "    <tr>\n",
       "      <th>count</th>\n",
       "      <td>15000</td>\n",
       "      <td>15000</td>\n",
       "      <td>15000</td>\n",
       "      <td>15000</td>\n",
       "    </tr>\n",
       "    <tr>\n",
       "      <th>unique</th>\n",
       "      <td>84</td>\n",
       "      <td>528</td>\n",
       "      <td>3</td>\n",
       "      <td>8</td>\n",
       "    </tr>\n",
       "    <tr>\n",
       "      <th>top</th>\n",
       "      <td>2019-05-26</td>\n",
       "      <td>V2_114</td>\n",
       "      <td>발주가능</td>\n",
       "      <td>세탁세제</td>\n",
       "    </tr>\n",
       "    <tr>\n",
       "      <th>freq</th>\n",
       "      <td>226</td>\n",
       "      <td>47</td>\n",
       "      <td>14700</td>\n",
       "      <td>4265</td>\n",
       "    </tr>\n",
       "  </tbody>\n",
       "</table>\n",
       "</div>"
      ],
      "text/plain": [
       "                날짜     상품명 발주가능상태   카테고리\n",
       "count        15000   15000  15000  15000\n",
       "unique          84     528      3      8\n",
       "top     2019-05-26  V2_114   발주가능   세탁세제\n",
       "freq           226      47  14700   4265"
      ]
     },
     "execution_count": 4,
     "metadata": {},
     "output_type": "execute_result"
    }
   ],
   "source": [
    "df_DL.describe(include=object) ## 2019-05-26 이런 형식은 주단위, 분기 단위를 사용하기 어려움."
   ]
  },
  {
   "cell_type": "code",
   "execution_count": 5,
   "id": "bf322cf9-12da-4bc8-a656-c9c631f966a9",
   "metadata": {
    "tags": []
   },
   "outputs": [],
   "source": [
    "df_DL['날짜_datetime']=pd.to_datetime(df_DL['날짜'])"
   ]
  },
  {
   "cell_type": "code",
   "execution_count": 6,
   "id": "afa18b7a-419b-468f-ae60-de94d1e51e97",
   "metadata": {
    "tags": []
   },
   "outputs": [
    {
     "ename": "NameError",
     "evalue": "name 'datatime' is not defined",
     "output_type": "error",
     "traceback": [
      "\u001b[1;31m---------------------------------------------------------------------------\u001b[0m",
      "\u001b[1;31mNameError\u001b[0m                                 Traceback (most recent call last)",
      "Cell \u001b[1;32mIn[6], line 1\u001b[0m\n\u001b[1;32m----> 1\u001b[0m df_DL\u001b[38;5;241m.\u001b[39mdescribe(include\u001b[38;5;241m=\u001b[39mdatatime)\n",
      "\u001b[1;31mNameError\u001b[0m: name 'datatime' is not defined"
     ]
    }
   ],
   "source": [
    "df_DL.describe(include=datatime)"
   ]
  },
  {
   "cell_type": "code",
   "execution_count": null,
   "id": "f2a26820-1ad9-415c-81c4-4bcb1419be2a",
   "metadata": {
    "tags": []
   },
   "outputs": [],
   "source": [
    "df_DL[:2]"
   ]
  },
  {
   "cell_type": "code",
   "execution_count": null,
   "id": "9b8f90ce-6705-4634-9c5c-3579e057da88",
   "metadata": {
    "tags": []
   },
   "outputs": [],
   "source": [
    "df_DL['날짜_datetime_month']=df_DL['날짜_datetime'].dt.month #붙이기 "
   ]
  },
  {
   "cell_type": "code",
   "execution_count": null,
   "id": "4e7fd787-6510-4219-9a33-0709d80f6442",
   "metadata": {
    "tags": []
   },
   "outputs": [],
   "source": [
    "pd.pivot_table(data=df_DL, index='날짜_datetime_month', values='출고수량', aggfunc=sum).plot(kind='bar')\n",
    "# 1차방법(2차 데이터 사용시) 단순히 시각화 "
   ]
  },
  {
   "cell_type": "code",
   "execution_count": null,
   "id": "0d4de2b2-88cd-4a22-a9ac-fb2f3c6b4823",
   "metadata": {
    "tags": []
   },
   "outputs": [],
   "source": [
    "sns.barplot(data=df_DL, x='날짜_datetime_month', y='출고수량', estimator=sum)"
   ]
  },
  {
   "cell_type": "code",
   "execution_count": null,
   "id": "b34b3444-f9c6-4317-aef0-dca82a10d0ce",
   "metadata": {
    "tags": []
   },
   "outputs": [],
   "source": [
    "df_DL['날짜_datetime_week'] = df_DL['날짜_datetime'].dt.isocalendar().week #몇 째주인지 말해줌"
   ]
  },
  {
   "cell_type": "code",
   "execution_count": null,
   "id": "b5500caa-c245-40a4-9885-06738a93383a",
   "metadata": {
    "tags": []
   },
   "outputs": [],
   "source": [
    "sns.lineplot(data=df_DL, x='날짜_datetime_week', y='출고수량', estimator=sum)"
   ]
  },
  {
   "cell_type": "markdown",
   "id": "4427d8ce-8036-410e-8ea9-bbbd936f2a33",
   "metadata": {
    "tags": []
   },
   "source": [
    "### Delivery List dataset 2 "
   ]
  },
  {
   "cell_type": "code",
   "execution_count": 10,
   "id": "59be914c-aea4-43ae-9d65-fb7cb249d3cf",
   "metadata": {},
   "outputs": [
    {
     "data": {
      "text/html": [
       "<div>\n",
       "<style scoped>\n",
       "    .dataframe tbody tr th:only-of-type {\n",
       "        vertical-align: middle;\n",
       "    }\n",
       "\n",
       "    .dataframe tbody tr th {\n",
       "        vertical-align: top;\n",
       "    }\n",
       "\n",
       "    .dataframe thead th {\n",
       "        text-align: right;\n",
       "    }\n",
       "</style>\n",
       "<table border=\"1\" class=\"dataframe\">\n",
       "  <thead>\n",
       "    <tr style=\"text-align: right;\">\n",
       "      <th></th>\n",
       "      <th>결제수단</th>\n",
       "      <th>배송번호</th>\n",
       "      <th>배송시작일</th>\n",
       "      <th>배송완료일</th>\n",
       "      <th>상품구매금액</th>\n",
       "      <th>상품번호</th>\n",
       "      <th>수량</th>\n",
       "      <th>주문경로</th>\n",
       "      <th>주문일</th>\n",
       "    </tr>\n",
       "  </thead>\n",
       "  <tbody>\n",
       "    <tr>\n",
       "      <th>0</th>\n",
       "      <td>무통장입금</td>\n",
       "      <td>D-20181227-0000648-00</td>\n",
       "      <td>2019-01-07 오전 8:56</td>\n",
       "      <td>2019-01-11 오전 5:32</td>\n",
       "      <td>71450</td>\n",
       "      <td>1077.0</td>\n",
       "      <td>1</td>\n",
       "      <td>PC쇼핑몰</td>\n",
       "      <td>20181227</td>\n",
       "    </tr>\n",
       "    <tr>\n",
       "      <th>1</th>\n",
       "      <td>무통장입금</td>\n",
       "      <td>D-20181229-0000119-00</td>\n",
       "      <td>2019-01-03 오전 9:30</td>\n",
       "      <td>2019-01-07 오전 5:32</td>\n",
       "      <td>141240</td>\n",
       "      <td>42.0</td>\n",
       "      <td>2</td>\n",
       "      <td>모바일웹</td>\n",
       "      <td>20181229</td>\n",
       "    </tr>\n",
       "    <tr>\n",
       "      <th>2</th>\n",
       "      <td>무통장입금</td>\n",
       "      <td>D-20181230-0000100-00</td>\n",
       "      <td>2019-01-03 오전 9:30</td>\n",
       "      <td>2019-01-07 오전 5:32</td>\n",
       "      <td>13910</td>\n",
       "      <td>1271.0</td>\n",
       "      <td>1</td>\n",
       "      <td>모바일웹</td>\n",
       "      <td>20181230</td>\n",
       "    </tr>\n",
       "  </tbody>\n",
       "</table>\n",
       "</div>"
      ],
      "text/plain": [
       "    결제수단                   배송번호               배송시작일               배송완료일  \\\n",
       "0  무통장입금  D-20181227-0000648-00  2019-01-07 오전 8:56  2019-01-11 오전 5:32   \n",
       "1  무통장입금  D-20181229-0000119-00  2019-01-03 오전 9:30  2019-01-07 오전 5:32   \n",
       "2  무통장입금  D-20181230-0000100-00  2019-01-03 오전 9:30  2019-01-07 오전 5:32   \n",
       "\n",
       "   상품구매금액    상품번호  수량   주문경로       주문일  \n",
       "0   71450  1077.0   1  PC쇼핑몰  20181227  \n",
       "1  141240    42.0   2   모바일웹  20181229  \n",
       "2   13910  1271.0   1   모바일웹  20181230  "
      ]
     },
     "execution_count": 10,
     "metadata": {},
     "output_type": "execute_result"
    }
   ],
   "source": [
    "df_DL2=pd.read_csv('../../datasets/DeliveryList2.csv')\n",
    "df_DL2[:3]"
   ]
  },
  {
   "cell_type": "code",
   "execution_count": 11,
   "id": "9d2612af-0896-4876-a17b-c4d7aa77b2ab",
   "metadata": {
    "collapsed": true,
    "jupyter": {
     "outputs_hidden": true
    },
    "tags": []
   },
   "outputs": [
    {
     "data": {
      "text/html": [
       "<div>\n",
       "<style scoped>\n",
       "    .dataframe tbody tr th:only-of-type {\n",
       "        vertical-align: middle;\n",
       "    }\n",
       "\n",
       "    .dataframe tbody tr th {\n",
       "        vertical-align: top;\n",
       "    }\n",
       "\n",
       "    .dataframe thead th {\n",
       "        text-align: right;\n",
       "    }\n",
       "</style>\n",
       "<table border=\"1\" class=\"dataframe\">\n",
       "  <thead>\n",
       "    <tr style=\"text-align: right;\">\n",
       "      <th></th>\n",
       "      <th>상품구매금액</th>\n",
       "      <th>상품번호</th>\n",
       "      <th>수량</th>\n",
       "      <th>주문일</th>\n",
       "    </tr>\n",
       "  </thead>\n",
       "  <tbody>\n",
       "    <tr>\n",
       "      <th>count</th>\n",
       "      <td>4.674900e+04</td>\n",
       "      <td>46661.000000</td>\n",
       "      <td>46749.000000</td>\n",
       "      <td>4.674900e+04</td>\n",
       "    </tr>\n",
       "    <tr>\n",
       "      <th>mean</th>\n",
       "      <td>6.936814e+04</td>\n",
       "      <td>763.193073</td>\n",
       "      <td>1.177822</td>\n",
       "      <td>2.018404e+07</td>\n",
       "    </tr>\n",
       "    <tr>\n",
       "      <th>std</th>\n",
       "      <td>6.611247e+04</td>\n",
       "      <td>456.323734</td>\n",
       "      <td>0.683334</td>\n",
       "      <td>5.192403e+03</td>\n",
       "    </tr>\n",
       "    <tr>\n",
       "      <th>min</th>\n",
       "      <td>0.000000e+00</td>\n",
       "      <td>38.000000</td>\n",
       "      <td>1.000000</td>\n",
       "      <td>2.017010e+07</td>\n",
       "    </tr>\n",
       "    <tr>\n",
       "      <th>25%</th>\n",
       "      <td>3.288000e+04</td>\n",
       "      <td>378.000000</td>\n",
       "      <td>1.000000</td>\n",
       "      <td>2.018073e+07</td>\n",
       "    </tr>\n",
       "    <tr>\n",
       "      <th>50%</th>\n",
       "      <td>6.778000e+04</td>\n",
       "      <td>928.000000</td>\n",
       "      <td>1.000000</td>\n",
       "      <td>2.018112e+07</td>\n",
       "    </tr>\n",
       "    <tr>\n",
       "      <th>75%</th>\n",
       "      <td>9.213000e+04</td>\n",
       "      <td>1209.000000</td>\n",
       "      <td>1.000000</td>\n",
       "      <td>2.019022e+07</td>\n",
       "    </tr>\n",
       "    <tr>\n",
       "      <th>max</th>\n",
       "      <td>4.963400e+06</td>\n",
       "      <td>1681.000000</td>\n",
       "      <td>50.000000</td>\n",
       "      <td>2.019062e+07</td>\n",
       "    </tr>\n",
       "  </tbody>\n",
       "</table>\n",
       "</div>"
      ],
      "text/plain": [
       "             상품구매금액          상품번호            수량           주문일\n",
       "count  4.674900e+04  46661.000000  46749.000000  4.674900e+04\n",
       "mean   6.936814e+04    763.193073      1.177822  2.018404e+07\n",
       "std    6.611247e+04    456.323734      0.683334  5.192403e+03\n",
       "min    0.000000e+00     38.000000      1.000000  2.017010e+07\n",
       "25%    3.288000e+04    378.000000      1.000000  2.018073e+07\n",
       "50%    6.778000e+04    928.000000      1.000000  2.018112e+07\n",
       "75%    9.213000e+04   1209.000000      1.000000  2.019022e+07\n",
       "max    4.963400e+06   1681.000000     50.000000  2.019062e+07"
      ]
     },
     "execution_count": 11,
     "metadata": {},
     "output_type": "execute_result"
    }
   ],
   "source": [
    "df_DL2.describe(datetime_is_numeric=True)"
   ]
  },
  {
   "cell_type": "markdown",
   "id": "2156c3a4-c3f1-4589-a22e-d7fc5feedb2a",
   "metadata": {
    "tags": []
   },
   "source": [
    "#### int형은 string and then datetime 순서로 변환"
   ]
  },
  {
   "cell_type": "code",
   "execution_count": 13,
   "id": "99646c15-33ac-4bc3-922c-132582070cdb",
   "metadata": {
    "tags": []
   },
   "outputs": [
    {
     "name": "stdout",
     "output_type": "stream",
     "text": [
      "<class 'pandas.core.series.Series'>\n",
      "RangeIndex: 46749 entries, 0 to 46748\n",
      "Series name: 주문일\n",
      "Non-Null Count  Dtype\n",
      "--------------  -----\n",
      "46749 non-null  int64\n",
      "dtypes: int64(1)\n",
      "memory usage: 365.4 KB\n"
     ]
    }
   ],
   "source": [
    "# 변수의 갯수가 똑같아야 마이너스 가능 \n",
    "df_DL2['주문일'].info()"
   ]
  },
  {
   "cell_type": "code",
   "execution_count": 14,
   "id": "deb5b47b-4317-43c0-9994-66db429978cf",
   "metadata": {
    "tags": []
   },
   "outputs": [
    {
     "data": {
      "text/plain": [
       "0       1970-01-01 00:00:00.020181227\n",
       "1       1970-01-01 00:00:00.020181229\n",
       "2       1970-01-01 00:00:00.020181230\n",
       "3       1970-01-01 00:00:00.020181231\n",
       "4       1970-01-01 00:00:00.020181231\n",
       "                     ...             \n",
       "46744   1970-01-01 00:00:00.020171229\n",
       "46745   1970-01-01 00:00:00.020171229\n",
       "46746   1970-01-01 00:00:00.020171230\n",
       "46747   1970-01-01 00:00:00.020171231\n",
       "46748   1970-01-01 00:00:00.020171231\n",
       "Name: 주문일, Length: 46749, dtype: datetime64[ns]"
      ]
     },
     "execution_count": 14,
     "metadata": {},
     "output_type": "execute_result"
    }
   ],
   "source": [
    "pd.to_datetime(df_DL2['주문일'])"
   ]
  },
  {
   "cell_type": "markdown",
   "id": "fa90a45d-b8bf-42f9-81a4-32939224563a",
   "metadata": {},
   "source": [
    "### 특정 기호가 들어간 string인 경우 apply()적용후 datetime 변환"
   ]
  },
  {
   "cell_type": "code",
   "execution_count": 19,
   "id": "b4792077-c3f9-427c-b9d9-771c21764098",
   "metadata": {
    "tags": []
   },
   "outputs": [],
   "source": [
    "# str('2019-01-11 오전 5:32')[:10] = (datetime_str)\n",
    "def slicing_YMD(datetime_str):\n",
    "    return datetime_str[:10]"
   ]
  },
  {
   "cell_type": "code",
   "execution_count": 21,
   "id": "1f656bfe-6566-48a2-a574-31e8e8f4ad54",
   "metadata": {
    "tags": []
   },
   "outputs": [],
   "source": [
    "df_DL2['배송시작일_datetime']=pd.to_datetime(df_DL2['배송시작일'].apply(slicing_YMD))\n",
    "df_DL2['배송완료일_datetime']=pd.to_datetime(df_DL2['배송완료일'].apply(slicing_YMD))"
   ]
  },
  {
   "cell_type": "code",
   "execution_count": 25,
   "id": "75e82f68-5de6-4d24-bc5f-f10c88cb2a63",
   "metadata": {
    "tags": []
   },
   "outputs": [
    {
     "name": "stdout",
     "output_type": "stream",
     "text": [
      "<class 'pandas.core.frame.DataFrame'>\n",
      "RangeIndex: 46749 entries, 0 to 46748\n",
      "Data columns (total 2 columns):\n",
      " #   Column          Non-Null Count  Dtype         \n",
      "---  ------          --------------  -----         \n",
      " 0   배송시작일_datetime  46749 non-null  datetime64[ns]\n",
      " 1   배송완료일_datetime  46749 non-null  datetime64[ns]\n",
      "dtypes: datetime64[ns](2)\n",
      "memory usage: 730.6 KB\n"
     ]
    }
   ],
   "source": [
    "df_DL2[['배송시작일_datetime','배송완료일_datetime']].info()"
   ]
  },
  {
   "cell_type": "code",
   "execution_count": 28,
   "id": "b03c0d81-7f5e-4310-a1ad-0dd276604ae5",
   "metadata": {
    "tags": []
   },
   "outputs": [],
   "source": [
    "df_DL2['배송_duration'] = df_DL2['배송완료일_datetime']-df_DL2['배송시작일_datetime']"
   ]
  },
  {
   "cell_type": "code",
   "execution_count": 30,
   "id": "8a957447-fa6e-472c-bd3a-aafe40e8452a",
   "metadata": {
    "tags": []
   },
   "outputs": [
    {
     "data": {
      "text/plain": [
       "count                        46749\n",
       "mean     4 days 04:38:57.008278251\n",
       "std      1 days 04:56:12.144368428\n",
       "min                0 days 00:00:00\n",
       "25%                4 days 00:00:00\n",
       "50%                4 days 00:00:00\n",
       "75%                4 days 00:00:00\n",
       "max               47 days 00:00:00\n",
       "Name: 배송_duration, dtype: object"
      ]
     },
     "execution_count": 30,
     "metadata": {},
     "output_type": "execute_result"
    }
   ],
   "source": [
    "df_DL2['배송_duration'].describe()"
   ]
  },
  {
   "cell_type": "code",
   "execution_count": null,
   "id": "4397bbed-7a89-4502-a9f7-7f5cd2d58538",
   "metadata": {},
   "outputs": [],
   "source": []
  }
 ],
 "metadata": {
  "kernelspec": {
   "display_name": "Python 3 (ipykernel)",
   "language": "python",
   "name": "python3"
  },
  "language_info": {
   "codemirror_mode": {
    "name": "ipython",
    "version": 3
   },
   "file_extension": ".py",
   "mimetype": "text/x-python",
   "name": "python",
   "nbconvert_exporter": "python",
   "pygments_lexer": "ipython3",
   "version": "3.11.3"
  }
 },
 "nbformat": 4,
 "nbformat_minor": 5
}
