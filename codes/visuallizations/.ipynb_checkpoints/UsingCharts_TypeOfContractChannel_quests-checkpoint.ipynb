{
 "cells": [
  {
   "cell_type": "code",
   "execution_count": 1,
   "id": "00f05411-ca97-4f26-9421-ca271efd29a2",
   "metadata": {
    "tags": []
   },
   "outputs": [],
   "source": [
    "import matplotlib.pyplot as plt\n",
    "import matplotlib as mpl\n",
    "mpl.rc('font',family='Malgun Gothic')\n",
    "import seaborn as sns\n",
    "import pandas as pd"
   ]
  },
  {
   "cell_type": "code",
   "execution_count": 2,
   "id": "087fcfac-c372-4d35-a8b6-2c0fb33b5832",
   "metadata": {
    "tags": []
   },
   "outputs": [
    {
     "data": {
      "text/html": [
       "<div>\n",
       "<style scoped>\n",
       "    .dataframe tbody tr th:only-of-type {\n",
       "        vertical-align: middle;\n",
       "    }\n",
       "\n",
       "    .dataframe tbody tr th {\n",
       "        vertical-align: top;\n",
       "    }\n",
       "\n",
       "    .dataframe thead th {\n",
       "        text-align: right;\n",
       "    }\n",
       "</style>\n",
       "<table border=\"1\" class=\"dataframe\">\n",
       "  <thead>\n",
       "    <tr style=\"text-align: right;\">\n",
       "      <th></th>\n",
       "      <th>id</th>\n",
       "      <th>type_of_contract</th>\n",
       "      <th>type_of_contract2</th>\n",
       "      <th>channel</th>\n",
       "      <th>datetime</th>\n",
       "      <th>Term</th>\n",
       "      <th>payment_type</th>\n",
       "      <th>product</th>\n",
       "      <th>amount</th>\n",
       "      <th>state</th>\n",
       "      <th>overdue_count</th>\n",
       "      <th>overdue</th>\n",
       "      <th>credit rating</th>\n",
       "      <th>bank</th>\n",
       "      <th>cancellation</th>\n",
       "      <th>age</th>\n",
       "      <th>Mileage</th>\n",
       "    </tr>\n",
       "  </thead>\n",
       "  <tbody>\n",
       "    <tr>\n",
       "      <th>0</th>\n",
       "      <td>66758234</td>\n",
       "      <td>렌탈</td>\n",
       "      <td>Normal</td>\n",
       "      <td>서비스 방문</td>\n",
       "      <td>2019-10-20</td>\n",
       "      <td>60</td>\n",
       "      <td>CMS</td>\n",
       "      <td>K1</td>\n",
       "      <td>96900</td>\n",
       "      <td>계약확정</td>\n",
       "      <td>0</td>\n",
       "      <td>없음</td>\n",
       "      <td>9.0</td>\n",
       "      <td>새마을금고</td>\n",
       "      <td>정상</td>\n",
       "      <td>43.0</td>\n",
       "      <td>1862.0</td>\n",
       "    </tr>\n",
       "    <tr>\n",
       "      <th>1</th>\n",
       "      <td>66755948</td>\n",
       "      <td>렌탈</td>\n",
       "      <td>Extension_Rental</td>\n",
       "      <td>서비스 방문</td>\n",
       "      <td>2019-10-20</td>\n",
       "      <td>60</td>\n",
       "      <td>카드이체</td>\n",
       "      <td>K1</td>\n",
       "      <td>102900</td>\n",
       "      <td>계약확정</td>\n",
       "      <td>0</td>\n",
       "      <td>없음</td>\n",
       "      <td>2.0</td>\n",
       "      <td>현대카드</td>\n",
       "      <td>정상</td>\n",
       "      <td>62.0</td>\n",
       "      <td>2532.0</td>\n",
       "    </tr>\n",
       "  </tbody>\n",
       "</table>\n",
       "</div>"
      ],
      "text/plain": [
       "         id type_of_contract type_of_contract2 channel    datetime  Term  \\\n",
       "0  66758234               렌탈            Normal  서비스 방문  2019-10-20    60   \n",
       "1  66755948               렌탈  Extension_Rental  서비스 방문  2019-10-20    60   \n",
       "\n",
       "  payment_type product  amount state  overdue_count overdue  credit rating  \\\n",
       "0          CMS      K1   96900  계약확정              0      없음            9.0   \n",
       "1         카드이체      K1  102900  계약확정              0      없음            2.0   \n",
       "\n",
       "    bank cancellation   age  Mileage  \n",
       "0  새마을금고           정상  43.0   1862.0  \n",
       "1   현대카드           정상  62.0   2532.0  "
      ]
     },
     "execution_count": 2,
     "metadata": {},
     "output_type": "execute_result"
    }
   ],
   "source": [
    "df_TOCC = pd.read_csv('../../datasets/TypeOfContractChannel.csv')\n",
    "df_TOCC[:2]"
   ]
  },
  {
   "cell_type": "code",
   "execution_count": 4,
   "id": "05e06153-a2fe-47d6-a335-5c2e1d2d1034",
   "metadata": {
    "tags": []
   },
   "outputs": [
    {
     "data": {
      "text/html": [
       "<div>\n",
       "<style scoped>\n",
       "    .dataframe tbody tr th:only-of-type {\n",
       "        vertical-align: middle;\n",
       "    }\n",
       "\n",
       "    .dataframe tbody tr th {\n",
       "        vertical-align: top;\n",
       "    }\n",
       "\n",
       "    .dataframe thead th {\n",
       "        text-align: right;\n",
       "    }\n",
       "</style>\n",
       "<table border=\"1\" class=\"dataframe\">\n",
       "  <thead>\n",
       "    <tr style=\"text-align: right;\">\n",
       "      <th></th>\n",
       "      <th>id</th>\n",
       "      <th>Term</th>\n",
       "      <th>amount</th>\n",
       "      <th>overdue_count</th>\n",
       "      <th>credit rating</th>\n",
       "      <th>age</th>\n",
       "      <th>Mileage</th>\n",
       "    </tr>\n",
       "  </thead>\n",
       "  <tbody>\n",
       "    <tr>\n",
       "      <th>count</th>\n",
       "      <td>5.130400e+04</td>\n",
       "      <td>51304.000000</td>\n",
       "      <td>51304.000000</td>\n",
       "      <td>51304.000000</td>\n",
       "      <td>42521.000000</td>\n",
       "      <td>40509.000000</td>\n",
       "      <td>40509.000000</td>\n",
       "    </tr>\n",
       "    <tr>\n",
       "      <th>mean</th>\n",
       "      <td>6.266457e+07</td>\n",
       "      <td>55.638527</td>\n",
       "      <td>93994.980021</td>\n",
       "      <td>0.161040</td>\n",
       "      <td>3.428894</td>\n",
       "      <td>46.608285</td>\n",
       "      <td>1967.922412</td>\n",
       "    </tr>\n",
       "    <tr>\n",
       "      <th>std</th>\n",
       "      <td>1.216115e+07</td>\n",
       "      <td>12.010117</td>\n",
       "      <td>15305.147334</td>\n",
       "      <td>1.122356</td>\n",
       "      <td>2.213590</td>\n",
       "      <td>13.465977</td>\n",
       "      <td>436.707329</td>\n",
       "    </tr>\n",
       "    <tr>\n",
       "      <th>min</th>\n",
       "      <td>2.568798e+07</td>\n",
       "      <td>12.000000</td>\n",
       "      <td>54603.000000</td>\n",
       "      <td>-1.000000</td>\n",
       "      <td>0.000000</td>\n",
       "      <td>20.000000</td>\n",
       "      <td>872.000000</td>\n",
       "    </tr>\n",
       "    <tr>\n",
       "      <th>25%</th>\n",
       "      <td>6.643149e+07</td>\n",
       "      <td>60.000000</td>\n",
       "      <td>81900.000000</td>\n",
       "      <td>0.000000</td>\n",
       "      <td>1.000000</td>\n",
       "      <td>37.000000</td>\n",
       "      <td>1646.000000</td>\n",
       "    </tr>\n",
       "    <tr>\n",
       "      <th>50%</th>\n",
       "      <td>6.676578e+07</td>\n",
       "      <td>60.000000</td>\n",
       "      <td>96900.000000</td>\n",
       "      <td>0.000000</td>\n",
       "      <td>3.000000</td>\n",
       "      <td>46.000000</td>\n",
       "      <td>1946.000000</td>\n",
       "    </tr>\n",
       "    <tr>\n",
       "      <th>75%</th>\n",
       "      <td>6.678161e+07</td>\n",
       "      <td>60.000000</td>\n",
       "      <td>98400.000000</td>\n",
       "      <td>0.000000</td>\n",
       "      <td>5.000000</td>\n",
       "      <td>56.000000</td>\n",
       "      <td>2263.000000</td>\n",
       "    </tr>\n",
       "    <tr>\n",
       "      <th>max</th>\n",
       "      <td>6.696986e+07</td>\n",
       "      <td>60.000000</td>\n",
       "      <td>215700.000000</td>\n",
       "      <td>15.000000</td>\n",
       "      <td>10.000000</td>\n",
       "      <td>107.000000</td>\n",
       "      <td>3803.000000</td>\n",
       "    </tr>\n",
       "  </tbody>\n",
       "</table>\n",
       "</div>"
      ],
      "text/plain": [
       "                 id          Term         amount  overdue_count  \\\n",
       "count  5.130400e+04  51304.000000   51304.000000   51304.000000   \n",
       "mean   6.266457e+07     55.638527   93994.980021       0.161040   \n",
       "std    1.216115e+07     12.010117   15305.147334       1.122356   \n",
       "min    2.568798e+07     12.000000   54603.000000      -1.000000   \n",
       "25%    6.643149e+07     60.000000   81900.000000       0.000000   \n",
       "50%    6.676578e+07     60.000000   96900.000000       0.000000   \n",
       "75%    6.678161e+07     60.000000   98400.000000       0.000000   \n",
       "max    6.696986e+07     60.000000  215700.000000      15.000000   \n",
       "\n",
       "       credit rating           age       Mileage  \n",
       "count   42521.000000  40509.000000  40509.000000  \n",
       "mean        3.428894     46.608285   1967.922412  \n",
       "std         2.213590     13.465977    436.707329  \n",
       "min         0.000000     20.000000    872.000000  \n",
       "25%         1.000000     37.000000   1646.000000  \n",
       "50%         3.000000     46.000000   1946.000000  \n",
       "75%         5.000000     56.000000   2263.000000  \n",
       "max        10.000000    107.000000   3803.000000  "
      ]
     },
     "execution_count": 4,
     "metadata": {},
     "output_type": "execute_result"
    }
   ],
   "source": [
    "df_TOCC.describe()"
   ]
  },
  {
   "cell_type": "code",
   "execution_count": 5,
   "id": "7e016255-53c7-48ad-a983-0a1a05ccdf99",
   "metadata": {
    "tags": []
   },
   "outputs": [
    {
     "data": {
      "text/plain": [
       "Index(['id', 'type_of_contract', 'type_of_contract2', 'channel', 'datetime',\n",
       "       'Term', 'payment_type', 'product', 'amount', 'state', 'overdue_count',\n",
       "       'overdue', 'credit rating', 'bank', 'cancellation', 'age', 'Mileage'],\n",
       "      dtype='object')"
      ]
     },
     "execution_count": 5,
     "metadata": {},
     "output_type": "execute_result"
    }
   ],
   "source": [
    "df_TOCC.columns"
   ]
  },
  {
   "cell_type": "code",
   "execution_count": 6,
   "id": "b714aa6f-9bab-4755-ab8d-6e570c453ca6",
   "metadata": {
    "tags": []
   },
   "outputs": [
    {
     "data": {
      "image/png": "[encoded data removed]",
      "text/plain": [
       "<Figure size 640x480 with 1 Axes>"
      ]
     },
     "metadata": {},
     "output_type": "display_data"
    }
   ],
   "source": [
    "sns.barplot(data=df_TOCC, x='product', y='amount') #일단 시각화\n",
    "plt.show()"
   ]
  },
  {
   "cell_type": "markdown",
   "id": "aae82de3-7df2-4a8e-a99b-a8c54f364838",
   "metadata": {},
   "source": [
    "### TOP 3"
   ]
  },
  {
   "cell_type": "code",
   "execution_count": 12,
   "id": "04e910cf-2660-4535-a1e0-4131074daf59",
   "metadata": {
    "tags": []
   },
   "outputs": [
    {
     "data": {
      "text/plain": [
       "['K1', 'K2', 'K3']"
      ]
     },
     "execution_count": 12,
     "metadata": {},
     "output_type": "execute_result"
    }
   ],
   "source": [
    "df_TOCC_sum = pd.pivot_table(data=df_TOCC, index='product', values='amount', aggfunc=sum)\n",
    "df_TOCC_top_list = df_TOCC_sum.sort_values(by='amount', ascending=False).iloc[:3].index.to_list()\n",
    "df_TOCC_top_list"
   ]
  },
  {
   "cell_type": "code",
   "execution_count": 14,
   "id": "53d838a2-8ffe-42f8-b97c-d44d8b64e7ec",
   "metadata": {
    "tags": []
   },
   "outputs": [
    {
     "data": {
      "text/plain": [
       "<Axes: xlabel='product', ylabel='amount'>"
      ]
     },
     "execution_count": 14,
     "metadata": {},
     "output_type": "execute_result"
    },
    {
     "data": {
      "image/png": "[encoded data removed]",
      "text/plain": [
       "<Figure size 640x480 with 1 Axes>"
      ]
     },
     "metadata": {},
     "output_type": "display_data"
    }
   ],
   "source": [
    "sns.barplot(data=df_TOCC, x='product', y='amount', estimator=sum, order=df_TOCC_top_list,hue = 'type_of_contract2' )"
   ]
  },
  {
   "cell_type": "code",
   "execution_count": null,
   "id": "5420b9b8-1f88-45a0-826b-8cf7ce12156c",
   "metadata": {},
   "outputs": [],
   "source": []
  }
 ],
 "metadata": {
  "kernelspec": {
   "display_name": "Python 3 (ipykernel)",
   "language": "python",
   "name": "python3"
  },
  "language_info": {
   "codemirror_mode": {
    "name": "ipython",
    "version": 3
   },
   "file_extension": ".py",
   "mimetype": "text/x-python",
   "name": "python",
   "nbconvert_exporter": "python",
   "pygments_lexer": "ipython3",
   "version": "3.11.3"
  }
 },
 "nbformat": 4,
 "nbformat_minor": 5
}
